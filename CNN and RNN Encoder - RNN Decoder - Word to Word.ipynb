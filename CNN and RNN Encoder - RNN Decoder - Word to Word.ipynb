{
 "cells": [
  {
   "cell_type": "markdown",
   "metadata": {},
   "source": [
    "CNN and RNN Encoder - RNN Decoder - Word to Word\n",
    "===="
   ]
  },
  {
   "cell_type": "code",
   "execution_count": 1,
   "metadata": {},
   "outputs": [],
   "source": [
    "import tensorflow as tf\n",
    "import tensorflow_datasets as tfds\n",
    "import numpy as np\n",
    "import io\n",
    "import sys\n",
    "import time\n",
    "import glob\n",
    "from rouge import Rouge\n",
    "import pickle\n",
    "import matplotlib.pyplot as plt\n",
    "from nltk.translate.bleu_score import corpus_bleu, sentence_bleu\n",
    "\n",
    "AUTOTUNE = tf.data.experimental.AUTOTUNE\n",
    "\n",
    "tf.config.experimental_run_functions_eagerly(True)\n",
    "physical_devices = tf.config.experimental.list_physical_devices('GPU')\n",
    "tf.config.experimental.set_memory_growth(physical_devices[0], True)"
   ]
  },
  {
   "cell_type": "code",
   "execution_count": 2,
   "metadata": {},
   "outputs": [],
   "source": [
    "# Read a file and return a string\n",
    "def load_doc(filename):\n",
    "    file = open(filename, 'r')\n",
    "    text = file.read()\n",
    "    file.close()\n",
    "    return text"
   ]
  },
  {
   "cell_type": "markdown",
   "metadata": {},
   "source": [
    "Data Transformation\n",
    "----"
   ]
  },
  {
   "cell_type": "code",
   "execution_count": 3,
   "metadata": {},
   "outputs": [
    {
     "name": "stdout",
     "output_type": "stream",
     "text": [
      "b'..\\\\data_collection\\\\webpages\\\\PIX2CODE_COMPILED\\\\00150311-A7AE-4804-8B7D-9273687B4FC0.png'\n",
      "b'..\\\\data_collection\\\\webpages\\\\PIX2CODE_COMPILED\\\\00190F39-0DE9-47EB-B0C2-856FDD3ACE62.png'\n",
      "b'..\\\\data_collection\\\\webpages\\\\PIX2CODE_COMPILED\\\\00779BBE-DD64-4909-9909-24F5C8044A7B.png'\n",
      "b'..\\\\data_collection\\\\webpages\\\\PIX2CODE_COMPILED\\\\00CDC9A8-3D73-4291-90EF-49178E408797.png'\n",
      "b'..\\\\data_collection\\\\webpages\\\\PIX2CODE_COMPILED\\\\00E15BB2-5568-4466-BA18-A8A8D34FC61C.png'\n"
     ]
    }
   ],
   "source": [
    "dir_name = 'PIX2CODE_COMPILED'\n",
    "data_dir = '../data_collection/webpages/' + dir_name\n",
    "\n",
    "IMG_WIDTH = 299\n",
    "IMG_HEIGHT = 299\n",
    "\n",
    "# get all image filepaths\n",
    "list_img = tf.data.Dataset.list_files(str(data_dir + \"/*.png\"), shuffle=False)\n",
    "\n",
    "DATASET_SIZE = len(glob.glob(data_dir + \"/*.png\"))\n",
    "\n",
    "for f in list_img.take(5):\n",
    "    print(f.numpy())"
   ]
  },
  {
   "cell_type": "markdown",
   "metadata": {},
   "source": [
    "**Image Processing**"
   ]
  },
  {
   "cell_type": "code",
   "execution_count": 4,
   "metadata": {},
   "outputs": [],
   "source": [
    "# decodes an image string\n",
    "@tf.function\n",
    "def decode_img(img):\n",
    "    # convert the compressed string to a 3D uint8 tensor\n",
    "    img = tf.image.decode_png(img, channels=3)\n",
    "    # Use `convert_image_dtype` to convert to floats in the [0,1] range.\n",
    "    img = tf.image.convert_image_dtype(img, tf.float32)\n",
    "    # resize the image to the desired size.\n",
    "    return tf.image.resize(img, [IMG_WIDTH, IMG_HEIGHT])"
   ]
  },
  {
   "cell_type": "markdown",
   "metadata": {},
   "source": [
    "**Sequence Processing**"
   ]
  },
  {
   "cell_type": "code",
   "execution_count": 5,
   "metadata": {},
   "outputs": [],
   "source": [
    "tokenizer = tf.keras.preprocessing.text.Tokenizer(filters='', split=\" \", lower=False)\n",
    "# Create the vocabulary \n",
    "tokenizer.fit_on_texts([load_doc('./DSL.vocab')])\n",
    "\n",
    "# Add padding\n",
    "tokenizer.word_index['<PAD>'] = 0\n",
    "tokenizer.index_word[0] = '<PAD>'"
   ]
  },
  {
   "cell_type": "code",
   "execution_count": 6,
   "metadata": {},
   "outputs": [],
   "source": [
    "def tokenizer_lookup(word):\n",
    "    return tokenizer.word_index[word.numpy().decode()]\n",
    "\n",
    "# tensorflow way to convert text to sequence with tokenizer\n",
    "@tf.function\n",
    "def text_to_seq(text, tokenizer):\n",
    "    spl = tf.map_fn(lambda t: tf.py_function(func=tokenizer_lookup, inp=[t], Tout=tf.int32), text, dtype=\"int32\")\n",
    "    return spl"
   ]
  },
  {
   "cell_type": "code",
   "execution_count": 7,
   "metadata": {},
   "outputs": [],
   "source": [
    "# converts image filepath to its label\n",
    "@tf.function\n",
    "def get_seq(file_path):\n",
    "    # convert from png to gui file\n",
    "    path = tf.strings.regex_replace(file_path, \".png\", \".gui\")\n",
    "    # read contents and return\n",
    "    label = tf.constant(\"<START> \") + tf.io.read_file(path) + tf.constant(\" <END>\")\n",
    "    return tf.strings.split(label)"
   ]
  },
  {
   "cell_type": "code",
   "execution_count": 8,
   "metadata": {},
   "outputs": [
    {
     "name": "stdout",
     "output_type": "stream",
     "text": [
      "{1: '{', 2: '}', 3: '<START>', 4: '<END>', 5: 'Body', 6: 'Block', 7: 'Container', 8: 'Row', 9: 'Column', 10: 'Header', 11: 'Footer', 12: 'Paragraph', 13: 'Image', 14: 'Button', 15: 'Subtitle', 16: 'Title', 17: 'Link', 18: 'TextBox', 19: 'CheckBox', 20: 'RadioBox', 21: 'Range', 0: '<PAD>'}\n"
     ]
    }
   ],
   "source": [
    "print(tokenizer.index_word)"
   ]
  },
  {
   "cell_type": "markdown",
   "metadata": {},
   "source": [
    "**Combine and Split Datasets**"
   ]
  },
  {
   "cell_type": "code",
   "execution_count": 9,
   "metadata": {},
   "outputs": [],
   "source": [
    "# does all processing per dataset image path\n",
    "@tf.function\n",
    "def process_path(file_path):\n",
    "    # load the raw data from the file as a string\n",
    "    img = tf.io.read_file(file_path)\n",
    "    img = decode_img(img)\n",
    "    \n",
    "    seq = get_seq(file_path)\n",
    "    seq = text_to_seq(seq, tokenizer)\n",
    "    return img, seq"
   ]
  },
  {
   "cell_type": "code",
   "execution_count": 10,
   "metadata": {},
   "outputs": [],
   "source": [
    "dataset = list_img.map(process_path, num_parallel_calls=AUTOTUNE)"
   ]
  },
  {
   "cell_type": "code",
   "execution_count": 11,
   "metadata": {},
   "outputs": [],
   "source": [
    "max_length = dataset.map(lambda _, y: tf.size(y), num_parallel_calls=AUTOTUNE)\n",
    "max_length = max_length.reduce(tf.constant(0), lambda x, y: tf.math.maximum(x, y))"
   ]
  },
  {
   "cell_type": "code",
   "execution_count": 12,
   "metadata": {},
   "outputs": [
    {
     "name": "stdout",
     "output_type": "stream",
     "text": [
      "Image shape:  (299, 299, 3)\n",
      "Sequence:  ['<START> Body { Header { Button Link Link Link } Row { Column { Subtitle Paragraph Button } } Row { Column { Subtitle Paragraph Button } Column { Subtitle Paragraph Button } } Row { Column { Subtitle Paragraph Button } Column { Subtitle Paragraph Button } } } <END> <PAD> <PAD> <PAD> <PAD> <PAD> <PAD> <PAD> <PAD> <PAD> <PAD> <PAD> <PAD> <PAD> <PAD> <PAD> <PAD> <PAD> <PAD> <PAD> <PAD> <PAD> <PAD> <PAD> <PAD> <PAD> <PAD> <PAD> <PAD> <PAD> <PAD> <PAD> <PAD> <PAD> <PAD> <PAD> <PAD> <PAD> <PAD> <PAD> <PAD> <PAD> <PAD>']\n"
     ]
    },
    {
     "data": {
      "image/png": "[encoded data removed]",
      "text/plain": [
       "<Figure size 432x288 with 1 Axes>"
      ]
     },
     "metadata": {
      "needs_background": "light"
     },
     "output_type": "display_data"
    }
   ],
   "source": [
    "dataset = dataset.map(lambda x, y: (x, tf.concat([y, tf.repeat(0, max_length - tf.size(y))], -1)))\n",
    "\n",
    "for image, seq in dataset.take(1):\n",
    "    print(\"Image shape: \", image.numpy().shape)\n",
    "    print(\"Sequence: \", tokenizer.sequences_to_texts([seq.numpy()]))\n",
    "    plt.imshow(image.numpy())"
   ]
  },
  {
   "cell_type": "code",
   "execution_count": 13,
   "metadata": {},
   "outputs": [],
   "source": [
    "train_size = int(DATASET_SIZE * 0.7)\n",
    "val_size = int(DATASET_SIZE * 0.1)\n",
    "train_dataset = dataset.take(train_size)\n",
    "val_dataset = dataset.skip(train_size).take(val_size)\n",
    "test_dataset = dataset.skip(train_size + val_size)"
   ]
  },
  {
   "cell_type": "code",
   "execution_count": 14,
   "metadata": {},
   "outputs": [],
   "source": [
    "BATCH_SIZE = 8\n",
    "BUFFER_SIZE = 50\n",
    "embedding_dim = 16\n",
    "encoder_units = 128\n",
    "decoder_units = 256\n",
    "num_steps = train_size // BATCH_SIZE\n",
    "num_val_steps = val_size // BATCH_SIZE\n",
    "vocab_size = len(tokenizer.word_index) + 1\n",
    "\n",
    "train_dataset = train_dataset.shuffle(BUFFER_SIZE).batch(BATCH_SIZE, drop_remainder=True)\n",
    "train_dataset = train_dataset.prefetch(buffer_size=tf.data.experimental.AUTOTUNE)\n",
    "val_dataset = val_dataset.shuffle(BUFFER_SIZE).batch(BATCH_SIZE, drop_remainder=True)\n",
    "val_dataset = val_dataset.prefetch(buffer_size=tf.data.experimental.AUTOTUNE)"
   ]
  },
  {
   "cell_type": "markdown",
   "metadata": {},
   "source": [
    "Model Definition\n",
    "----"
   ]
  },
  {
   "cell_type": "code",
   "execution_count": 15,
   "metadata": {},
   "outputs": [],
   "source": [
    "class CNN_Encoder(tf.keras.Model):\n",
    "    def __init__(self, embedding_dim):\n",
    "        super(CNN_Encoder, self).__init__()\n",
    "        self.model = tf.keras.models.Sequential()\n",
    "        self.model.add(tf.keras.layers.Conv2D(16, (3, 3), padding='valid', activation='relu', input_shape=(IMG_WIDTH, IMG_HEIGHT, 3,)))\n",
    "        self.model.add(tf.keras.layers.Conv2D(16, (3,3), activation='relu', padding='same', strides=2))\n",
    "        self.model.add(tf.keras.layers.Dropout(0.2))\n",
    "        self.model.add(tf.keras.layers.Conv2D(32, (3,3), activation='relu', padding='same'))\n",
    "        self.model.add(tf.keras.layers.Conv2D(32, (3,3), activation='relu', padding='same', strides=2))\n",
    "        self.model.add(tf.keras.layers.Dropout(0.2))\n",
    "        self.model.add(tf.keras.layers.Conv2D(64, (3,3), activation='relu', padding='same'))\n",
    "        self.model.add(tf.keras.layers.Conv2D(64, (3,3), activation='relu', padding='same', strides=2))\n",
    "        self.model.add(tf.keras.layers.Dropout(0.2))\n",
    "        self.model.add(tf.keras.layers.Conv2D(128, (3,3), activation='relu', padding='same'))\n",
    "\n",
    "        self.model.add(tf.keras.layers.Flatten())\n",
    "        self.model.add(tf.keras.layers.Dense(512, activation='relu'))\n",
    "        self.model.add(tf.keras.layers.Dropout(0.2))\n",
    "        self.model.add(tf.keras.layers.Dense(512, activation='relu'))\n",
    "        self.model.add(tf.keras.layers.Dropout(0.2))\n",
    "        \n",
    "    def call(self, x):\n",
    "        x = self.model(x)\n",
    "        return x"
   ]
  },
  {
   "cell_type": "code",
   "execution_count": 16,
   "metadata": {},
   "outputs": [],
   "source": [
    "class RNN_Encoder(tf.keras.Model):\n",
    "    def __init__(self, embedding_dim, units, vocab_size, max_length):\n",
    "        super(RNN_Encoder, self).__init__()\n",
    "        self.units = units\n",
    "        self.embedding = tf.keras.layers.Embedding(vocab_size, embedding_dim, input_length=max_length)\n",
    "        self.gru = tf.keras.models.Sequential()\n",
    "        self.gru.add(tf.keras.layers.GRU(self.units,\n",
    "                                   return_sequences=True,\n",
    "                                   dropout=0.2,\n",
    "                                   recurrent_initializer='glorot_uniform'))\n",
    "        self.gru.add(tf.keras.layers.GRU(self.units,\n",
    "                                   return_sequences=True,\n",
    "                                   dropout=0.2,\n",
    "                                   recurrent_initializer='glorot_uniform'))\n",
    "        self.gru.add(tf.keras.layers.TimeDistributed(tf.keras.layers.Dense(units, activation='relu')))\n",
    "        \n",
    "    def call(self, x):\n",
    "        x = self.embedding(x)\n",
    "        x = self.gru(x)\n",
    "        \n",
    "        return x\n",
    "        \n",
    "    def reset_state(self, batch_size):\n",
    "        return tf.zeros((batch_size, self.units))"
   ]
  },
  {
   "cell_type": "code",
   "execution_count": 17,
   "metadata": {},
   "outputs": [],
   "source": [
    "class CNN_RNN_Encoder(tf.keras.Model):\n",
    "    def __init__(self, embedding_dim, units, vocab_size, max_length):\n",
    "        super(CNN_RNN_Encoder, self).__init__()\n",
    "        self.rnn = RNN_Encoder(embedding_dim, units, vocab_size, max_length)\n",
    "        self.cnn = CNN_Encoder(embedding_dim)\n",
    "        self.rep = tf.keras.layers.RepeatVector(1)\n",
    "        self.features = None\n",
    "        \n",
    "    def call(self, seq, img=None):\n",
    "        if img is None and self.features is None:\n",
    "            print(\"Error, img and features None\")\n",
    "            return\n",
    "        elif img is not None:\n",
    "            self.features = self.cnn(img)\n",
    "            \n",
    "        feat = self.rep(self.features)\n",
    "            \n",
    "        seq = self.rnn(seq)\n",
    "        \n",
    "        x = tf.keras.layers.concatenate([feat, seq])\n",
    "        return x\n",
    "    \n",
    "    def set_features(self, img):\n",
    "        self.features = self.cnn(img)\n",
    "    \n",
    "    def reset_state(self, batch_size):\n",
    "        self.features = None\n",
    "        return self.rnn.reset_state(batch_size)"
   ]
  },
  {
   "cell_type": "code",
   "execution_count": 18,
   "metadata": {},
   "outputs": [],
   "source": [
    "class RNN_Decoder(tf.keras.Model):\n",
    "    def __init__(self, units, vocab_size):\n",
    "        super(RNN_Decoder, self).__init__()\n",
    "        self.units = units\n",
    "        self.gru = tf.keras.models.Sequential()\n",
    "        self.gru.add(tf.keras.layers.GRU(self.units,\n",
    "                                   return_sequences=True,\n",
    "                                   dropout=0.2,\n",
    "                                   recurrent_initializer='glorot_uniform'))\n",
    "        self.gru.add(tf.keras.layers.GRU(self.units,\n",
    "                                   return_sequences=False,\n",
    "                                   dropout=0.2,\n",
    "                                   recurrent_initializer='glorot_uniform'))\n",
    "        self.fc = tf.keras.layers.Dense(units)\n",
    "        self.fc2 = tf.keras.layers.Dense(vocab_size)\n",
    "        \n",
    "    def call(self, x):    \n",
    "        x = self.gru(x)\n",
    "        \n",
    "        x = self.fc(x)\n",
    "        x = self.fc2(x)\n",
    "        \n",
    "        return x\n",
    "    \n",
    "    def reset_state(self, batch_size):\n",
    "        return tf.zeros((batch_size, self.units))"
   ]
  },
  {
   "cell_type": "code",
   "execution_count": 19,
   "metadata": {},
   "outputs": [],
   "source": [
    "class RNN_Encoder_Decoder(tf.keras.Model):\n",
    "    def __init__(self, embedding_dim, units, vocab_size, max_length):\n",
    "        super(RNN_Encoder_Decoder, self).__init__()\n",
    "        self.units = units\n",
    "        self.embedding = tf.keras.layers.Embedding(vocab_size, embedding_dim)\n",
    "        self.gru1 = tf.keras.layers.GRU(self.units,\n",
    "                                   return_sequences=True,\n",
    "                                   dropout=0.2,\n",
    "                                   recurrent_initializer='glorot_uniform')\n",
    "        self.gru2 = tf.keras.layers.GRU(self.units,\n",
    "                                   return_sequences=False,\n",
    "                                   recurrent_initializer='glorot_uniform')\n",
    "        self.fc1 = tf.keras.layers.Dense(self.units)\n",
    "        self.fc2 = tf.keras.layers.Dense(vocab_size)\n",
    "        \n",
    "        self.rep = tf.keras.layers.RepeatVector(max_length)\n",
    "        \n",
    "    def call(self, x, features):\n",
    "        x = self.embedding(x)\n",
    "        \n",
    "        feat = self.rep(features)\n",
    "    \n",
    "        x = tf.keras.layers.concatenate([feat, x])\n",
    "        \n",
    "        output = self.gru2(self.gru1(x))\n",
    "\n",
    "        x = self.fc1(output)\n",
    "\n",
    "        # x = tf.reshape(x, (-1, x.shape[2]))\n",
    "\n",
    "        x = self.fc2(x)\n",
    "        \n",
    "        return x\n",
    "    \n",
    "    def reset_state(self, batch_size):\n",
    "        return tf.zeros((batch_size, self.units))"
   ]
  },
  {
   "cell_type": "code",
   "execution_count": 20,
   "metadata": {},
   "outputs": [],
   "source": [
    "encoder = CNN_RNN_Encoder(embedding_dim, encoder_units, vocab_size, max_length)\n",
    "decoder = RNN_Decoder(decoder_units, vocab_size)"
   ]
  },
  {
   "cell_type": "code",
   "execution_count": 21,
   "metadata": {},
   "outputs": [],
   "source": [
    "optimizer = tf.keras.optimizers.Adam()\n",
    "loss_object = tf.keras.losses.SparseCategoricalCrossentropy(from_logits=True, reduction='none')\n",
    "\n",
    "def loss_function(real, pred):\n",
    "    mask = tf.math.logical_not(tf.math.equal(real, 0))\n",
    "    loss_ = loss_object(real, pred)\n",
    "\n",
    "    mask = tf.cast(mask, dtype=loss_.dtype)\n",
    "    loss_ *= mask\n",
    "\n",
    "    return tf.reduce_mean(loss_)"
   ]
  },
  {
   "cell_type": "code",
   "execution_count": 22,
   "metadata": {},
   "outputs": [],
   "source": [
    "checkpoint_path = \"./checkpoints/cnnrnn_rnn_w2w\"\n",
    "ckpt = tf.train.Checkpoint(encoder=encoder,\n",
    "                           decoder=decoder,\n",
    "                           optimizer = optimizer)\n",
    "ckpt_manager = tf.train.CheckpointManager(ckpt, checkpoint_path, max_to_keep=5)"
   ]
  },
  {
   "cell_type": "code",
   "execution_count": 23,
   "metadata": {},
   "outputs": [],
   "source": [
    "start_epoch = 0\n",
    "if ckpt_manager.latest_checkpoint:\n",
    "    start_epoch = int(ckpt_manager.latest_checkpoint.split('-')[-1])\n",
    "    # restoring the latest checkpoint in checkpoint_path\n",
    "    ckpt.restore(ckpt_manager.latest_checkpoint)"
   ]
  },
  {
   "cell_type": "markdown",
   "metadata": {},
   "source": [
    "Model Training\n",
    "----"
   ]
  },
  {
   "cell_type": "code",
   "execution_count": 24,
   "metadata": {},
   "outputs": [],
   "source": [
    "# adding this in a separate cell because if you run the training cell\n",
    "# many times, the loss_plot array will be reset\n",
    "loss_plot = []\n",
    "val_plot = []"
   ]
  },
  {
   "cell_type": "code",
   "execution_count": 25,
   "metadata": {},
   "outputs": [],
   "source": [
    "@tf.function\n",
    "def train_step(img_tensor, target, val=False):\n",
    "    loss = 0\n",
    "\n",
    "    # initializing the hidden state for each batch\n",
    "    # because the captions are not related from image to image\n",
    "    hidden = decoder.reset_state(batch_size=target.shape[0])\n",
    "\n",
    "    dec_input = tf.expand_dims([tokenizer.word_index['<START>']] * target.shape[0], 1)\n",
    "    \n",
    "    if val:\n",
    "        encoder.set_features(img_tensor)\n",
    "\n",
    "        for i in range(1, target.shape[1]):\n",
    "            features = encoder(dec_input)\n",
    "            # passing the features through the decoder\n",
    "            predictions = decoder(features)\n",
    "\n",
    "            loss += loss_function(target[:, i], predictions)\n",
    "\n",
    "            # using teacher forcing\n",
    "            dec_input = tf.expand_dims(target[:, i], 1)\n",
    "        total_loss = (loss / int(target.shape[1]))\n",
    "        return loss, total_loss\n",
    "\n",
    "    with tf.GradientTape() as tape:\n",
    "        encoder.set_features(img_tensor)\n",
    "\n",
    "        for i in range(1, target.shape[1]):\n",
    "            features = encoder(dec_input)\n",
    "            # passing the features through the decoder\n",
    "            predictions = decoder(features)\n",
    "\n",
    "            loss += loss_function(target[:, i], predictions)\n",
    "\n",
    "            # using teacher forcing\n",
    "            dec_input = tf.expand_dims(target[:, i], 1)\n",
    "\n",
    "    total_loss = (loss / int(target.shape[1]))\n",
    "\n",
    "    trainable_variables = encoder.trainable_variables + decoder.trainable_variables\n",
    "\n",
    "    gradients = tape.gradient(loss, trainable_variables)\n",
    "\n",
    "    optimizer.apply_gradients(zip(gradients, trainable_variables))\n",
    "\n",
    "    return loss, total_loss"
   ]
  },
  {
   "cell_type": "code",
   "execution_count": 26,
   "metadata": {
    "scrolled": true
   },
   "outputs": [
    {
     "name": "stdout",
     "output_type": "stream",
     "text": [
      "Epoch 1 Batch 0 Loss 1.8297\n",
      "Time taken for Batches 5.829552173614502 sec\n",
      "Epoch 1 Batch 20 Loss 1.2761\n",
      "Time taken for Batches 47.97864103317261 sec\n",
      "Epoch 1 Batch 40 Loss 1.3018\n",
      "Time taken for Batches 92.22690033912659 sec\n",
      "Epoch 1 Batch 60 Loss 1.3125\n",
      "Time taken for Batches 135.85337615013123 sec\n",
      "Epoch 1 Batch 80 Loss 1.2933\n",
      "Time taken for Batches 180.0875370502472 sec\n",
      "Epoch 1 Batch 100 Loss 1.3045\n",
      "Time taken for Batches 220.3943271636963 sec\n",
      "Epoch 1 Batch 120 Loss 1.3653\n",
      "Time taken for Batches 263.4793276786804 sec\n",
      "Epoch 1 Batch 140 Loss 1.1237\n",
      "Time taken for Batches 305.31565260887146 sec\n",
      "Epoch 1 Loss 1.292060 Val Loss 1.276230\n",
      "Time taken for 1 epoch 371.3514633178711 sec\n",
      "\n",
      "Epoch 2 Batch 0 Loss 1.3679\n",
      "Time taken for Batches 3.0936436653137207 sec\n",
      "Epoch 2 Batch 20 Loss 1.3867\n",
      "Time taken for Batches 45.39822053909302 sec\n",
      "Epoch 2 Batch 40 Loss 1.2092\n",
      "Time taken for Batches 85.74022054672241 sec\n",
      "Epoch 2 Batch 60 Loss 1.3027\n",
      "Time taken for Batches 125.48722052574158 sec\n",
      "Epoch 2 Batch 80 Loss 1.3954\n",
      "Time taken for Batches 168.35186290740967 sec\n",
      "Epoch 2 Batch 100 Loss 1.3932\n",
      "Time taken for Batches 209.45590710639954 sec\n",
      "Epoch 2 Batch 120 Loss 1.3144\n",
      "Time taken for Batches 248.36790823936462 sec\n",
      "Epoch 2 Batch 140 Loss 1.2466\n",
      "Time taken for Batches 288.49090099334717 sec\n",
      "Epoch 2 Loss 1.281100 Val Loss 1.279236\n",
      "Time taken for 1 epoch 354.29310870170593 sec\n",
      "\n",
      "Epoch 3 Batch 0 Loss 1.3382\n",
      "Time taken for Batches 3.3630003929138184 sec\n",
      "Epoch 3 Batch 20 Loss 1.3411\n",
      "Time taken for Batches 46.94368124008179 sec\n",
      "Epoch 3 Batch 40 Loss 1.3967\n",
      "Time taken for Batches 90.83148050308228 sec\n",
      "Epoch 3 Batch 60 Loss 1.3878\n",
      "Time taken for Batches 133.3445553779602 sec\n",
      "Epoch 3 Batch 80 Loss 1.3733\n",
      "Time taken for Batches 174.02955436706543 sec\n",
      "Epoch 3 Batch 100 Loss 1.3889\n",
      "Time taken for Batches 217.47934246063232 sec\n",
      "Epoch 3 Batch 120 Loss 1.1498\n",
      "Time taken for Batches 261.62830209732056 sec\n",
      "Epoch 3 Batch 140 Loss 1.2446\n",
      "Time taken for Batches 304.85854291915894 sec\n",
      "Epoch 3 Loss 1.280494 Val Loss 1.277923\n",
      "Time taken for 1 epoch 371.3978087902069 sec\n",
      "\n",
      "Epoch 4 Batch 0 Loss 1.3369\n",
      "Time taken for Batches 3.3960070610046387 sec\n",
      "Epoch 4 Batch 20 Loss 1.2558\n",
      "Time taken for Batches 46.7085394859314 sec\n",
      "Epoch 4 Batch 40 Loss 1.1910\n",
      "Time taken for Batches 88.01470685005188 sec\n",
      "Epoch 4 Batch 60 Loss 1.3209\n",
      "Time taken for Batches 130.03215646743774 sec\n",
      "Epoch 4 Batch 80 Loss 1.1766\n",
      "Time taken for Batches 171.5779938697815 sec\n",
      "Epoch 4 Batch 100 Loss 1.3613\n",
      "Time taken for Batches 214.1571762561798 sec\n",
      "Epoch 4 Batch 120 Loss 1.2962\n",
      "Time taken for Batches 260.36726427078247 sec\n",
      "Epoch 4 Batch 140 Loss 1.1641\n",
      "Time taken for Batches 302.10488057136536 sec\n",
      "Epoch 4 Loss 1.280511 Val Loss 1.267573\n",
      "Time taken for 1 epoch 362.5756061077118 sec\n",
      "\n",
      "Epoch 5 Batch 0 Loss 1.2264\n",
      "Time taken for Batches 3.298652172088623 sec\n",
      "Epoch 5 Batch 20 Loss 1.2603\n",
      "Time taken for Batches 47.030519247055054 sec\n",
      "Epoch 5 Batch 40 Loss 1.1509\n",
      "Time taken for Batches 88.75123620033264 sec\n",
      "Epoch 5 Batch 60 Loss 1.2320\n",
      "Time taken for Batches 132.6045310497284 sec\n",
      "Epoch 5 Batch 80 Loss 1.3488\n",
      "Time taken for Batches 173.73057866096497 sec\n",
      "Epoch 5 Batch 100 Loss 1.3042\n",
      "Time taken for Batches 213.5215666294098 sec\n",
      "Epoch 5 Batch 120 Loss 1.3443\n",
      "Time taken for Batches 253.81753039360046 sec\n",
      "Epoch 5 Batch 140 Loss 1.1756\n",
      "Time taken for Batches 297.6434144973755 sec\n",
      "Epoch 5 Loss 1.280900 Val Loss 1.283331\n",
      "Time taken for 1 epoch 377.6609101295471 sec\n",
      "\n",
      "Epoch 6 Batch 0 Loss 1.3348\n",
      "Time taken for Batches 3.161000967025757 sec\n",
      "Epoch 6 Batch 20 Loss 1.2344\n",
      "Time taken for Batches 47.03851246833801 sec\n",
      "Epoch 6 Batch 40 Loss 1.2724\n",
      "Time taken for Batches 91.37504816055298 sec\n",
      "Epoch 6 Batch 60 Loss 1.2674\n",
      "Time taken for Batches 135.42466187477112 sec\n",
      "Epoch 6 Batch 80 Loss 1.1765\n",
      "Time taken for Batches 180.20783305168152 sec\n",
      "Epoch 6 Batch 100 Loss 1.2539\n",
      "Time taken for Batches 224.80645322799683 sec\n",
      "Epoch 6 Batch 120 Loss 1.3029\n",
      "Time taken for Batches 265.9628291130066 sec\n",
      "Epoch 6 Batch 140 Loss 1.2631\n",
      "Time taken for Batches 309.0804588794708 sec\n",
      "Epoch 6 Loss 1.280415 Val Loss 1.267515\n",
      "Time taken for 1 epoch 376.80309653282166 sec\n",
      "\n",
      "Epoch 7 Batch 0 Loss 1.1950\n",
      "Time taken for Batches 2.895000696182251 sec\n",
      "Epoch 7 Batch 20 Loss 1.3277\n",
      "Time taken for Batches 47.65630030632019 sec\n",
      "Epoch 7 Batch 40 Loss 1.2314\n",
      "Time taken for Batches 90.76430082321167 sec\n",
      "Epoch 7 Batch 60 Loss 1.3045\n",
      "Time taken for Batches 136.7493040561676 sec\n",
      "Epoch 7 Batch 80 Loss 1.1076\n",
      "Time taken for Batches 177.36230087280273 sec\n",
      "Epoch 7 Batch 100 Loss 1.3686\n",
      "Time taken for Batches 218.19030094146729 sec\n",
      "Epoch 7 Batch 120 Loss 1.1704\n",
      "Time taken for Batches 261.3013336658478 sec\n",
      "Epoch 7 Batch 140 Loss 1.2558\n",
      "Time taken for Batches 304.80869007110596 sec\n",
      "Epoch 7 Loss 1.280072 Val Loss 1.273524\n",
      "Time taken for 1 epoch 367.8009452819824 sec\n",
      "\n",
      "Epoch 8 Batch 0 Loss 1.3110\n",
      "Time taken for Batches 3.3320038318634033 sec\n",
      "Epoch 8 Batch 20 Loss 1.3830\n",
      "Time taken for Batches 47.29555606842041 sec\n",
      "Epoch 8 Batch 40 Loss 1.2473\n",
      "Time taken for Batches 91.20555567741394 sec\n",
      "Epoch 8 Batch 60 Loss 1.4054\n",
      "Time taken for Batches 137.02218580245972 sec\n",
      "Epoch 8 Batch 80 Loss 1.2834\n",
      "Time taken for Batches 184.66276454925537 sec\n",
      "Epoch 8 Batch 100 Loss 1.4483\n",
      "Time taken for Batches 227.51876425743103 sec\n",
      "Epoch 8 Batch 120 Loss 1.2845\n",
      "Time taken for Batches 267.14976358413696 sec\n",
      "Epoch 8 Batch 140 Loss 1.3528\n",
      "Time taken for Batches 306.9708001613617 sec\n",
      "Epoch 8 Loss 1.280037 Val Loss 1.270974\n",
      "Time taken for 1 epoch 369.37715196609497 sec\n",
      "\n",
      "Epoch 9 Batch 0 Loss 1.1472\n",
      "Time taken for Batches 2.9543120861053467 sec\n",
      "Epoch 9 Batch 20 Loss 1.3976\n",
      "Time taken for Batches 44.51440691947937 sec\n",
      "Epoch 9 Batch 40 Loss 1.1983\n",
      "Time taken for Batches 90.4575264453888 sec\n",
      "Epoch 9 Batch 60 Loss 1.2358\n",
      "Time taken for Batches 137.28517651557922 sec\n",
      "Epoch 9 Batch 80 Loss 1.2591\n",
      "Time taken for Batches 187.4930694103241 sec\n",
      "Epoch 9 Batch 100 Loss 1.2906\n",
      "Time taken for Batches 229.14306664466858 sec\n",
      "Epoch 9 Batch 120 Loss 1.2718\n",
      "Time taken for Batches 269.80185866355896 sec\n",
      "Epoch 9 Batch 140 Loss 1.0355\n",
      "Time taken for Batches 309.4107253551483 sec\n",
      "Epoch 9 Loss 1.280101 Val Loss 1.270990\n",
      "Time taken for 1 epoch 370.226726770401 sec\n",
      "\n",
      "Epoch 10 Batch 0 Loss 1.2647\n",
      "Time taken for Batches 2.899998664855957 sec\n",
      "Epoch 10 Batch 20 Loss 1.3172\n",
      "Time taken for Batches 43.95574617385864 sec\n",
      "Epoch 10 Batch 40 Loss 0.9332\n",
      "Time taken for Batches 85.15368175506592 sec\n",
      "Epoch 10 Batch 60 Loss 1.1549\n",
      "Time taken for Batches 126.16064596176147 sec\n",
      "Epoch 10 Batch 80 Loss 1.2186\n",
      "Time taken for Batches 165.77852964401245 sec\n",
      "Epoch 10 Batch 100 Loss 1.1958\n",
      "Time taken for Batches 206.618417263031 sec\n",
      "Epoch 10 Batch 120 Loss 1.3400\n",
      "Time taken for Batches 246.2393937110901 sec\n",
      "Epoch 10 Batch 140 Loss 1.1325\n",
      "Time taken for Batches 285.62839365005493 sec\n",
      "Epoch 10 Loss 1.279979 Val Loss 1.275961\n",
      "Time taken for 1 epoch 361.0909562110901 sec\n",
      "\n",
      "Epoch 11 Batch 0 Loss 1.3139\n",
      "Time taken for Batches 3.0310027599334717 sec\n",
      "Epoch 11 Batch 20 Loss 1.2685\n",
      "Time taken for Batches 43.7810001373291 sec\n",
      "Epoch 11 Batch 40 Loss 1.4140\n",
      "Time taken for Batches 83.19200110435486 sec\n",
      "Epoch 11 Batch 60 Loss 1.1557\n",
      "Time taken for Batches 122.36399960517883 sec\n",
      "Epoch 11 Batch 80 Loss 1.2270\n",
      "Time taken for Batches 161.9040002822876 sec\n",
      "Epoch 11 Batch 100 Loss 1.3811\n",
      "Time taken for Batches 202.6409990787506 sec\n",
      "Epoch 11 Batch 120 Loss 1.2800\n",
      "Time taken for Batches 241.96199941635132 sec\n",
      "Epoch 11 Batch 140 Loss 1.1595\n",
      "Time taken for Batches 282.3880739212036 sec\n",
      "Epoch 11 Loss 1.280753 Val Loss 1.270124\n",
      "Time taken for 1 epoch 343.3220727443695 sec\n",
      "\n",
      "Epoch 12 Batch 0 Loss 1.3310\n",
      "Time taken for Batches 2.9629998207092285 sec\n",
      "Epoch 12 Batch 20 Loss 1.2578\n",
      "Time taken for Batches 42.3919997215271 sec\n",
      "Epoch 12 Batch 40 Loss 1.4785\n",
      "Time taken for Batches 81.91885805130005 sec\n",
      "Epoch 12 Batch 60 Loss 1.2023\n",
      "Time taken for Batches 123.61086463928223 sec\n",
      "Epoch 12 Batch 80 Loss 1.4436\n",
      "Time taken for Batches 163.69687008857727 sec\n",
      "Epoch 12 Batch 100 Loss 1.2070\n",
      "Time taken for Batches 205.41585874557495 sec\n",
      "Epoch 12 Batch 120 Loss 1.2309\n",
      "Time taken for Batches 249.1048665046692 sec\n",
      "Epoch 12 Batch 140 Loss 1.1592\n",
      "Time taken for Batches 293.7508611679077 sec\n",
      "Epoch 12 Loss 1.279966 Val Loss 1.278131\n",
      "Time taken for 1 epoch 362.89185857772827 sec\n",
      "\n"
     ]
    },
    {
     "name": "stdout",
     "output_type": "stream",
     "text": [
      "Epoch 13 Batch 0 Loss 1.3618\n",
      "Time taken for Batches 3.28999924659729 sec\n",
      "Epoch 13 Batch 20 Loss 1.1625\n",
      "Time taken for Batches 48.23500084877014 sec\n",
      "Epoch 13 Batch 40 Loss 1.2722\n",
      "Time taken for Batches 92.62699937820435 sec\n",
      "Epoch 13 Batch 60 Loss 1.2630\n",
      "Time taken for Batches 137.3400001525879 sec\n",
      "Epoch 13 Batch 80 Loss 1.2303\n",
      "Time taken for Batches 183.51741337776184 sec\n",
      "Epoch 13 Batch 100 Loss 1.3183\n",
      "Time taken for Batches 232.341698884964 sec\n",
      "Epoch 13 Batch 120 Loss 1.3719\n",
      "Time taken for Batches 279.84069752693176 sec\n",
      "Epoch 13 Batch 140 Loss 1.3881\n",
      "Time taken for Batches 327.54161405563354 sec\n",
      "Epoch 13 Loss 1.279931 Val Loss 1.271401\n",
      "Time taken for 1 epoch 408.5869154930115 sec\n",
      "\n",
      "Epoch 14 Batch 0 Loss 1.2206\n",
      "Time taken for Batches 3.8376476764678955 sec\n",
      "Epoch 14 Batch 20 Loss 1.0778\n",
      "Time taken for Batches 58.66066789627075 sec\n",
      "Epoch 14 Batch 40 Loss 1.2066\n",
      "Time taken for Batches 112.27587652206421 sec\n",
      "Epoch 14 Batch 60 Loss 1.3324\n",
      "Time taken for Batches 166.26967239379883 sec\n",
      "Epoch 14 Batch 80 Loss 1.1999\n",
      "Time taken for Batches 225.08926153182983 sec\n",
      "Epoch 14 Batch 100 Loss 1.3846\n",
      "Time taken for Batches 291.0850532054901 sec\n",
      "Epoch 14 Batch 120 Loss 1.3035\n",
      "Time taken for Batches 353.3748970031738 sec\n",
      "Epoch 14 Batch 140 Loss 1.0178\n",
      "Time taken for Batches 421.91977548599243 sec\n",
      "Epoch 14 Loss 1.279926 Val Loss 1.273062\n",
      "Time taken for 1 epoch 509.6750822067261 sec\n",
      "\n",
      "Epoch 15 Batch 0 Loss 1.3166\n",
      "Time taken for Batches 4.867663383483887 sec\n",
      "Epoch 15 Batch 20 Loss 1.4088\n",
      "Time taken for Batches 60.648064851760864 sec\n",
      "Epoch 15 Batch 40 Loss 1.0491\n",
      "Time taken for Batches 114.2971875667572 sec\n",
      "Epoch 15 Batch 60 Loss 1.3428\n",
      "Time taken for Batches 169.790447473526 sec\n",
      "Epoch 15 Batch 80 Loss 1.1523\n",
      "Time taken for Batches 231.7581124305725 sec\n",
      "Epoch 15 Batch 100 Loss 1.2448\n",
      "Time taken for Batches 295.2715222835541 sec\n",
      "Epoch 15 Batch 120 Loss 1.0860\n",
      "Time taken for Batches 361.39878392219543 sec\n",
      "Epoch 15 Batch 140 Loss 1.2186\n",
      "Time taken for Batches 422.1682758331299 sec\n",
      "Epoch 15 Loss 1.280206 Val Loss 1.275318\n",
      "Time taken for 1 epoch 545.8317317962646 sec\n",
      "\n",
      "Epoch 16 Batch 0 Loss 1.4149\n",
      "Time taken for Batches 4.50800085067749 sec\n",
      "Epoch 16 Batch 20 Loss 1.3039\n",
      "Time taken for Batches 52.480998277664185 sec\n",
      "Epoch 16 Batch 40 Loss 1.2715\n",
      "Time taken for Batches 101.96200180053711 sec\n",
      "Epoch 16 Batch 60 Loss 1.2430\n",
      "Time taken for Batches 150.91182231903076 sec\n",
      "Epoch 16 Batch 80 Loss 1.1620\n",
      "Time taken for Batches 200.61917662620544 sec\n",
      "Epoch 16 Batch 100 Loss 1.1669\n",
      "Time taken for Batches 256.1034755706787 sec\n",
      "Epoch 16 Batch 120 Loss 1.3931\n",
      "Time taken for Batches 318.8001856803894 sec\n",
      "Epoch 16 Batch 140 Loss 1.2759\n",
      "Time taken for Batches 378.12759923934937 sec\n",
      "Epoch 16 Loss 1.279946 Val Loss 1.266402\n",
      "Time taken for 1 epoch 467.3923146724701 sec\n",
      "\n",
      "Epoch 17 Batch 0 Loss 1.2900\n",
      "Time taken for Batches 6.033956050872803 sec\n",
      "Epoch 17 Batch 20 Loss 1.0659\n",
      "Time taken for Batches 64.39322137832642 sec\n",
      "Epoch 17 Batch 40 Loss 1.2094\n",
      "Time taken for Batches 124.27579760551453 sec\n",
      "Epoch 17 Batch 60 Loss 1.4044\n",
      "Time taken for Batches 187.52380657196045 sec\n",
      "Epoch 17 Batch 80 Loss 1.0893\n",
      "Time taken for Batches 248.59495520591736 sec\n",
      "Epoch 17 Batch 100 Loss 1.3208\n",
      "Time taken for Batches 315.01633405685425 sec\n",
      "Epoch 17 Batch 120 Loss 1.2759\n",
      "Time taken for Batches 381.49710988998413 sec\n",
      "Epoch 17 Batch 140 Loss 1.0321\n",
      "Time taken for Batches 445.09661388397217 sec\n",
      "Epoch 17 Loss 1.279675 Val Loss 1.272632\n",
      "Time taken for 1 epoch 528.0378174781799 sec\n",
      "\n",
      "Epoch 18 Batch 0 Loss 1.3488\n",
      "Time taken for Batches 5.099163770675659 sec\n",
      "Epoch 18 Batch 20 Loss 1.1094\n",
      "Time taken for Batches 83.48582577705383 sec\n",
      "Epoch 18 Batch 40 Loss 1.1420\n",
      "Time taken for Batches 153.9737548828125 sec\n",
      "Epoch 18 Batch 60 Loss 1.1341\n",
      "Time taken for Batches 220.26793718338013 sec\n",
      "Epoch 18 Batch 80 Loss 1.3271\n",
      "Time taken for Batches 281.5392873287201 sec\n",
      "Epoch 18 Batch 100 Loss 1.3446\n",
      "Time taken for Batches 339.310311794281 sec\n",
      "Epoch 18 Batch 120 Loss 1.3287\n",
      "Time taken for Batches 401.6090316772461 sec\n",
      "Epoch 18 Batch 140 Loss 1.2877\n",
      "Time taken for Batches 461.03026485443115 sec\n",
      "Epoch 18 Loss 1.279797 Val Loss 1.271993\n",
      "Time taken for 1 epoch 553.5590662956238 sec\n",
      "\n",
      "Epoch 19 Batch 0 Loss 1.2086\n",
      "Time taken for Batches 4.655668497085571 sec\n",
      "Epoch 19 Batch 20 Loss 1.2390\n",
      "Time taken for Batches 67.20406866073608 sec\n",
      "Epoch 19 Batch 40 Loss 1.1621\n",
      "Time taken for Batches 134.9423656463623 sec\n",
      "Epoch 19 Batch 60 Loss 1.3161\n",
      "Time taken for Batches 183.22960782051086 sec\n",
      "Epoch 19 Batch 80 Loss 1.2446\n",
      "Time taken for Batches 232.1640338897705 sec\n",
      "Epoch 19 Batch 100 Loss 1.3908\n",
      "Time taken for Batches 276.5544958114624 sec\n",
      "Epoch 19 Batch 120 Loss 1.0848\n",
      "Time taken for Batches 321.54906153678894 sec\n",
      "Epoch 19 Batch 140 Loss 1.2684\n",
      "Time taken for Batches 365.4253854751587 sec\n",
      "Epoch 19 Loss 1.279833 Val Loss 1.270478\n",
      "Time taken for 1 epoch 440.8328709602356 sec\n",
      "\n",
      "Epoch 20 Batch 0 Loss 1.1149\n",
      "Time taken for Batches 4.545539617538452 sec\n",
      "Epoch 20 Batch 20 Loss 1.3453\n",
      "Time taken for Batches 52.28713297843933 sec\n",
      "Epoch 20 Batch 40 Loss 1.2185\n",
      "Time taken for Batches 95.50321578979492 sec\n",
      "Epoch 20 Batch 60 Loss 1.4854\n",
      "Time taken for Batches 137.42189931869507 sec\n",
      "Epoch 20 Batch 80 Loss 1.3080\n",
      "Time taken for Batches 181.43356657028198 sec\n",
      "Epoch 20 Batch 100 Loss 1.3523\n",
      "Time taken for Batches 224.86623787879944 sec\n",
      "Epoch 20 Batch 120 Loss 1.3286\n",
      "Time taken for Batches 269.8484251499176 sec\n",
      "Epoch 20 Batch 140 Loss 1.1789\n",
      "Time taken for Batches 313.6011610031128 sec\n",
      "Epoch 20 Loss 1.279738 Val Loss 1.276038\n",
      "Time taken for 1 epoch 404.52512407302856 sec\n",
      "\n"
     ]
    }
   ],
   "source": [
    "EPOCHS = 20\n",
    "\n",
    "for epoch in range(start_epoch, EPOCHS):\n",
    "    start = time.time()\n",
    "    total_loss = 0\n",
    "    total_val_loss = 0\n",
    "\n",
    "    for (batch, (img_tensor, target)) in enumerate(train_dataset):\n",
    "        batch_loss, t_loss = train_step(img_tensor, target)\n",
    "        total_loss += t_loss\n",
    "\n",
    "        if batch % 20 == 0:\n",
    "            print ('Epoch {} Batch {} Loss {:.4f}'.format(\n",
    "            epoch + 1, batch, batch_loss.numpy() / int(target.shape[1])))\n",
    "            print ('Time taken for Batches {} sec'.format(time.time() - start))\n",
    "            \n",
    "    for (batch, (img_tensor, target)) in enumerate(val_dataset):\n",
    "        _, t_loss = train_step(img_tensor, target, True)\n",
    "        total_val_loss += t_loss\n",
    "    # storing the epoch end loss value to plot later\n",
    "    loss_plot.append(total_loss / num_steps)\n",
    "    val_plot.append(total_val_loss / num_val_steps)\n",
    "\n",
    "    if (epoch + 1) % 5 == 0:\n",
    "        ckpt_manager.save()\n",
    "\n",
    "    print ('Epoch {} Loss {:.6f} Val Loss {:.6f}'.format(epoch + 1,\n",
    "                                                         total_loss/num_steps,\n",
    "                                                         total_val_loss/num_val_steps))\n",
    "    print ('Time taken for 1 epoch {} sec\\n'.format(time.time() - start))"
   ]
  },
  {
   "cell_type": "markdown",
   "metadata": {},
   "source": [
    "Model Evaluation\n",
    "----"
   ]
  },
  {
   "cell_type": "code",
   "execution_count": 26,
   "metadata": {},
   "outputs": [],
   "source": [
    "def save_plot(plot_path, plot_list):\n",
    "    with open(plot_path, 'wb') as fp:\n",
    "        pickle.dump(plot_list, fp)\n",
    "        \n",
    "def load_plot(plot_path):\n",
    "    with open (plot_path, 'rb') as fp:\n",
    "         return pickle.load(fp)"
   ]
  },
  {
   "cell_type": "code",
   "execution_count": 27,
   "metadata": {},
   "outputs": [],
   "source": [
    "loss_plot = load_plot(\"./checkpoints/cnnrnn_rnn_w2w/loss_plot\")\n",
    "val_plot = load_plot(\"./checkpoints/cnnrnn_rnn_w2w/val_plot\")"
   ]
  },
  {
   "cell_type": "code",
   "execution_count": 27,
   "metadata": {},
   "outputs": [],
   "source": [
    "save_plot(\"./checkpoints/cnnrnn_rnn_w2w/loss_plot\", loss_plot)\n",
    "save_plot(\"./checkpoints/cnnrnn_rnn_w2w/val_plot\", val_plot)"
   ]
  },
  {
   "cell_type": "code",
   "execution_count": 28,
   "metadata": {},
   "outputs": [
    {
     "data": {
      "image/png": "[encoded data removed]",
      "text/plain": [
       "<Figure size 432x288 with 1 Axes>"
      ]
     },
     "metadata": {
      "needs_background": "light"
     },
     "output_type": "display_data"
    }
   ],
   "source": [
    "plt.plot(loss_plot)\n",
    "plt.plot(val_plot)\n",
    "plt.xlabel('Epochs')\n",
    "plt.ylabel('Loss')\n",
    "plt.title('Loss Plot')\n",
    "plt.legend(['Loss', 'Val Loss'], loc='upper left')\n",
    "plt.show()"
   ]
  },
  {
   "cell_type": "code",
   "execution_count": 29,
   "metadata": {},
   "outputs": [],
   "source": [
    "def evaluate(image):\n",
    "    hidden = decoder.reset_state(batch_size=1)\n",
    "\n",
    "    encoder.set_features(tf.expand_dims(image, 0))\n",
    "\n",
    "    dec_input = tf.expand_dims([tokenizer.word_index['<START>']], 0)\n",
    "    result = ['<START>']\n",
    "\n",
    "    for i in range(1, max_length):\n",
    "        features = encoder(dec_input)\n",
    "        predictions = decoder(features)\n",
    "\n",
    "        predicted_id = tf.random.categorical(predictions, 1)[0][0].numpy()\n",
    "        result.append(tokenizer.index_word[predicted_id])\n",
    "\n",
    "        if tokenizer.index_word[predicted_id] == '<END>':\n",
    "            return result\n",
    "\n",
    "        dec_input = tf.expand_dims([predicted_id], 0)\n",
    "\n",
    "    return result"
   ]
  },
  {
   "cell_type": "code",
   "execution_count": 30,
   "metadata": {},
   "outputs": [],
   "source": [
    "def eval_path(imgpath):\n",
    "    return evaluate(process_img_path(imgpath))"
   ]
  },
  {
   "cell_type": "code",
   "execution_count": 31,
   "metadata": {},
   "outputs": [
    {
     "name": "stdout",
     "output_type": "stream",
     "text": [
      "Actual DSL:  <START> Body { Header { Link Button Link Link } Row { Column { Subtitle Paragraph Button } Column { Subtitle Paragraph Button } } Row { Column { Subtitle Paragraph Button } Column { Subtitle Paragraph Button } Column { Subtitle Paragraph Button } Column { Subtitle Paragraph Button } } Row { Column { Subtitle Paragraph Button } Column { Subtitle Paragraph Button } } } <END>                        \n",
      "\n",
      "Predicted DSL:  <START> Column Button Subtitle <END>\n"
     ]
    },
    {
     "data": {
      "image/png": "[encoded data removed]",
      "text/plain": [
       "<Figure size 432x288 with 1 Axes>"
      ]
     },
     "metadata": {
      "needs_background": "light"
     },
     "output_type": "display_data"
    }
   ],
   "source": [
    "test_entry = test_dataset.take(1)\n",
    "\n",
    "for image, seq in test_entry:\n",
    "    actual = tokenizer.sequences_to_texts([seq.numpy()])[0].replace(\"<PAD>\", \"\")\n",
    "    predicted = ' '.join(evaluate(image))\n",
    "    plt.imshow(image.numpy())\n",
    "    print(\"Actual DSL: \", actual)\n",
    "    print(\"\\nPredicted DSL: \", predicted)"
   ]
  },
  {
   "cell_type": "code",
   "execution_count": 32,
   "metadata": {},
   "outputs": [
    {
     "name": "stdout",
     "output_type": "stream",
     "text": [
      "Predicted count: 350\r"
     ]
    }
   ],
   "source": [
    "def score(dataset, verbose=False):\n",
    "    actual, predicted = list(), list()\n",
    "    i = 0\n",
    "    for image, seq in dataset:\n",
    "        act = tokenizer.sequences_to_texts([seq.numpy()])[0].replace(\"<PAD>\", \"\").split()\n",
    "        pred = evaluate(image)\n",
    "        pred = [\"<START>\"] + pred\n",
    "        if verbose:\n",
    "            print(\"\\n\\nActual DSL---->\\n\", act)\n",
    "            print(\"\\nPredicted DSL---->\\n\", pred)\n",
    "        else:\n",
    "            print(\"Predicted count: \" + str(i + 1), end='\\r', flush=True)\n",
    "        actual.append([act])\n",
    "        predicted.append(pred)\n",
    "        i += 1\n",
    "    bleu = corpus_bleu(actual, predicted)\n",
    "    \n",
    "    _actual = list(map(lambda p: ' '.join(p[0]), actual))\n",
    "    _predicted = list(map(lambda p: ' '.join(p), predicted))\n",
    "    _rouge = Rouge()\n",
    "    rouge = _rouge.get_scores(_predicted, _actual, avg=True)\n",
    "    return bleu, rouge,  actual, predicted\n",
    "        \n",
    "bleu, rouge, actual, predicted = score(test_dataset)"
   ]
  },
  {
   "cell_type": "code",
   "execution_count": 33,
   "metadata": {},
   "outputs": [
    {
     "name": "stdout",
     "output_type": "stream",
     "text": [
      "0.06155115904616224\n",
      "{'rouge-1': {'f': 0.6069961513891251, 'p': 0.7975960729352192, 'r': 0.6131103723657303}, 'rouge-2': {'f': 0.1685778833804967, 'p': 0.2026880743606407, 'r': 0.18232322426199618}, 'rouge-l': {'f': 0.7207159110153224, 'p': 0.8483951762523191, 'r': 0.651666666666666}}\n"
     ]
    }
   ],
   "source": [
    "print(bleu)\n",
    "print(rouge)"
   ]
  },
  {
   "cell_type": "code",
   "execution_count": null,
   "metadata": {},
   "outputs": [],
   "source": []
  }
 ],
 "metadata": {
  "kernelspec": {
   "display_name": "Python 3",
   "language": "python",
   "name": "python3"
  },
  "language_info": {
   "codemirror_mode": {
    "name": "ipython",
    "version": 3
   },
   "file_extension": ".py",
   "mimetype": "text/x-python",
   "name": "python",
   "nbconvert_exporter": "python",
   "pygments_lexer": "ipython3",
   "version": "3.8.3"
  }
 },
 "nbformat": 4,
 "nbformat_minor": 4
}
