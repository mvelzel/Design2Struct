{
 "cells": [
  {
   "cell_type": "markdown",
   "metadata": {},
   "source": [
    "CNN and RNN Encoder - RNN Decoder - Word to Word\n",
    "===="
   ]
  },
  {
   "cell_type": "code",
   "execution_count": 1,
   "metadata": {},
   "outputs": [],
   "source": [
    "import tensorflow as tf\n",
    "import tensorflow_datasets as tfds\n",
    "import numpy as np\n",
    "import io\n",
    "import sys\n",
    "import time\n",
    "import os\n",
    "import glob\n",
    "import pickle\n",
    "import matplotlib.pyplot as plt\n",
    "from nltk.translate.bleu_score import corpus_bleu, sentence_bleu\n",
    "from rouge import Rouge\n",
    "sys.path.append('../data_collection/compiler')\n",
    "from IPython.display import IFrame, Markdown\n",
    "from Compiler import Compiler\n",
    "from tempfile import NamedTemporaryFile\n",
    "import importlib\n",
    "\n",
    "AUTOTUNE = tf.data.experimental.AUTOTUNE\n",
    "\n",
    "tf.config.experimental_run_functions_eagerly(True)\n",
    "physical_devices = tf.config.experimental.list_physical_devices('GPU')\n",
    "tf.config.experimental.set_memory_growth(physical_devices[0], True)"
   ]
  },
  {
   "cell_type": "code",
   "execution_count": 2,
   "metadata": {},
   "outputs": [],
   "source": [
    "# Read a file and return a string\n",
    "def load_doc(filename):\n",
    "    file = open(filename, 'r')\n",
    "    text = file.read()\n",
    "    file.close()\n",
    "    return text"
   ]
  },
  {
   "cell_type": "markdown",
   "metadata": {},
   "source": [
    "Data Transformation\n",
    "----"
   ]
  },
  {
   "cell_type": "code",
   "execution_count": 3,
   "metadata": {},
   "outputs": [
    {
     "name": "stdout",
     "output_type": "stream",
     "text": [
      "b'..\\\\data_collection\\\\webpages\\\\PIX2CODE_COMPILED\\\\00150311-A7AE-4804-8B7D-9273687B4FC0.png'\n",
      "b'..\\\\data_collection\\\\webpages\\\\PIX2CODE_COMPILED\\\\00190F39-0DE9-47EB-B0C2-856FDD3ACE62.png'\n",
      "b'..\\\\data_collection\\\\webpages\\\\PIX2CODE_COMPILED\\\\00779BBE-DD64-4909-9909-24F5C8044A7B.png'\n",
      "b'..\\\\data_collection\\\\webpages\\\\PIX2CODE_COMPILED\\\\00CDC9A8-3D73-4291-90EF-49178E408797.png'\n",
      "b'..\\\\data_collection\\\\webpages\\\\PIX2CODE_COMPILED\\\\00E15BB2-5568-4466-BA18-A8A8D34FC61C.png'\n"
     ]
    }
   ],
   "source": [
    "dir_name = 'PIX2CODE_COMPILED'\n",
    "data_dir = '../data_collection/webpages/' + dir_name\n",
    "\n",
    "IMG_WIDTH = 299\n",
    "IMG_HEIGHT = 299\n",
    "\n",
    "# get all image filepaths\n",
    "list_img = tf.data.Dataset.list_files(str(data_dir + \"/*.png\"), shuffle=False)\n",
    "\n",
    "DATASET_SIZE = len(glob.glob(data_dir + \"/*.png\"))\n",
    "\n",
    "for f in list_img.take(5):\n",
    "    print(f.numpy())"
   ]
  },
  {
   "cell_type": "markdown",
   "metadata": {},
   "source": [
    "**Image Processing**"
   ]
  },
  {
   "cell_type": "code",
   "execution_count": 4,
   "metadata": {},
   "outputs": [],
   "source": [
    "# decodes an image string\n",
    "@tf.function\n",
    "def decode_img(img):\n",
    "    # convert the compressed string to a 3D uint8 tensor\n",
    "    img = tf.image.decode_png(img, channels=3)\n",
    "    # Use `convert_image_dtype` to convert to floats in the [0,1] range.\n",
    "    img = tf.image.convert_image_dtype(img, tf.float32)\n",
    "    # resize the image to the desired size.\n",
    "    return tf.image.resize(img, [IMG_WIDTH, IMG_HEIGHT])"
   ]
  },
  {
   "cell_type": "markdown",
   "metadata": {},
   "source": [
    "**Sequence Processing**"
   ]
  },
  {
   "cell_type": "code",
   "execution_count": 5,
   "metadata": {},
   "outputs": [],
   "source": [
    "tokenizer = tf.keras.preprocessing.text.Tokenizer(filters='', split=\" \", lower=False)\n",
    "# Create the vocabulary \n",
    "tokenizer.fit_on_texts([load_doc('./DSL.vocab')])\n",
    "\n",
    "# Add padding\n",
    "tokenizer.word_index['<PAD>'] = 0\n",
    "tokenizer.index_word[0] = '<PAD>'"
   ]
  },
  {
   "cell_type": "code",
   "execution_count": 6,
   "metadata": {},
   "outputs": [],
   "source": [
    "def tokenizer_lookup(word):\n",
    "    return tokenizer.word_index[word.numpy().decode()]\n",
    "\n",
    "# tensorflow way to convert text to sequence with tokenizer\n",
    "@tf.function\n",
    "def text_to_seq(text, tokenizer):\n",
    "    spl = tf.map_fn(lambda t: tf.py_function(func=tokenizer_lookup, inp=[t], Tout=tf.int32), text, dtype=\"int32\")\n",
    "    return spl"
   ]
  },
  {
   "cell_type": "code",
   "execution_count": 7,
   "metadata": {},
   "outputs": [],
   "source": [
    "# converts image filepath to its label\n",
    "@tf.function\n",
    "def get_seq(file_path):\n",
    "    # convert from png to gui file\n",
    "    path = tf.strings.regex_replace(file_path, \".png\", \".gui\")\n",
    "    # read contents and return\n",
    "    label = tf.constant(\"<START> \") + tf.io.read_file(path) + tf.constant(\" <END>\")\n",
    "    return tf.strings.split(label)"
   ]
  },
  {
   "cell_type": "code",
   "execution_count": 8,
   "metadata": {},
   "outputs": [
    {
     "name": "stdout",
     "output_type": "stream",
     "text": [
      "{1: '{', 2: '}', 3: '<START>', 4: '<END>', 5: 'Body', 6: 'Block', 7: 'Container', 8: 'Row', 9: 'Column', 10: 'Header', 11: 'Footer', 12: 'Paragraph', 13: 'Image', 14: 'Button', 15: 'Subtitle', 16: 'Title', 17: 'Link', 18: 'TextBox', 19: 'CheckBox', 20: 'RadioBox', 21: 'Range', 0: '<PAD>'}\n"
     ]
    }
   ],
   "source": [
    "print(tokenizer.index_word)"
   ]
  },
  {
   "cell_type": "markdown",
   "metadata": {},
   "source": [
    "**Combine and Split Datasets**"
   ]
  },
  {
   "cell_type": "code",
   "execution_count": 9,
   "metadata": {},
   "outputs": [],
   "source": [
    "# does all processing per dataset image path\n",
    "@tf.function\n",
    "def process_path(file_path):\n",
    "    # load the raw data from the file as a string\n",
    "    img = tf.io.read_file(file_path)\n",
    "    img = decode_img(img)\n",
    "    \n",
    "    seq = get_seq(file_path)\n",
    "    seq = text_to_seq(seq, tokenizer)\n",
    "    return img, seq"
   ]
  },
  {
   "cell_type": "code",
   "execution_count": 10,
   "metadata": {},
   "outputs": [],
   "source": [
    "dataset = list_img.map(process_path, num_parallel_calls=AUTOTUNE)"
   ]
  },
  {
   "cell_type": "code",
   "execution_count": 11,
   "metadata": {},
   "outputs": [],
   "source": [
    "max_length = dataset.map(lambda _, y: tf.size(y), num_parallel_calls=AUTOTUNE)\n",
    "max_length = max_length.reduce(tf.constant(0), lambda x, y: tf.math.maximum(x, y))"
   ]
  },
  {
   "cell_type": "code",
   "execution_count": 12,
   "metadata": {},
   "outputs": [
    {
     "name": "stdout",
     "output_type": "stream",
     "text": [
      "Image shape:  (299, 299, 3)\n",
      "Sequence:  ['<START> Body { Header { Button Link Link Link } Row { Column { Subtitle Paragraph Button } } Row { Column { Subtitle Paragraph Button } Column { Subtitle Paragraph Button } } Row { Column { Subtitle Paragraph Button } Column { Subtitle Paragraph Button } } } <END> <PAD> <PAD> <PAD> <PAD> <PAD> <PAD> <PAD> <PAD> <PAD> <PAD> <PAD> <PAD> <PAD> <PAD> <PAD> <PAD> <PAD> <PAD> <PAD> <PAD> <PAD> <PAD> <PAD> <PAD> <PAD> <PAD> <PAD> <PAD> <PAD> <PAD> <PAD> <PAD> <PAD> <PAD> <PAD> <PAD> <PAD> <PAD> <PAD> <PAD> <PAD> <PAD>']\n"
     ]
    },
    {
     "data": {
      "image/png": "[encoded data removed]",
      "text/plain": [
       "<Figure size 432x288 with 1 Axes>"
      ]
     },
     "metadata": {
      "needs_background": "light"
     },
     "output_type": "display_data"
    }
   ],
   "source": [
    "dataset = dataset.map(lambda x, y: (x, tf.concat([y, tf.repeat(0, max_length - tf.size(y))], -1)))\n",
    "\n",
    "for image, seq in dataset.take(1):\n",
    "    print(\"Image shape: \", image.numpy().shape)\n",
    "    print(\"Sequence: \", tokenizer.sequences_to_texts([seq.numpy()]))\n",
    "    plt.imshow(image.numpy())"
   ]
  },
  {
   "cell_type": "code",
   "execution_count": 13,
   "metadata": {},
   "outputs": [],
   "source": [
    "train_size = int(DATASET_SIZE * 0.7)\n",
    "val_size = int(DATASET_SIZE * 0.1)\n",
    "train_dataset = dataset.take(train_size)\n",
    "val_dataset = dataset.skip(train_size).take(val_size)\n",
    "test_dataset = dataset.skip(train_size + val_size)"
   ]
  },
  {
   "cell_type": "code",
   "execution_count": 14,
   "metadata": {},
   "outputs": [],
   "source": [
    "BATCH_SIZE = 8\n",
    "BUFFER_SIZE = 50\n",
    "embedding_dim = 16\n",
    "encoder_units = 128\n",
    "decoder_units = 256\n",
    "num_steps = train_size // BATCH_SIZE\n",
    "num_val_steps = val_size // BATCH_SIZE\n",
    "vocab_size = len(tokenizer.word_index) + 1\n",
    "seq_limit = 64\n",
    "\n",
    "train_dataset = train_dataset.shuffle(BUFFER_SIZE).batch(BATCH_SIZE, drop_remainder=True)\n",
    "train_dataset = train_dataset.prefetch(buffer_size=tf.data.experimental.AUTOTUNE)\n",
    "val_dataset = val_dataset.shuffle(BUFFER_SIZE).batch(BATCH_SIZE, drop_remainder=True)\n",
    "val_dataset = val_dataset.prefetch(buffer_size=tf.data.experimental.AUTOTUNE)"
   ]
  },
  {
   "cell_type": "markdown",
   "metadata": {},
   "source": [
    "Model Definition\n",
    "----"
   ]
  },
  {
   "cell_type": "code",
   "execution_count": 15,
   "metadata": {},
   "outputs": [],
   "source": [
    "class CNN_Encoder(tf.keras.Model):\n",
    "    def __init__(self, embedding_dim):\n",
    "        super(CNN_Encoder, self).__init__()\n",
    "        self.model = tf.keras.models.Sequential()\n",
    "        self.model.add(tf.keras.layers.Conv2D(16, (3, 3), padding='valid', activation='relu', input_shape=(IMG_WIDTH, IMG_HEIGHT, 3,)))\n",
    "        self.model.add(tf.keras.layers.Conv2D(16, (3,3), activation='relu', padding='same', strides=2))\n",
    "        self.model.add(tf.keras.layers.Dropout(0.2))\n",
    "        self.model.add(tf.keras.layers.Conv2D(32, (3,3), activation='relu', padding='same'))\n",
    "        self.model.add(tf.keras.layers.Conv2D(32, (3,3), activation='relu', padding='same', strides=2))\n",
    "        self.model.add(tf.keras.layers.Dropout(0.2))\n",
    "        self.model.add(tf.keras.layers.Conv2D(64, (3,3), activation='relu', padding='same'))\n",
    "        self.model.add(tf.keras.layers.Conv2D(64, (3,3), activation='relu', padding='same', strides=2))\n",
    "        self.model.add(tf.keras.layers.Dropout(0.2))\n",
    "        self.model.add(tf.keras.layers.Conv2D(128, (3,3), activation='relu', padding='same'))\n",
    "\n",
    "        self.model.add(tf.keras.layers.Flatten())\n",
    "        self.model.add(tf.keras.layers.Dense(256, activation='relu'))\n",
    "        self.model.add(tf.keras.layers.Dropout(0.2))\n",
    "        self.model.add(tf.keras.layers.Dense(256, activation='relu'))\n",
    "        self.model.add(tf.keras.layers.Dropout(0.2))\n",
    "        \n",
    "    def call(self, x):\n",
    "        x = self.model(x)\n",
    "        return x"
   ]
  },
  {
   "cell_type": "code",
   "execution_count": 16,
   "metadata": {},
   "outputs": [],
   "source": [
    "class RNN_Encoder(tf.keras.Model):\n",
    "    def __init__(self, embedding_dim, units, vocab_size):\n",
    "        super(RNN_Encoder, self).__init__()\n",
    "        self.units = units\n",
    "        self.embedding = tf.keras.layers.Embedding(vocab_size, embedding_dim)\n",
    "        self.gru = tf.keras.models.Sequential()\n",
    "        self.gru.add(tf.keras.layers.GRU(self.units,\n",
    "                                   return_sequences=True,\n",
    "                                   dropout=0.2,\n",
    "                                   recurrent_initializer='glorot_uniform'))\n",
    "        self.gru.add(tf.keras.layers.TimeDistributed(tf.keras.layers.Dense(units, activation='relu')))\n",
    "        \n",
    "    def call(self, x):\n",
    "        x = self.embedding(x)\n",
    "        x = self.gru(x)\n",
    "        \n",
    "        return x\n",
    "        \n",
    "    def reset_state(self, batch_size):\n",
    "        return tf.zeros((batch_size, self.units))"
   ]
  },
  {
   "cell_type": "code",
   "execution_count": 17,
   "metadata": {},
   "outputs": [],
   "source": [
    "class CNN_RNN_Encoder(tf.keras.Model):\n",
    "    def __init__(self, embedding_dim, units, vocab_size):\n",
    "        super(CNN_RNN_Encoder, self).__init__()\n",
    "        self.rnn = RNN_Encoder(embedding_dim, units, vocab_size)\n",
    "        self.cnn = CNN_Encoder(embedding_dim)\n",
    "        self.features = None\n",
    "        \n",
    "    def call(self, seq, img=None):\n",
    "        if img is None and self.features is None:\n",
    "            print(\"Error, img and features None\")\n",
    "            return\n",
    "        elif img is not None:\n",
    "            self.features = self.cnn(img)\n",
    "             \n",
    "        seq = self.rnn(seq)\n",
    "        \n",
    "        return self.features, seq\n",
    "    \n",
    "    def set_features(self, img):\n",
    "        self.features = self.cnn(img)\n",
    "    \n",
    "    def reset_state(self, batch_size):\n",
    "        return self.rnn.reset_state(batch_size)"
   ]
  },
  {
   "cell_type": "code",
   "execution_count": 18,
   "metadata": {},
   "outputs": [],
   "source": [
    "class RNN_Decoder(tf.keras.Model):\n",
    "    def __init__(self, units, vocab_size, max_length):\n",
    "        super(RNN_Decoder, self).__init__()\n",
    "        self.units = units\n",
    "#         self.gru1 = tf.keras.layers.GRU(self.units,\n",
    "#                                    return_sequences=True,\n",
    "#                                    dropout=0.2,\n",
    "#                                    recurrent_initializer='glorot_uniform')\n",
    "        self.gru2 = tf.keras.layers.GRU(self.units,\n",
    "                                   return_sequences=False,\n",
    "                                   recurrent_initializer='glorot_uniform')\n",
    "        \n",
    "        self.fc = tf.keras.layers.Dense(units)\n",
    "        self.fc2 = tf.keras.layers.Dense(vocab_size)\n",
    "        \n",
    "        self.rep = tf.keras.layers.RepeatVector(max_length)\n",
    "        \n",
    "    def call(self, x, features):       \n",
    "        feat = self.rep(features)\n",
    "\n",
    "        x = tf.keras.layers.concatenate([feat, x])\n",
    "        \n",
    "        x = self.gru2(x)\n",
    "        \n",
    "        x = self.fc(x)\n",
    "        x = self.fc2(x)\n",
    "        \n",
    "        return x\n",
    "    \n",
    "    def reset_state(self, batch_size):\n",
    "        return tf.zeros((batch_size, self.units))"
   ]
  },
  {
   "cell_type": "code",
   "execution_count": 19,
   "metadata": {},
   "outputs": [],
   "source": [
    "class RNN_Encoder_Decoder(tf.keras.Model):\n",
    "    def __init__(self, embedding_dim, units, vocab_size, max_length):\n",
    "        super(RNN_Encoder_Decoder, self).__init__()\n",
    "        self.units = units\n",
    "        self.embedding = tf.keras.layers.Embedding(vocab_size, embedding_dim)\n",
    "#         self.gru1 = tf.keras.layers.GRU(self.units,\n",
    "#                                    return_sequences=True,\n",
    "#                                    dropout=0.2,\n",
    "#                                    recurrent_initializer='glorot_uniform')\n",
    "        self.gru2 = tf.keras.layers.GRU(self.units,\n",
    "                                   return_sequences=False,\n",
    "                                   recurrent_initializer='glorot_uniform')\n",
    "        self.fc1 = tf.keras.layers.Dense(self.units)\n",
    "        self.fc2 = tf.keras.layers.Dense(vocab_size)\n",
    "        \n",
    "        self.rep = tf.keras.layers.RepeatVector(max_length)\n",
    "        \n",
    "    def call(self, x, features):\n",
    "        x = self.embedding(x)\n",
    "        \n",
    "        feat = self.rep(features)\n",
    "    \n",
    "        x = tf.keras.layers.concatenate([feat, x])\n",
    "        \n",
    "        output = self.gru2(x)\n",
    "\n",
    "        x = self.fc1(output)\n",
    "\n",
    "        # x = tf.reshape(x, (-1, x.shape[2]))\n",
    "\n",
    "        x = self.fc2(x)\n",
    "        \n",
    "        return x\n",
    "    \n",
    "    def reset_state(self, batch_size):\n",
    "        return tf.zeros((batch_size, self.units))"
   ]
  },
  {
   "cell_type": "code",
   "execution_count": 20,
   "metadata": {},
   "outputs": [],
   "source": [
    "encoder = CNN_RNN_Encoder(embedding_dim, encoder_units, vocab_size)\n",
    "decoder = RNN_Decoder(decoder_units, vocab_size, seq_limit)"
   ]
  },
  {
   "cell_type": "code",
   "execution_count": 21,
   "metadata": {},
   "outputs": [],
   "source": [
    "optimizer = tf.keras.optimizers.Adam()\n",
    "loss_object = tf.keras.losses.SparseCategoricalCrossentropy(from_logits=True, reduction='none')\n",
    "\n",
    "def loss_function(real, pred):\n",
    "    mask = tf.math.logical_not(tf.math.equal(real, 0))\n",
    "    loss_ = loss_object(real, pred)\n",
    "\n",
    "    mask = tf.cast(mask, dtype=loss_.dtype)\n",
    "    loss_ *= mask\n",
    "\n",
    "    return tf.reduce_mean(loss_)"
   ]
  },
  {
   "cell_type": "code",
   "execution_count": 22,
   "metadata": {},
   "outputs": [],
   "source": [
    "checkpoint_path = \"./checkpoints/cnnrnn_rnn_s2w/exp/sing/again\"\n",
    "ckpt = tf.train.Checkpoint(encoder=encoder,\n",
    "                           decoder=decoder,\n",
    "                           optimizer = optimizer)\n",
    "ckpt_manager = tf.train.CheckpointManager(ckpt, checkpoint_path, max_to_keep=5)"
   ]
  },
  {
   "cell_type": "code",
   "execution_count": 23,
   "metadata": {},
   "outputs": [],
   "source": [
    "start_epoch = 0\n",
    "if ckpt_manager.latest_checkpoint:\n",
    "    start_epoch = int(ckpt_manager.latest_checkpoint.split('-')[-1]) * 5\n",
    "    # restoring the latest checkpoint in checkpoint_path\n",
    "    ckpt.restore(ckpt_manager.latest_checkpoint)"
   ]
  },
  {
   "cell_type": "markdown",
   "metadata": {},
   "source": [
    "Model Training\n",
    "----"
   ]
  },
  {
   "cell_type": "code",
   "execution_count": 24,
   "metadata": {},
   "outputs": [],
   "source": [
    "def save_plot(plot_path, plot_list):\n",
    "    with open(plot_path, 'wb') as fp:\n",
    "        pickle.dump(plot_list, fp)\n",
    "        \n",
    "def load_plot(plot_path):\n",
    "    with open (plot_path, 'rb') as fp:\n",
    "         return pickle.load(fp)"
   ]
  },
  {
   "cell_type": "code",
   "execution_count": 25,
   "metadata": {},
   "outputs": [],
   "source": [
    "# adding this in a separate cell because if you run the training cell\n",
    "# many times, the loss_plot array will be reset\n",
    "loss_plot = []\n",
    "val_plot = []\n",
    "# loss_plot = load_plot(\"./checkpoints/cnnrnn_rnn_s2w/exp/sing/loss_plot\")\n",
    "# val_plot = load_plot(\"./checkpoints/cnnrnn_rnn_s2w/exp/sing/val_plot\")"
   ]
  },
  {
   "cell_type": "code",
   "execution_count": 26,
   "metadata": {},
   "outputs": [],
   "source": [
    "@tf.function\n",
    "def pad_tensor_sequence(seq):\n",
    "    return tf.pad(seq, [[0, 0], [0, seq_limit - seq.shape[1]]], \"CONSTANT\")"
   ]
  },
  {
   "cell_type": "code",
   "execution_count": 27,
   "metadata": {},
   "outputs": [],
   "source": [
    "@tf.function\n",
    "def train_step(img_tensor, target, val=False):\n",
    "    loss = 0\n",
    "\n",
    "    # initializing the hidden state for each batch\n",
    "    # because the captions are not related from image to image\n",
    "    hidden = decoder.reset_state(batch_size=target.shape[0])\n",
    "\n",
    "    dec_input = tf.expand_dims([tokenizer.word_index['<START>']] * target.shape[0], 1)\n",
    "    dec_input = pad_tensor_sequence(dec_input)\n",
    "    \n",
    "    if val:\n",
    "        encoder.set_features(img_tensor)\n",
    "\n",
    "        for i in range(1, target.shape[1]):\n",
    "            features, seq = encoder(dec_input)\n",
    "            # passing the features through the decoder\n",
    "            predictions = decoder(seq, features)\n",
    "\n",
    "            loss += loss_function(target[:, i], predictions)\n",
    "\n",
    "            # using teacher forcing\n",
    "            dec_input = tf.slice(dec_input, [0, 1 if i - seq_limit >= 0 else 0], [-1, min(i, seq_limit - 1)])\n",
    "            dec_input = tf.concat([dec_input, tf.expand_dims(target[:, i], 1)], 1)\n",
    "            dec_input = pad_tensor_sequence(dec_input)\n",
    "        total_loss = (loss / int(target.shape[1]))\n",
    "        return loss, total_loss\n",
    "\n",
    "    with tf.GradientTape() as tape:\n",
    "        encoder.set_features(img_tensor)\n",
    "\n",
    "        for i in range(1, target.shape[1]):\n",
    "            features, seq = encoder(dec_input)\n",
    "            # passing the features through the decoder\n",
    "            predictions = decoder(seq, features)\n",
    "\n",
    "            loss += loss_function(target[:, i], predictions)\n",
    "\n",
    "            # using teacher forcing\n",
    "            dec_input = tf.slice(dec_input, [0, 1 if i - seq_limit >= 0 else 0], [-1, min(i, seq_limit - 1)])\n",
    "            dec_input = tf.concat([dec_input, tf.expand_dims(target[:, i], 1)], 1)\n",
    "            dec_input = pad_tensor_sequence(dec_input)\n",
    "\n",
    "    total_loss = (loss / int(target.shape[1]))\n",
    "\n",
    "    trainable_variables = encoder.trainable_variables + decoder.trainable_variables\n",
    "\n",
    "    gradients = tape.gradient(loss, trainable_variables)\n",
    "\n",
    "    optimizer.apply_gradients(zip(gradients, trainable_variables))\n",
    "\n",
    "    return loss, total_loss"
   ]
  },
  {
   "cell_type": "code",
   "execution_count": 28,
   "metadata": {
    "scrolled": true
   },
   "outputs": [
    {
     "name": "stdout",
     "output_type": "stream",
     "text": [
      "Epoch 1 Batch 0 Loss 2.1579\n",
      "Time taken for Batches 5.858834505081177 sec\n",
      "Epoch 1 Batch 20 Loss 1.3707\n",
      "Time taken for Batches 43.910175800323486 sec\n",
      "Epoch 1 Batch 40 Loss 1.1162\n",
      "Time taken for Batches 81.759521484375 sec\n",
      "Epoch 1 Batch 60 Loss 1.2166\n",
      "Time taken for Batches 119.63262939453125 sec\n",
      "Epoch 1 Batch 80 Loss 1.1678\n",
      "Time taken for Batches 157.31181716918945 sec\n",
      "Epoch 1 Batch 100 Loss 1.1254\n",
      "Time taken for Batches 195.12813210487366 sec\n",
      "Epoch 1 Batch 120 Loss 1.0354\n",
      "Time taken for Batches 233.27675533294678 sec\n",
      "Epoch 1 Batch 140 Loss 0.6851\n",
      "Time taken for Batches 270.9469029903412 sec\n",
      "Epoch 1 Loss 1.130922 Val Loss 0.760256\n",
      "Time taken for 1 epoch 333.8969130516052 sec\n",
      "\n",
      "Epoch 2 Batch 0 Loss 0.8295\n",
      "Time taken for Batches 2.9850950241088867 sec\n",
      "Epoch 2 Batch 20 Loss 0.3407\n",
      "Time taken for Batches 41.006903409957886 sec\n",
      "Epoch 2 Batch 40 Loss 0.3245\n",
      "Time taken for Batches 78.93913054466248 sec\n",
      "Epoch 2 Batch 60 Loss 0.1279\n",
      "Time taken for Batches 116.82745933532715 sec\n",
      "Epoch 2 Batch 80 Loss 0.1068\n",
      "Time taken for Batches 151.20606899261475 sec\n",
      "Epoch 2 Batch 100 Loss 0.5524\n",
      "Time taken for Batches 184.78807377815247 sec\n",
      "Epoch 2 Batch 120 Loss 0.2693\n",
      "Time taken for Batches 218.08904123306274 sec\n",
      "Epoch 2 Batch 140 Loss 0.1285\n",
      "Time taken for Batches 251.31806826591492 sec\n",
      "Epoch 2 Loss 0.269828 Val Loss 0.111253\n",
      "Time taken for 1 epoch 307.21308994293213 sec\n",
      "\n",
      "Epoch 3 Batch 0 Loss 0.0998\n",
      "Time taken for Batches 2.7629787921905518 sec\n",
      "Epoch 3 Batch 20 Loss 0.0913\n",
      "Time taken for Batches 35.8569712638855 sec\n",
      "Epoch 3 Batch 40 Loss 0.1005\n",
      "Time taken for Batches 69.4409806728363 sec\n",
      "Epoch 3 Batch 60 Loss 0.1013\n",
      "Time taken for Batches 102.88597559928894 sec\n",
      "Epoch 3 Batch 80 Loss 0.0984\n",
      "Time taken for Batches 136.3519787788391 sec\n",
      "Epoch 3 Batch 100 Loss 0.0873\n",
      "Time taken for Batches 169.5639946460724 sec\n",
      "Epoch 3 Batch 120 Loss 0.0808\n",
      "Time taken for Batches 202.89601039886475 sec\n",
      "Epoch 3 Batch 140 Loss 0.0984\n",
      "Time taken for Batches 236.15277314186096 sec\n",
      "Epoch 3 Loss 0.095280 Val Loss 0.089037\n",
      "Time taken for 1 epoch 292.89438223838806 sec\n",
      "\n",
      "Epoch 4 Batch 0 Loss 0.0921\n",
      "Time taken for Batches 2.6800308227539062 sec\n",
      "Epoch 4 Batch 20 Loss 0.0955\n",
      "Time taken for Batches 36.16499662399292 sec\n",
      "Epoch 4 Batch 40 Loss 0.0881\n",
      "Time taken for Batches 69.4580283164978 sec\n",
      "Epoch 4 Batch 60 Loss 0.0780\n",
      "Time taken for Batches 103.63974523544312 sec\n",
      "Epoch 4 Batch 80 Loss 0.0824\n",
      "Time taken for Batches 137.04771637916565 sec\n",
      "Epoch 4 Batch 100 Loss 0.1002\n",
      "Time taken for Batches 170.4227170944214 sec\n",
      "Epoch 4 Batch 120 Loss 0.0858\n",
      "Time taken for Batches 203.79173064231873 sec\n",
      "Epoch 4 Batch 140 Loss 0.0856\n",
      "Time taken for Batches 237.2517340183258 sec\n",
      "Epoch 4 Loss 0.089688 Val Loss 0.079815\n",
      "Time taken for 1 epoch 293.5107572078705 sec\n",
      "\n",
      "Epoch 5 Batch 0 Loss 0.0902\n",
      "Time taken for Batches 2.688014507293701 sec\n",
      "Epoch 5 Batch 20 Loss 0.0865\n",
      "Time taken for Batches 36.08805704116821 sec\n",
      "Epoch 5 Batch 40 Loss 0.0783\n",
      "Time taken for Batches 69.53308653831482 sec\n",
      "Epoch 5 Batch 60 Loss 0.0733\n",
      "Time taken for Batches 102.83706665039062 sec\n",
      "Epoch 5 Batch 80 Loss 0.0716\n",
      "Time taken for Batches 136.29709792137146 sec\n",
      "Epoch 5 Batch 100 Loss 0.0772\n",
      "Time taken for Batches 169.63405680656433 sec\n",
      "Epoch 5 Batch 120 Loss 0.0773\n",
      "Time taken for Batches 202.99808549880981 sec\n",
      "Epoch 5 Batch 140 Loss 0.0700\n",
      "Time taken for Batches 236.17304944992065 sec\n",
      "Epoch 5 Loss 0.079506 Val Loss 0.077172\n",
      "Time taken for 1 epoch 301.6880621910095 sec\n",
      "\n",
      "Epoch 6 Batch 0 Loss 0.0910\n",
      "Time taken for Batches 2.700026750564575 sec\n",
      "Epoch 6 Batch 20 Loss 0.0787\n",
      "Time taken for Batches 36.14800453186035 sec\n",
      "Epoch 6 Batch 40 Loss 0.0654\n",
      "Time taken for Batches 70.45850610733032 sec\n",
      "Epoch 6 Batch 60 Loss 0.0857\n",
      "Time taken for Batches 100.61049222946167 sec\n",
      "Epoch 6 Batch 80 Loss 0.0774\n",
      "Time taken for Batches 129.7994589805603 sec\n",
      "Epoch 6 Batch 100 Loss 0.0852\n",
      "Time taken for Batches 158.7904953956604 sec\n",
      "Epoch 6 Batch 120 Loss 0.0735\n",
      "Time taken for Batches 187.9624593257904 sec\n",
      "Epoch 6 Batch 140 Loss 0.0760\n",
      "Time taken for Batches 217.19897842407227 sec\n",
      "Epoch 6 Loss 0.078445 Val Loss 0.086483\n",
      "Time taken for 1 epoch 268.7310321331024 sec\n",
      "\n",
      "Epoch 7 Batch 0 Loss 0.1029\n",
      "Time taken for Batches 2.563967704772949 sec\n",
      "Epoch 7 Batch 20 Loss 0.0781\n",
      "Time taken for Batches 32.81396722793579 sec\n",
      "Epoch 7 Batch 40 Loss 0.1189\n",
      "Time taken for Batches 62.059975385665894 sec\n",
      "Epoch 7 Batch 60 Loss 0.0978\n",
      "Time taken for Batches 91.16891837120056 sec\n",
      "Epoch 7 Batch 80 Loss 0.0896\n",
      "Time taken for Batches 120.4261417388916 sec\n",
      "Epoch 7 Batch 100 Loss 0.0787\n",
      "Time taken for Batches 149.4761357307434 sec\n",
      "Epoch 7 Batch 120 Loss 0.0813\n",
      "Time taken for Batches 178.5191686153412 sec\n",
      "Epoch 7 Batch 140 Loss 0.0708\n",
      "Time taken for Batches 207.65308809280396 sec\n",
      "Epoch 7 Loss 0.090154 Val Loss 0.072699\n",
      "Time taken for 1 epoch 255.60617566108704 sec\n",
      "\n",
      "Epoch 8 Batch 0 Loss 0.0778\n",
      "Time taken for Batches 2.3010356426239014 sec\n",
      "Epoch 8 Batch 20 Loss 0.0763\n",
      "Time taken for Batches 31.195740222930908 sec\n",
      "Epoch 8 Batch 40 Loss 0.0777\n",
      "Time taken for Batches 60.287710428237915 sec\n",
      "Epoch 8 Batch 60 Loss 0.0789\n",
      "Time taken for Batches 89.67755579948425 sec\n",
      "Epoch 8 Batch 80 Loss 0.0771\n",
      "Time taken for Batches 118.6655592918396 sec\n",
      "Epoch 8 Batch 100 Loss 0.0793\n",
      "Time taken for Batches 147.60610270500183 sec\n",
      "Epoch 8 Batch 120 Loss 0.0743\n",
      "Time taken for Batches 176.9215943813324 sec\n",
      "Epoch 8 Batch 140 Loss 0.0671\n",
      "Time taken for Batches 206.16029500961304 sec\n",
      "Epoch 8 Loss 0.077565 Val Loss 0.071766\n",
      "Time taken for 1 epoch 257.6299719810486 sec\n",
      "\n",
      "Epoch 9 Batch 0 Loss 0.0868\n",
      "Time taken for Batches 2.296002149581909 sec\n",
      "Epoch 9 Batch 20 Loss 0.0668\n",
      "Time taken for Batches 31.309088706970215 sec\n",
      "Epoch 9 Batch 40 Loss 0.0675\n",
      "Time taken for Batches 60.63531684875488 sec\n",
      "Epoch 9 Batch 60 Loss 0.0770\n",
      "Time taken for Batches 89.68731927871704 sec\n",
      "Epoch 9 Batch 80 Loss 0.0823\n",
      "Time taken for Batches 118.83932137489319 sec\n",
      "Epoch 9 Batch 100 Loss 0.0841\n",
      "Time taken for Batches 148.08958768844604 sec\n",
      "Epoch 9 Batch 120 Loss 0.0737\n",
      "Time taken for Batches 177.23712944984436 sec\n",
      "Epoch 9 Batch 140 Loss 0.0656\n",
      "Time taken for Batches 206.81109356880188 sec\n",
      "Epoch 9 Loss 0.074625 Val Loss 0.069823\n",
      "Time taken for 1 epoch 255.14463710784912 sec\n",
      "\n",
      "Epoch 10 Batch 0 Loss 0.0786\n",
      "Time taken for Batches 2.299999237060547 sec\n",
      "Epoch 10 Batch 20 Loss 0.0674\n",
      "Time taken for Batches 31.207480430603027 sec\n",
      "Epoch 10 Batch 40 Loss 0.0684\n",
      "Time taken for Batches 60.24936246871948 sec\n",
      "Epoch 10 Batch 60 Loss 0.0719\n",
      "Time taken for Batches 89.34149360656738 sec\n",
      "Epoch 10 Batch 80 Loss 0.0690\n",
      "Time taken for Batches 118.45267844200134 sec\n",
      "Epoch 10 Batch 100 Loss 0.0848\n",
      "Time taken for Batches 147.60665035247803 sec\n",
      "Epoch 10 Batch 120 Loss 0.0764\n",
      "Time taken for Batches 176.63868141174316 sec\n",
      "Epoch 10 Batch 140 Loss 0.0687\n",
      "Time taken for Batches 205.7219479084015 sec\n",
      "Epoch 10 Loss 0.075523 Val Loss 0.069696\n",
      "Time taken for 1 epoch 261.3317630290985 sec\n",
      "\n",
      "Epoch 11 Batch 0 Loss 0.0778\n",
      "Time taken for Batches 2.32200288772583 sec\n",
      "Epoch 11 Batch 20 Loss 0.0779\n",
      "Time taken for Batches 31.309345960617065 sec\n",
      "Epoch 11 Batch 40 Loss 0.0664\n",
      "Time taken for Batches 60.18124723434448 sec\n",
      "Epoch 11 Batch 60 Loss 0.0754\n",
      "Time taken for Batches 89.18121409416199 sec\n",
      "Epoch 11 Batch 80 Loss 0.0806\n",
      "Time taken for Batches 118.44224095344543 sec\n",
      "Epoch 11 Batch 100 Loss 0.4177\n",
      "Time taken for Batches 147.73197674751282 sec\n",
      "Epoch 11 Batch 120 Loss 0.1284\n",
      "Time taken for Batches 176.81600832939148 sec\n",
      "Epoch 11 Batch 140 Loss 0.0905\n",
      "Time taken for Batches 205.7209734916687 sec\n",
      "Epoch 11 Loss 0.134717 Val Loss 0.079314\n",
      "Time taken for 1 epoch 253.53849458694458 sec\n",
      "\n",
      "Epoch 12 Batch 0 Loss 0.0969\n",
      "Time taken for Batches 2.3209986686706543 sec\n",
      "Epoch 12 Batch 20 Loss 0.0802\n",
      "Time taken for Batches 31.38407325744629 sec\n",
      "Epoch 12 Batch 40 Loss 0.0767\n",
      "Time taken for Batches 60.25801420211792 sec\n",
      "Epoch 12 Batch 60 Loss 0.0742\n",
      "Time taken for Batches 89.26954936981201 sec\n",
      "Epoch 12 Batch 80 Loss 0.0734\n",
      "Time taken for Batches 119.10558319091797 sec\n",
      "Epoch 12 Batch 100 Loss 0.0871\n",
      "Time taken for Batches 148.18659663200378 sec\n",
      "Epoch 12 Batch 120 Loss 0.0856\n",
      "Time taken for Batches 177.17262840270996 sec\n",
      "Epoch 12 Batch 140 Loss 0.0873\n",
      "Time taken for Batches 206.4145987033844 sec\n",
      "Epoch 12 Loss 0.077394 Val Loss 0.072142\n",
      "Time taken for 1 epoch 254.41661167144775 sec\n",
      "\n"
     ]
    },
    {
     "name": "stdout",
     "output_type": "stream",
     "text": [
      "Epoch 13 Batch 0 Loss 0.0789\n",
      "Time taken for Batches 2.316549301147461 sec\n",
      "Epoch 13 Batch 20 Loss 0.0794\n",
      "Time taken for Batches 31.32355237007141 sec\n",
      "Epoch 13 Batch 40 Loss 0.0668\n",
      "Time taken for Batches 60.37153649330139 sec\n",
      "Epoch 13 Batch 60 Loss 0.0728\n",
      "Time taken for Batches 89.60157012939453 sec\n",
      "Epoch 13 Batch 80 Loss 0.0929\n",
      "Time taken for Batches 118.8953800201416 sec\n",
      "Epoch 13 Batch 100 Loss 0.0774\n",
      "Time taken for Batches 148.20937728881836 sec\n",
      "Epoch 13 Batch 120 Loss 0.0710\n",
      "Time taken for Batches 177.296377658844 sec\n",
      "Epoch 13 Batch 140 Loss 0.0686\n",
      "Time taken for Batches 206.5024116039276 sec\n",
      "Epoch 13 Loss 0.075002 Val Loss 0.074784\n",
      "Time taken for 1 epoch 254.5603268146515 sec\n",
      "\n",
      "Epoch 14 Batch 0 Loss 0.0909\n",
      "Time taken for Batches 2.3180015087127686 sec\n",
      "Epoch 14 Batch 20 Loss 0.0766\n",
      "Time taken for Batches 31.35103178024292 sec\n",
      "Epoch 14 Batch 40 Loss 0.0694\n",
      "Time taken for Batches 60.30172538757324 sec\n",
      "Epoch 14 Batch 60 Loss 0.0694\n",
      "Time taken for Batches 89.55275011062622 sec\n",
      "Epoch 14 Batch 80 Loss 0.0644\n",
      "Time taken for Batches 118.85199689865112 sec\n",
      "Epoch 14 Batch 100 Loss 0.0906\n",
      "Time taken for Batches 148.03351211547852 sec\n",
      "Epoch 14 Batch 120 Loss 0.0766\n",
      "Time taken for Batches 177.14555025100708 sec\n",
      "Epoch 14 Batch 140 Loss 0.0744\n",
      "Time taken for Batches 206.35356259346008 sec\n",
      "Epoch 14 Loss 0.073388 Val Loss 0.067078\n",
      "Time taken for 1 epoch 254.79553055763245 sec\n",
      "\n",
      "Epoch 15 Batch 0 Loss 0.0651\n",
      "Time taken for Batches 2.2805540561676025 sec\n",
      "Epoch 15 Batch 20 Loss 0.0775\n",
      "Time taken for Batches 31.307518243789673 sec\n",
      "Epoch 15 Batch 40 Loss 0.0673\n",
      "Time taken for Batches 60.46053457260132 sec\n",
      "Epoch 15 Batch 60 Loss 0.0616\n",
      "Time taken for Batches 89.58253216743469 sec\n",
      "Epoch 15 Batch 80 Loss 0.0701\n",
      "Time taken for Batches 118.65053701400757 sec\n",
      "Epoch 15 Batch 100 Loss 0.0642\n",
      "Time taken for Batches 147.86813354492188 sec\n",
      "Epoch 15 Batch 120 Loss 0.0734\n",
      "Time taken for Batches 177.03613114356995 sec\n",
      "Epoch 15 Batch 140 Loss 0.0759\n",
      "Time taken for Batches 206.22793769836426 sec\n",
      "Epoch 15 Loss 0.068539 Val Loss 0.066828\n",
      "Time taken for 1 epoch 262.00779700279236 sec\n",
      "\n",
      "Epoch 16 Batch 0 Loss 0.0739\n",
      "Time taken for Batches 2.7609965801239014 sec\n",
      "Epoch 16 Batch 20 Loss 0.0575\n",
      "Time taken for Batches 32.380025148391724 sec\n",
      "Epoch 16 Batch 40 Loss 0.0604\n",
      "Time taken for Batches 61.467994928359985 sec\n",
      "Epoch 16 Batch 60 Loss 0.0634\n",
      "Time taken for Batches 90.73599100112915 sec\n",
      "Epoch 16 Batch 80 Loss 0.0678\n",
      "Time taken for Batches 120.08599376678467 sec\n",
      "Epoch 16 Batch 100 Loss 0.0855\n",
      "Time taken for Batches 149.24799370765686 sec\n",
      "Epoch 16 Batch 120 Loss 0.0611\n",
      "Time taken for Batches 178.55205082893372 sec\n",
      "Epoch 16 Batch 140 Loss 0.0659\n",
      "Time taken for Batches 207.84857082366943 sec\n",
      "Epoch 16 Loss 0.065719 Val Loss 0.064829\n",
      "Time taken for 1 epoch 256.11699080467224 sec\n",
      "\n",
      "Epoch 17 Batch 0 Loss 0.0702\n",
      "Time taken for Batches 2.3009989261627197 sec\n",
      "Epoch 17 Batch 20 Loss 0.0598\n",
      "Time taken for Batches 31.438997983932495 sec\n",
      "Epoch 17 Batch 40 Loss 0.0553\n",
      "Time taken for Batches 60.63599514961243 sec\n",
      "Epoch 17 Batch 60 Loss 0.0694\n",
      "Time taken for Batches 89.87200021743774 sec\n",
      "Epoch 17 Batch 80 Loss 0.0602\n",
      "Time taken for Batches 120.95268177986145 sec\n",
      "Epoch 17 Batch 100 Loss 0.0668\n",
      "Time taken for Batches 151.22670722007751 sec\n",
      "Epoch 17 Batch 120 Loss 0.0711\n",
      "Time taken for Batches 182.42158555984497 sec\n",
      "Epoch 17 Batch 140 Loss 0.0724\n",
      "Time taken for Batches 212.72959637641907 sec\n",
      "Epoch 17 Loss 0.065948 Val Loss 0.063520\n",
      "Time taken for 1 epoch 261.83279728889465 sec\n",
      "\n",
      "Epoch 18 Batch 0 Loss 0.0732\n",
      "Time taken for Batches 2.6480162143707275 sec\n",
      "Epoch 18 Batch 20 Loss 0.0564\n",
      "Time taken for Batches 32.77198123931885 sec\n",
      "Epoch 18 Batch 40 Loss 0.0646\n",
      "Time taken for Batches 61.6535267829895 sec\n",
      "Epoch 18 Batch 60 Loss 0.0669\n",
      "Time taken for Batches 90.68069529533386 sec\n",
      "Epoch 18 Batch 80 Loss 0.0589\n",
      "Time taken for Batches 120.85193014144897 sec\n",
      "Epoch 18 Batch 100 Loss 0.0614\n",
      "Time taken for Batches 151.23676562309265 sec\n",
      "Epoch 18 Batch 120 Loss 0.0618\n",
      "Time taken for Batches 181.6524920463562 sec\n",
      "Epoch 18 Batch 140 Loss 0.0672\n",
      "Time taken for Batches 211.9912416934967 sec\n",
      "Epoch 18 Loss 0.064112 Val Loss 0.061834\n",
      "Time taken for 1 epoch 262.15606331825256 sec\n",
      "\n",
      "Epoch 19 Batch 0 Loss 0.0655\n",
      "Time taken for Batches 2.4080142974853516 sec\n",
      "Epoch 19 Batch 20 Loss 0.0621\n",
      "Time taken for Batches 33.26581358909607 sec\n",
      "Epoch 19 Batch 40 Loss 0.0669\n",
      "Time taken for Batches 63.57537913322449 sec\n",
      "Epoch 19 Batch 60 Loss 0.0609\n",
      "Time taken for Batches 93.91832685470581 sec\n",
      "Epoch 19 Batch 80 Loss 0.0695\n",
      "Time taken for Batches 124.50743699073792 sec\n",
      "Epoch 19 Batch 100 Loss 0.0764\n",
      "Time taken for Batches 155.08925580978394 sec\n",
      "Epoch 19 Batch 120 Loss 0.0665\n",
      "Time taken for Batches 185.67325615882874 sec\n",
      "Epoch 19 Batch 140 Loss 0.0693\n",
      "Time taken for Batches 216.15612125396729 sec\n",
      "Epoch 19 Loss 0.064060 Val Loss 0.064498\n",
      "Time taken for 1 epoch 266.60501742362976 sec\n",
      "\n",
      "Epoch 20 Batch 0 Loss 0.0677\n",
      "Time taken for Batches 2.391065835952759 sec\n",
      "Epoch 20 Batch 20 Loss 0.0672\n",
      "Time taken for Batches 32.855560064315796 sec\n",
      "Epoch 20 Batch 40 Loss 0.0680\n",
      "Time taken for Batches 63.785560846328735 sec\n",
      "Epoch 20 Batch 60 Loss 0.0669\n",
      "Time taken for Batches 94.2485146522522 sec\n",
      "Epoch 20 Batch 80 Loss 0.0765\n",
      "Time taken for Batches 125.12563633918762 sec\n",
      "Epoch 20 Batch 100 Loss 0.0563\n",
      "Time taken for Batches 155.45571208000183 sec\n",
      "Epoch 20 Batch 120 Loss 0.0589\n",
      "Time taken for Batches 186.0451774597168 sec\n",
      "Epoch 20 Batch 140 Loss 0.0679\n",
      "Time taken for Batches 216.5663673877716 sec\n",
      "Epoch 20 Loss 0.064203 Val Loss 0.061291\n",
      "Time taken for 1 epoch 273.6641366481781 sec\n",
      "\n"
     ]
    }
   ],
   "source": [
    "EPOCHS = 20\n",
    "\n",
    "for epoch in range(start_epoch, EPOCHS):\n",
    "    start = time.time()\n",
    "    total_loss = 0\n",
    "    total_val_loss = 0\n",
    "\n",
    "    for (batch, (img_tensor, target)) in enumerate(train_dataset):\n",
    "        batch_loss, t_loss = train_step(img_tensor, target)\n",
    "        total_loss += t_loss\n",
    "\n",
    "        if batch % 20 == 0:\n",
    "            print ('Epoch {} Batch {} Loss {:.4f}'.format(\n",
    "            epoch + 1, batch, batch_loss.numpy() / int(target.shape[1])))\n",
    "            print ('Time taken for Batches {} sec'.format(time.time() - start))\n",
    "    \n",
    "    for (batch, (img_tensor, target)) in enumerate(val_dataset):\n",
    "        _, t_loss = train_step(img_tensor, target, True)\n",
    "        total_val_loss += t_loss\n",
    "            \n",
    "    # storing the epoch end loss value to plot later\n",
    "    loss_plot.append(total_loss / num_steps)\n",
    "    val_plot.append(total_val_loss / num_val_steps)\n",
    "\n",
    "    if (epoch + 1) % 5 == 0:\n",
    "        ckpt_manager.save()\n",
    "\n",
    "    print ('Epoch {} Loss {:.6f} Val Loss {:.6f}'.format(epoch + 1,\n",
    "                                         total_loss/num_steps, total_val_loss/num_val_steps))\n",
    "    print ('Time taken for 1 epoch {} sec\\n'.format(time.time() - start))"
   ]
  },
  {
   "cell_type": "markdown",
   "metadata": {},
   "source": [
    "Model Evaluation\n",
    "----"
   ]
  },
  {
   "cell_type": "code",
   "execution_count": 29,
   "metadata": {},
   "outputs": [],
   "source": [
    "# save_plot(\"./checkpoints/cnnrnn_rnn_s2w/exp/sing/loss_plot\", loss_plot)\n",
    "# save_plot(\"./checkpoints/cnnrnn_rnn_s2w/exp/sing/val_plot\", val_plot)"
   ]
  },
  {
   "cell_type": "code",
   "execution_count": 30,
   "metadata": {},
   "outputs": [
    {
     "data": {
      "image/png": "[encoded data removed]",
      "text/plain": [
       "<Figure size 432x288 with 1 Axes>"
      ]
     },
     "metadata": {
      "needs_background": "light"
     },
     "output_type": "display_data"
    }
   ],
   "source": [
    "plt.plot(loss_plot)\n",
    "plt.plot(val_plot)\n",
    "plt.xlabel('Epochs')\n",
    "plt.ylabel('Loss')\n",
    "plt.title('Loss Plot')\n",
    "plt.legend(['Loss', 'Val Loss'], loc='upper left')\n",
    "plt.show()"
   ]
  },
  {
   "cell_type": "code",
   "execution_count": 31,
   "metadata": {},
   "outputs": [],
   "source": [
    "def evaluate(image):\n",
    "    hidden = decoder.reset_state(batch_size=1)\n",
    "\n",
    "    encoder.set_features(tf.expand_dims(image, 0))\n",
    "\n",
    "    dec_input = tf.expand_dims([tokenizer.word_index['<START>']], 0)\n",
    "    dec_input = pad_tensor_sequence(dec_input)\n",
    "    result = ['<START>']\n",
    "\n",
    "    for i in range(1, max_length):\n",
    "        features, seq = encoder(dec_input)\n",
    "        predictions = decoder(seq, features)\n",
    "\n",
    "        predicted_id = tf.random.categorical(predictions, 1)[0][0].numpy()\n",
    "        result.append(tokenizer.index_word[predicted_id])\n",
    "\n",
    "        if tokenizer.index_word[predicted_id] == '<END>':\n",
    "            return result\n",
    "\n",
    "        dec_input = tf.slice(dec_input, [0, 1 if i - seq_limit >= 0 else 0], [-1, min(i, seq_limit - 1)])\n",
    "        dec_input = tf.concat([dec_input, tf.expand_dims([predicted_id], 1)], 1)\n",
    "        dec_input = pad_tensor_sequence(dec_input)\n",
    "\n",
    "    return result"
   ]
  },
  {
   "cell_type": "code",
   "execution_count": 32,
   "metadata": {},
   "outputs": [],
   "source": [
    "def eval_path(imgpath):\n",
    "    return evaluate(process_img_path(imgpath))"
   ]
  },
  {
   "cell_type": "code",
   "execution_count": 33,
   "metadata": {},
   "outputs": [
    {
     "name": "stdout",
     "output_type": "stream",
     "text": [
      "Actual DSL:  <START> Body { Header { Link Button Link Link } Row { Column { Subtitle Paragraph Button } Column { Subtitle Paragraph Button } } Row { Column { Subtitle Paragraph Button } Column { Subtitle Paragraph Button } Column { Subtitle Paragraph Button } Column { Subtitle Paragraph Button } } Row { Column { Subtitle Paragraph Button } Column { Subtitle Paragraph Button } } } <END>                        \n",
      "\n",
      "Predicted DSL:  <START> Body { Header { Link Link Button Link Link } Row { Column { Subtitle Paragraph Button } Column { Subtitle Paragraph Button } Column { Subtitle Paragraph Button } Column { Subtitle Paragraph Button } } Row { Column { Subtitle Paragraph Button } } Row { Column { Subtitle Paragraph Button } Column { Subtitle Paragraph Button } } } <END>\n"
     ]
    },
    {
     "data": {
      "image/png": "[encoded data removed]",
      "text/plain": [
       "<Figure size 432x288 with 1 Axes>"
      ]
     },
     "metadata": {
      "needs_background": "light"
     },
     "output_type": "display_data"
    }
   ],
   "source": [
    "test_entry = test_dataset.take(1)\n",
    "\n",
    "for image, seq in test_entry:\n",
    "    actual = tokenizer.sequences_to_texts([seq.numpy()])[0].replace(\"<PAD>\", \"\")\n",
    "    predicted = ' '.join(evaluate(image))\n",
    "    plt.imshow(image.numpy())\n",
    "    print(\"Actual DSL: \", actual)\n",
    "    print(\"\\nPredicted DSL: \", predicted)"
   ]
  },
  {
   "cell_type": "code",
   "execution_count": 34,
   "metadata": {},
   "outputs": [
    {
     "name": "stdout",
     "output_type": "stream",
     "text": [
      "Predicted count: 350\r"
     ]
    }
   ],
   "source": [
    "def score(dataset, verbose=False):\n",
    "    actual, predicted = list(), list()\n",
    "    i = 0\n",
    "    for image, seq in dataset:\n",
    "        act = tokenizer.sequences_to_texts([seq.numpy()])[0].replace(\"<PAD>\", \"\").split()\n",
    "        pred = evaluate(image)\n",
    "        pred = [\"<START>\"] + pred\n",
    "        if verbose:\n",
    "            print(\"\\n\\nActual DSL---->\\n\", act)\n",
    "            print(\"\\nPredicted DSL---->\\n\", pred)\n",
    "        else:\n",
    "            print(\"Predicted count: \" + str(i + 1), end='\\r', flush=True)\n",
    "        actual.append([act])\n",
    "        predicted.append(pred)\n",
    "        i += 1\n",
    "    bleu = corpus_bleu(actual, predicted)\n",
    "    \n",
    "    _actual = list(map(lambda p: ' '.join(p[0]), actual))\n",
    "    _predicted = list(map(lambda p: ' '.join(p), predicted))\n",
    "    _rouge = Rouge()\n",
    "    rouge = _rouge.get_scores(_predicted, _actual, avg=True)\n",
    "    return bleu, rouge,  actual, predicted\n",
    "        \n",
    "bleu, rouge, actual, predicted = score(test_dataset)"
   ]
  },
  {
   "cell_type": "code",
   "execution_count": 35,
   "metadata": {},
   "outputs": [
    {
     "name": "stdout",
     "output_type": "stream",
     "text": [
      "0.8433444758222151\n",
      "{'rouge-1': {'f': 0.8866152340202812, 'p': 0.8854714467714166, 'r': 0.929037007806322}, 'rouge-2': {'f': 0.8627776923246513, 'p': 0.8621328935665896, 'r': 0.903946530425606}, 'rouge-l': {'f': 0.9962274425011901, 'p': 0.9973809523809524, 'r': 0.9952380952380954}}\n"
     ]
    }
   ],
   "source": [
    "print(bleu)\n",
    "print(rouge)"
   ]
  },
  {
   "cell_type": "code",
   "execution_count": null,
   "metadata": {},
   "outputs": [],
   "source": []
  }
 ],
 "metadata": {
  "kernelspec": {
   "display_name": "Python 3",
   "language": "python",
   "name": "python3"
  },
  "language_info": {
   "codemirror_mode": {
    "name": "ipython",
    "version": 3
   },
   "file_extension": ".py",
   "mimetype": "text/x-python",
   "name": "python",
   "nbconvert_exporter": "python",
   "pygments_lexer": "ipython3",
   "version": "3.8.3"
  }
 },
 "nbformat": 4,
 "nbformat_minor": 4
}
