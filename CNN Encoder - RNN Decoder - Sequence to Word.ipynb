{
 "cells": [
  {
   "cell_type": "markdown",
   "metadata": {},
   "source": [
    "CNN Encoder - RNN Decoder - Sequence to Word\n",
    "===="
   ]
  },
  {
   "cell_type": "code",
   "execution_count": 1,
   "metadata": {},
   "outputs": [],
   "source": [
    "import tensorflow as tf\n",
    "import tensorflow_datasets as tfds\n",
    "import numpy as np\n",
    "import io\n",
    "import sys\n",
    "import time\n",
    "import pickle\n",
    "import glob\n",
    "import gc\n",
    "import matplotlib.pyplot as plt\n",
    "from nltk.translate.bleu_score import corpus_bleu, sentence_bleu\n",
    "from rouge import Rouge\n",
    "\n",
    "AUTOTUNE = tf.data.experimental.AUTOTUNE\n",
    "\n",
    "tf.config.experimental_run_functions_eagerly(True)\n",
    "physical_devices = tf.config.experimental.list_physical_devices('GPU')\n",
    "tf.config.experimental.set_memory_growth(physical_devices[0], True)"
   ]
  },
  {
   "cell_type": "code",
   "execution_count": 2,
   "metadata": {},
   "outputs": [],
   "source": [
    "# Read a file and return a string\n",
    "def load_doc(filename):\n",
    "    file = open(filename, 'r')\n",
    "    text = file.read()\n",
    "    file.close()\n",
    "    return text"
   ]
  },
  {
   "cell_type": "markdown",
   "metadata": {},
   "source": [
    "Data Transformation\n",
    "----"
   ]
  },
  {
   "cell_type": "code",
   "execution_count": 3,
   "metadata": {},
   "outputs": [
    {
     "name": "stdout",
     "output_type": "stream",
     "text": [
      "b'..\\\\data_collection\\\\webpages\\\\PIX2CODE_COMPILED\\\\00150311-A7AE-4804-8B7D-9273687B4FC0.png'\n",
      "b'..\\\\data_collection\\\\webpages\\\\PIX2CODE_COMPILED\\\\00190F39-0DE9-47EB-B0C2-856FDD3ACE62.png'\n",
      "b'..\\\\data_collection\\\\webpages\\\\PIX2CODE_COMPILED\\\\00779BBE-DD64-4909-9909-24F5C8044A7B.png'\n",
      "b'..\\\\data_collection\\\\webpages\\\\PIX2CODE_COMPILED\\\\00CDC9A8-3D73-4291-90EF-49178E408797.png'\n",
      "b'..\\\\data_collection\\\\webpages\\\\PIX2CODE_COMPILED\\\\00E15BB2-5568-4466-BA18-A8A8D34FC61C.png'\n"
     ]
    }
   ],
   "source": [
    "dir_name = 'PIX2CODE_COMPILED'\n",
    "data_dir = '../data_collection/webpages/' + dir_name\n",
    "\n",
    "IMG_WIDTH = 299\n",
    "IMG_HEIGHT = 299\n",
    "\n",
    "# get all image filepaths\n",
    "list_img = tf.data.Dataset.list_files(str(data_dir + \"/*.png\"), shuffle=False)\n",
    "\n",
    "DATASET_SIZE = len(glob.glob(data_dir + \"/*.png\"))\n",
    "\n",
    "for f in list_img.take(5):\n",
    "    print(f.numpy())"
   ]
  },
  {
   "cell_type": "markdown",
   "metadata": {},
   "source": [
    "**Image Processing**"
   ]
  },
  {
   "cell_type": "code",
   "execution_count": 4,
   "metadata": {},
   "outputs": [],
   "source": [
    "# decodes an image string\n",
    "@tf.function\n",
    "def decode_img(img):\n",
    "    # convert the compressed string to a 3D uint8 tensor\n",
    "    img = tf.image.decode_png(img, channels=3)\n",
    "    # Use `convert_image_dtype` to convert to floats in the [0,1] range.\n",
    "    img = tf.image.convert_image_dtype(img, tf.float32)\n",
    "    # resize the image to the desired size.\n",
    "    return tf.image.resize(img, [IMG_WIDTH, IMG_HEIGHT])"
   ]
  },
  {
   "cell_type": "markdown",
   "metadata": {},
   "source": [
    "**Sequence Processing**"
   ]
  },
  {
   "cell_type": "code",
   "execution_count": 5,
   "metadata": {},
   "outputs": [],
   "source": [
    "tokenizer = tf.keras.preprocessing.text.Tokenizer(filters='', split=\" \", lower=False)\n",
    "# Create the vocabulary \n",
    "tokenizer.fit_on_texts([load_doc('./DSL.vocab')])\n",
    "\n",
    "# Add padding\n",
    "tokenizer.word_index['<PAD>'] = 0\n",
    "tokenizer.index_word[0] = '<PAD>'"
   ]
  },
  {
   "cell_type": "code",
   "execution_count": 6,
   "metadata": {},
   "outputs": [],
   "source": [
    "def tokenizer_lookup(word):\n",
    "    return tokenizer.word_index[word.numpy().decode()]\n",
    "\n",
    "# tensorflow way to convert text to sequence with tokenizer\n",
    "@tf.function\n",
    "def text_to_seq(text, tokenizer):\n",
    "    spl = tf.map_fn(lambda t: tf.py_function(func=tokenizer_lookup, inp=[t], Tout=tf.int32), text, dtype=\"int32\")\n",
    "    return spl"
   ]
  },
  {
   "cell_type": "code",
   "execution_count": 7,
   "metadata": {},
   "outputs": [],
   "source": [
    "# converts image filepath to its label\n",
    "@tf.function\n",
    "def get_seq(file_path):\n",
    "    # convert from png to gui file\n",
    "    path = tf.strings.regex_replace(file_path, \".png\", \".gui\")\n",
    "    # read contents and return\n",
    "    label = tf.constant(\"<START> \") + tf.io.read_file(path) + tf.constant(\" <END>\")\n",
    "    return tf.strings.split(label)"
   ]
  },
  {
   "cell_type": "code",
   "execution_count": 8,
   "metadata": {},
   "outputs": [
    {
     "name": "stdout",
     "output_type": "stream",
     "text": [
      "{1: '{', 2: '}', 3: '<START>', 4: '<END>', 5: 'Body', 6: 'Block', 7: 'Container', 8: 'Row', 9: 'Column', 10: 'Header', 11: 'Footer', 12: 'Paragraph', 13: 'Image', 14: 'Button', 15: 'Subtitle', 16: 'Title', 17: 'Link', 18: 'TextBox', 19: 'CheckBox', 20: 'RadioBox', 21: 'Range', 0: '<PAD>'}\n"
     ]
    }
   ],
   "source": [
    "print(tokenizer.index_word)"
   ]
  },
  {
   "cell_type": "markdown",
   "metadata": {},
   "source": [
    "**Combine and Split Datasets**"
   ]
  },
  {
   "cell_type": "code",
   "execution_count": 9,
   "metadata": {},
   "outputs": [],
   "source": [
    "# does all processing per dataset image path\n",
    "@tf.function\n",
    "def process_path(file_path):\n",
    "    # load the raw data from the file as a string\n",
    "    img = tf.io.read_file(file_path)\n",
    "    img = decode_img(img)\n",
    "    \n",
    "    seq = get_seq(file_path)\n",
    "    seq = text_to_seq(seq, tokenizer)\n",
    "    return img, seq"
   ]
  },
  {
   "cell_type": "code",
   "execution_count": 10,
   "metadata": {},
   "outputs": [],
   "source": [
    "dataset = list_img.map(process_path, num_parallel_calls=AUTOTUNE)"
   ]
  },
  {
   "cell_type": "code",
   "execution_count": 11,
   "metadata": {},
   "outputs": [],
   "source": [
    "max_length = dataset.map(lambda _, y: tf.size(y), num_parallel_calls=AUTOTUNE)\n",
    "max_length = max_length.reduce(tf.constant(0), lambda x, y: tf.math.maximum(x, y))"
   ]
  },
  {
   "cell_type": "code",
   "execution_count": 12,
   "metadata": {},
   "outputs": [
    {
     "name": "stdout",
     "output_type": "stream",
     "text": [
      "Image shape:  (299, 299, 3)\n",
      "Sequence:  ['<START> Body { Header { Button Link Link Link } Row { Column { Subtitle Paragraph Button } } Row { Column { Subtitle Paragraph Button } Column { Subtitle Paragraph Button } } Row { Column { Subtitle Paragraph Button } Column { Subtitle Paragraph Button } } } <END> <PAD> <PAD> <PAD> <PAD> <PAD> <PAD> <PAD> <PAD> <PAD> <PAD> <PAD> <PAD> <PAD> <PAD> <PAD> <PAD> <PAD> <PAD> <PAD> <PAD> <PAD> <PAD> <PAD> <PAD> <PAD> <PAD> <PAD> <PAD> <PAD> <PAD> <PAD> <PAD> <PAD> <PAD> <PAD> <PAD> <PAD> <PAD> <PAD> <PAD> <PAD> <PAD>']\n"
     ]
    },
    {
     "data": {
      "image/png": "[encoded data removed]",
      "text/plain": [
       "<Figure size 432x288 with 1 Axes>"
      ]
     },
     "metadata": {
      "needs_background": "light"
     },
     "output_type": "display_data"
    }
   ],
   "source": [
    "dataset = dataset.map(lambda x, y: (x, tf.concat([y, tf.repeat(0, max_length - tf.size(y))], -1)))\n",
    "\n",
    "for image, seq in dataset.take(1):\n",
    "    print(\"Image shape: \", image.numpy().shape)\n",
    "    print(\"Sequence: \", tokenizer.sequences_to_texts([seq.numpy()]))\n",
    "    plt.imshow(image.numpy())"
   ]
  },
  {
   "cell_type": "code",
   "execution_count": 13,
   "metadata": {},
   "outputs": [],
   "source": [
    "train_size = int(DATASET_SIZE * 0.7)\n",
    "val_size = int(DATASET_SIZE * 0.1)\n",
    "train_dataset = dataset.take(train_size)\n",
    "val_dataset = dataset.skip(train_size).take(val_size)\n",
    "test_dataset = dataset.skip(train_size + val_size)"
   ]
  },
  {
   "cell_type": "code",
   "execution_count": 14,
   "metadata": {},
   "outputs": [],
   "source": [
    "BATCH_SIZE = 8\n",
    "BUFFER_SIZE = 50\n",
    "embedding_dim = 16\n",
    "encoder_units = 128\n",
    "decoder_units = 256\n",
    "num_steps = train_size // BATCH_SIZE\n",
    "num_val_steps = val_size // BATCH_SIZE\n",
    "vocab_size = len(tokenizer.word_index) + 1\n",
    "seq_limit = 64\n",
    "\n",
    "train_dataset = train_dataset.shuffle(BUFFER_SIZE).batch(BATCH_SIZE, drop_remainder=True)\n",
    "train_dataset = train_dataset.prefetch(buffer_size=tf.data.experimental.AUTOTUNE)\n",
    "val_dataset = val_dataset.shuffle(BUFFER_SIZE).batch(BATCH_SIZE, drop_remainder=True)\n",
    "val_dataset = val_dataset.prefetch(buffer_size=tf.data.experimental.AUTOTUNE)"
   ]
  },
  {
   "cell_type": "markdown",
   "metadata": {},
   "source": [
    "Model Definition\n",
    "----"
   ]
  },
  {
   "cell_type": "code",
   "execution_count": 15,
   "metadata": {},
   "outputs": [],
   "source": [
    "class CNN_Encoder(tf.keras.Model):\n",
    "    def __init__(self, embedding_dim):\n",
    "        super(CNN_Encoder, self).__init__()\n",
    "        self.model = tf.keras.models.Sequential()\n",
    "        self.model.add(tf.keras.layers.Conv2D(16, (3, 3), padding='valid', activation='relu', input_shape=(IMG_WIDTH, IMG_HEIGHT, 3,)))\n",
    "        self.model.add(tf.keras.layers.Conv2D(16, (3,3), activation='relu', padding='same', strides=2))\n",
    "        self.model.add(tf.keras.layers.Dropout(0.2))\n",
    "        self.model.add(tf.keras.layers.Conv2D(32, (3,3), activation='relu', padding='same'))\n",
    "        self.model.add(tf.keras.layers.Conv2D(32, (3,3), activation='relu', padding='same', strides=2))\n",
    "        self.model.add(tf.keras.layers.Dropout(0.2))\n",
    "        self.model.add(tf.keras.layers.Conv2D(64, (3,3), activation='relu', padding='same'))\n",
    "        self.model.add(tf.keras.layers.Conv2D(64, (3,3), activation='relu', padding='same', strides=2))\n",
    "        self.model.add(tf.keras.layers.Dropout(0.2))\n",
    "        self.model.add(tf.keras.layers.Conv2D(128, (3,3), activation='relu', padding='same'))\n",
    "\n",
    "        self.model.add(tf.keras.layers.Flatten())\n",
    "        self.model.add(tf.keras.layers.Dense(256, activation='relu'))\n",
    "        self.model.add(tf.keras.layers.Dropout(0.2))\n",
    "#         self.model.add(tf.keras.layers.Dense(256, activation='relu'))\n",
    "#         self.model.add(tf.keras.layers.Dropout(0.2))\n",
    "        \n",
    "    def call(self, x):\n",
    "        x = self.model(x)\n",
    "        return x"
   ]
  },
  {
   "cell_type": "code",
   "execution_count": 16,
   "metadata": {},
   "outputs": [],
   "source": [
    "class RNN_Encoder(tf.keras.Model):\n",
    "    def __init__(self, embedding_dim, units, vocab_size, max_length):\n",
    "        super(RNN_Encoder, self).__init__()\n",
    "        self.units = units\n",
    "        self.embedding = tf.keras.layers.Embedding(vocab_size, embedding_dim, input_length=max_length)\n",
    "        self.gru = tf.keras.models.Sequential()\n",
    "        self.gru.add(tf.keras.layers.GRU(self.units,\n",
    "                                   return_sequences=True,\n",
    "                                   dropout=0.2,\n",
    "                                   recurrent_initializer='glorot_uniform'))\n",
    "        self.gru.add(tf.keras.layers.TimeDistributed(tf.keras.layers.Dense(units, activation='relu')))\n",
    "        \n",
    "    def call(self, x):\n",
    "        x = self.embedding(x)\n",
    "        x = self.gru(x)\n",
    "        \n",
    "        return x\n",
    "        \n",
    "    def reset_state(self, batch_size):\n",
    "        return tf.zeros((batch_size, self.units))"
   ]
  },
  {
   "cell_type": "code",
   "execution_count": 17,
   "metadata": {},
   "outputs": [],
   "source": [
    "class CNN_RNN_Encoder(tf.keras.Model):\n",
    "    def __init__(self, embedding_dim, units, vocab_size, max_length):\n",
    "        super(CNN_RNN_Encoder, self).__init__()\n",
    "        self.rnn = RNN_Encoder(embedding_dim, units, vocab_size, max_length)\n",
    "        self.cnn = CNN_Encoder(embedding_dim)\n",
    "        self.rep = tf.keras.layers.RepeatVector(1)\n",
    "        self.features = None\n",
    "        \n",
    "    def call(self, seq, img=None):\n",
    "        if img is None and self.features is None:\n",
    "            print(\"Error, img and features None\")\n",
    "            return\n",
    "        elif img is not None:\n",
    "            self.features = self.cnn(img)\n",
    "            \n",
    "        feat = self.rep(self.features)\n",
    "            \n",
    "        seq = self.rnn(seq)\n",
    "        \n",
    "        x = tf.keras.layers.concatenate([feat, seq])\n",
    "        return x\n",
    "    \n",
    "    def set_features(self, img):\n",
    "        self.features = self.cnn(img)\n",
    "    \n",
    "    def reset_state(self, batch_size):\n",
    "        self.features = None\n",
    "        return self.rnn.reset_state(batch_size)"
   ]
  },
  {
   "cell_type": "code",
   "execution_count": 18,
   "metadata": {},
   "outputs": [],
   "source": [
    "class RNN_Decoder(tf.keras.Model):\n",
    "    def __init__(self, units, vocab_size):\n",
    "        super(RNN_Decoder, self).__init__()\n",
    "        self.units = units\n",
    "        self.gru = tf.keras.models.Sequential()\n",
    "        self.gru.add(tf.keras.layers.GRU(self.units,\n",
    "                                   return_sequences=False,\n",
    "                                   dropout=0.2,\n",
    "                                   recurrent_initializer='glorot_uniform'))\n",
    "        self.fc = tf.keras.layers.Dense(units)\n",
    "        self.fc2 = tf.keras.layers.Dense(vocab_size)\n",
    "        \n",
    "    def call(self, x):    \n",
    "        x = self.gru(x)\n",
    "        \n",
    "        x = self.fc(x)\n",
    "        x = self.fc2(x)\n",
    "        \n",
    "        return x\n",
    "    \n",
    "    def reset_state(self, batch_size):\n",
    "        return tf.zeros((batch_size, self.units))"
   ]
  },
  {
   "cell_type": "code",
   "execution_count": 19,
   "metadata": {},
   "outputs": [],
   "source": [
    "class RNN_Encoder_Decoder(tf.keras.Model):\n",
    "    def __init__(self, embedding_dim, units, vocab_size, max_length):\n",
    "        super(RNN_Encoder_Decoder, self).__init__()\n",
    "        self.units = units\n",
    "        self.embedding = tf.keras.layers.Embedding(vocab_size, embedding_dim)\n",
    "        self.gru2 = tf.keras.layers.GRU(self.units,\n",
    "                                   return_sequences=False,\n",
    "                                   recurrent_initializer='glorot_uniform')\n",
    "        self.fc1 = tf.keras.layers.Dense(self.units)\n",
    "        self.fc2 = tf.keras.layers.Dense(vocab_size)\n",
    "        \n",
    "        self.rep = tf.keras.layers.RepeatVector(max_length)\n",
    "        \n",
    "    def call(self, x, features):\n",
    "        x = self.embedding(x)\n",
    "        \n",
    "        feat = self.rep(features)\n",
    "    \n",
    "        x = tf.keras.layers.concatenate([feat, x])\n",
    "        \n",
    "        output = self.gru2(x)\n",
    "\n",
    "        x = self.fc1(output)\n",
    "\n",
    "        # x = tf.reshape(x, (-1, x.shape[2]))\n",
    "\n",
    "        x = self.fc2(x)\n",
    "        \n",
    "        return x\n",
    "    \n",
    "    def reset_state(self, batch_size):\n",
    "        return tf.zeros((batch_size, self.units))"
   ]
  },
  {
   "cell_type": "code",
   "execution_count": 20,
   "metadata": {},
   "outputs": [],
   "source": [
    "encoder = CNN_Encoder(embedding_dim)\n",
    "decoder = RNN_Encoder_Decoder(embedding_dim, decoder_units, vocab_size, seq_limit)"
   ]
  },
  {
   "cell_type": "code",
   "execution_count": 21,
   "metadata": {},
   "outputs": [],
   "source": [
    "optimizer = tf.keras.optimizers.Adam()\n",
    "loss_object = tf.keras.losses.SparseCategoricalCrossentropy(from_logits=True, reduction='none')\n",
    "\n",
    "def loss_function(real, pred):\n",
    "    mask = tf.math.logical_not(tf.math.equal(real, 0))\n",
    "    loss_ = loss_object(real, pred)\n",
    "\n",
    "    mask = tf.cast(mask, dtype=loss_.dtype)\n",
    "    loss_ *= mask\n",
    "\n",
    "    return tf.reduce_mean(loss_)"
   ]
  },
  {
   "cell_type": "code",
   "execution_count": 22,
   "metadata": {},
   "outputs": [],
   "source": [
    "checkpoint_path = \"./checkpoints/cnn_rnn_s2w/exp/sing/again\"\n",
    "ckpt = tf.train.Checkpoint(encoder=encoder,\n",
    "                           decoder=decoder,\n",
    "                           optimizer = optimizer)\n",
    "ckpt_manager = tf.train.CheckpointManager(ckpt, checkpoint_path, max_to_keep=5)"
   ]
  },
  {
   "cell_type": "code",
   "execution_count": 23,
   "metadata": {},
   "outputs": [],
   "source": [
    "start_epoch = 0\n",
    "if ckpt_manager.latest_checkpoint:\n",
    "    start_epoch = (int(ckpt_manager.latest_checkpoint.split('-')[-1]) - 1) * 5\n",
    "    # restoring the latest checkpoint in checkpoint_path\n",
    "    ckpt.restore(ckpt_manager.latest_checkpoint)"
   ]
  },
  {
   "cell_type": "markdown",
   "metadata": {},
   "source": [
    "Model Training\n",
    "----"
   ]
  },
  {
   "cell_type": "code",
   "execution_count": 24,
   "metadata": {},
   "outputs": [],
   "source": [
    "def save_plot(plot_path, plot_list):\n",
    "    with open(plot_path, 'wb') as fp:\n",
    "        pickle.dump(plot_list, fp)\n",
    "        \n",
    "def load_plot(plot_path):\n",
    "    with open (plot_path, 'rb') as fp:\n",
    "         return pickle.load(fp)"
   ]
  },
  {
   "cell_type": "code",
   "execution_count": 25,
   "metadata": {},
   "outputs": [],
   "source": [
    "# adding this in a separate cell because if you run the training cell\n",
    "# many times, the loss_plot array will be reset\n",
    "loss_plot = []\n",
    "val_plot = []\n",
    "# loss_plot = load_plot(\"./checkpoints/cnn_rnn_s2w/exp/sing/loss_plot\")\n",
    "# val_plot = load_plot(\"./checkpoints/cnn_rnn_s2w/exp/sing/val_plot\")"
   ]
  },
  {
   "cell_type": "code",
   "execution_count": 26,
   "metadata": {},
   "outputs": [],
   "source": [
    "@tf.function\n",
    "def pad_tensor_sequence(seq):\n",
    "    return tf.pad(seq, [[0, 0], [0, seq_limit - seq.shape[1]]], \"CONSTANT\")"
   ]
  },
  {
   "cell_type": "code",
   "execution_count": 27,
   "metadata": {},
   "outputs": [],
   "source": [
    "@tf.function\n",
    "def train_step(img_tensor, target, val=False):\n",
    "    loss = 0\n",
    "\n",
    "    # initializing the hidden state for each batch\n",
    "    # because the captions are not related from image to image\n",
    "    hidden = decoder.reset_state(batch_size=target.shape[0])\n",
    "\n",
    "    dec_input = tf.expand_dims([tokenizer.word_index['<START>']] * target.shape[0], 1)\n",
    "    dec_input = pad_tensor_sequence(dec_input)\n",
    "    \n",
    "    if val:\n",
    "        features = encoder(img_tensor)\n",
    "\n",
    "        for i in range(1, target.shape[1]):\n",
    "            # passing the features through the decoder\n",
    "            predictions = decoder(dec_input, features)\n",
    "            \n",
    "            loss += loss_function(target[:, i], predictions)\n",
    "\n",
    "            # using teacher forcing\n",
    "            dec_input = tf.slice(dec_input, [0, 1 if i - seq_limit >= 0 else 0], [-1, min(i, seq_limit - 1)])\n",
    "            dec_input = tf.concat([dec_input, tf.expand_dims(target[:, i], 1)], 1)\n",
    "            dec_input = pad_tensor_sequence(dec_input)\n",
    "\n",
    "        total_loss = (loss / int(target.shape[1]))\n",
    "        return loss, total_loss\n",
    "\n",
    "    with tf.GradientTape() as tape:\n",
    "        features = encoder(img_tensor)\n",
    "\n",
    "        for i in range(1, target.shape[1]):\n",
    "            # passing the features through the decoder\n",
    "            predictions = decoder(dec_input, features)\n",
    "            \n",
    "            loss += loss_function(target[:, i], predictions)\n",
    "\n",
    "            # using teacher forcing\n",
    "            dec_input = tf.slice(dec_input, [0, 1 if i - seq_limit >= 0 else 0], [-1, min(i, seq_limit - 1)])\n",
    "            dec_input = tf.concat([dec_input, tf.expand_dims(target[:, i], 1)], 1)\n",
    "            dec_input = pad_tensor_sequence(dec_input)\n",
    "\n",
    "    total_loss = (loss / int(target.shape[1]))\n",
    "\n",
    "    trainable_variables = encoder.trainable_variables + decoder.trainable_variables\n",
    "\n",
    "    gradients = tape.gradient(loss, trainable_variables)\n",
    "\n",
    "    optimizer.apply_gradients(zip(gradients, trainable_variables))\n",
    "\n",
    "    return loss, total_loss"
   ]
  },
  {
   "cell_type": "code",
   "execution_count": 28,
   "metadata": {
    "scrolled": true
   },
   "outputs": [
    {
     "name": "stdout",
     "output_type": "stream",
     "text": [
      "Epoch 1 Batch 0 Loss 1.8994\n",
      "Time taken for Batches 4.534856796264648 sec\n",
      "Epoch 1 Batch 20 Loss 1.3485\n",
      "Time taken for Batches 26.804042100906372 sec\n",
      "Epoch 1 Batch 40 Loss 1.3266\n",
      "Time taken for Batches 49.19795632362366 sec\n",
      "Epoch 1 Batch 60 Loss 1.2360\n",
      "Time taken for Batches 71.45783758163452 sec\n",
      "Epoch 1 Batch 80 Loss 1.0692\n",
      "Time taken for Batches 94.00987792015076 sec\n",
      "Epoch 1 Batch 100 Loss 1.1113\n",
      "Time taken for Batches 116.36952471733093 sec\n",
      "Epoch 1 Batch 120 Loss 0.8990\n",
      "Time taken for Batches 138.5504162311554 sec\n",
      "Epoch 1 Batch 140 Loss 0.9165\n",
      "Time taken for Batches 160.9032974243164 sec\n",
      "Epoch 1 Loss 1.214608 Val Loss 1.034951\n",
      "Time taken for 1 epoch 213.44428634643555 sec\n",
      "\n",
      "Epoch 2 Batch 0 Loss 1.0791\n",
      "Time taken for Batches 2.147075653076172 sec\n",
      "Epoch 2 Batch 20 Loss 1.0622\n",
      "Time taken for Batches 24.706798553466797 sec\n",
      "Epoch 2 Batch 40 Loss 0.9784\n",
      "Time taken for Batches 47.199429750442505 sec\n",
      "Epoch 2 Batch 60 Loss 1.4198\n",
      "Time taken for Batches 69.59450340270996 sec\n",
      "Epoch 2 Batch 80 Loss 1.0252\n",
      "Time taken for Batches 92.42006731033325 sec\n",
      "Epoch 2 Batch 100 Loss 1.0967\n",
      "Time taken for Batches 114.85020089149475 sec\n",
      "Epoch 2 Batch 120 Loss 0.8439\n",
      "Time taken for Batches 137.13761496543884 sec\n",
      "Epoch 2 Batch 140 Loss 0.6788\n",
      "Time taken for Batches 159.57528734207153 sec\n",
      "Epoch 2 Loss 0.978399 Val Loss 0.637684\n",
      "Time taken for 1 epoch 203.5830521583557 sec\n",
      "\n",
      "Epoch 3 Batch 0 Loss 0.6288\n",
      "Time taken for Batches 2.180164098739624 sec\n",
      "Epoch 3 Batch 20 Loss 0.4895\n",
      "Time taken for Batches 24.645061492919922 sec\n",
      "Epoch 3 Batch 40 Loss 0.3317\n",
      "Time taken for Batches 47.00306725502014 sec\n",
      "Epoch 3 Batch 60 Loss 0.3450\n",
      "Time taken for Batches 69.4071455001831 sec\n",
      "Epoch 3 Batch 80 Loss 0.2211\n",
      "Time taken for Batches 91.96182370185852 sec\n",
      "Epoch 3 Batch 100 Loss 0.1454\n",
      "Time taken for Batches 114.44868779182434 sec\n",
      "Epoch 3 Batch 120 Loss 0.1358\n",
      "Time taken for Batches 136.98864603042603 sec\n",
      "Epoch 3 Batch 140 Loss 0.1079\n",
      "Time taken for Batches 159.44244194030762 sec\n",
      "Epoch 3 Loss 0.274471 Val Loss 0.129681\n",
      "Time taken for 1 epoch 203.35558319091797 sec\n",
      "\n",
      "Epoch 4 Batch 0 Loss 0.1977\n",
      "Time taken for Batches 2.1661345958709717 sec\n",
      "Epoch 4 Batch 20 Loss 0.1063\n",
      "Time taken for Batches 24.68987011909485 sec\n",
      "Epoch 4 Batch 40 Loss 0.1015\n",
      "Time taken for Batches 47.160701513290405 sec\n",
      "Epoch 4 Batch 60 Loss 0.0837\n",
      "Time taken for Batches 69.75938415527344 sec\n",
      "Epoch 4 Batch 80 Loss 0.1037\n",
      "Time taken for Batches 92.32654118537903 sec\n",
      "Epoch 4 Batch 100 Loss 0.0967\n",
      "Time taken for Batches 114.79639554023743 sec\n",
      "Epoch 4 Batch 120 Loss 0.0792\n",
      "Time taken for Batches 137.3270013332367 sec\n",
      "Epoch 4 Batch 140 Loss 0.0875\n",
      "Time taken for Batches 159.87202668190002 sec\n",
      "Epoch 4 Loss 0.104349 Val Loss 0.087953\n",
      "Time taken for 1 epoch 204.09056091308594 sec\n",
      "\n",
      "Epoch 5 Batch 0 Loss 0.0840\n",
      "Time taken for Batches 2.191679000854492 sec\n",
      "Epoch 5 Batch 20 Loss 0.0795\n",
      "Time taken for Batches 24.768625259399414 sec\n",
      "Epoch 5 Batch 40 Loss 0.0966\n",
      "Time taken for Batches 48.61403560638428 sec\n",
      "Epoch 5 Batch 60 Loss 0.0985\n",
      "Time taken for Batches 71.20731997489929 sec\n",
      "Epoch 5 Batch 80 Loss 0.0843\n",
      "Time taken for Batches 93.74610042572021 sec\n",
      "Epoch 5 Batch 100 Loss 0.0942\n",
      "Time taken for Batches 116.15428185462952 sec\n",
      "Epoch 5 Batch 120 Loss 0.2029\n",
      "Time taken for Batches 138.58319807052612 sec\n",
      "Epoch 5 Batch 140 Loss 0.1234\n",
      "Time taken for Batches 161.0037441253662 sec\n",
      "Epoch 5 Loss 0.105116 Val Loss 0.110782\n",
      "Time taken for 1 epoch 205.43875217437744 sec\n",
      "\n",
      "Epoch 6 Batch 0 Loss 0.1233\n",
      "Time taken for Batches 2.176309108734131 sec\n",
      "Epoch 6 Batch 20 Loss 0.0802\n",
      "Time taken for Batches 24.528871297836304 sec\n",
      "Epoch 6 Batch 40 Loss 0.0786\n",
      "Time taken for Batches 47.014694690704346 sec\n",
      "Epoch 6 Batch 60 Loss 0.0828\n",
      "Time taken for Batches 69.44550061225891 sec\n",
      "Epoch 6 Batch 80 Loss 0.0855\n",
      "Time taken for Batches 92.19771718978882 sec\n",
      "Epoch 6 Batch 100 Loss 0.0884\n",
      "Time taken for Batches 114.71504974365234 sec\n",
      "Epoch 6 Batch 120 Loss 0.0784\n",
      "Time taken for Batches 137.13663578033447 sec\n",
      "Epoch 6 Batch 140 Loss 0.0877\n",
      "Time taken for Batches 159.63044619560242 sec\n",
      "Epoch 6 Loss 0.085207 Val Loss 0.081270\n",
      "Time taken for 1 epoch 212.32512021064758 sec\n",
      "\n",
      "Epoch 7 Batch 0 Loss 0.1037\n",
      "Time taken for Batches 2.171236515045166 sec\n",
      "Epoch 7 Batch 20 Loss 0.0760\n",
      "Time taken for Batches 24.631298065185547 sec\n",
      "Epoch 7 Batch 40 Loss 0.0746\n",
      "Time taken for Batches 47.186848640441895 sec\n",
      "Epoch 7 Batch 60 Loss 0.1025\n",
      "Time taken for Batches 69.51609587669373 sec\n",
      "Epoch 7 Batch 80 Loss 0.0715\n",
      "Time taken for Batches 92.04091095924377 sec\n",
      "Epoch 7 Batch 100 Loss 0.0853\n",
      "Time taken for Batches 114.4575605392456 sec\n",
      "Epoch 7 Batch 120 Loss 0.0850\n",
      "Time taken for Batches 136.85357427597046 sec\n",
      "Epoch 7 Batch 140 Loss 0.0919\n",
      "Time taken for Batches 159.23512506484985 sec\n",
      "Epoch 7 Loss 0.081028 Val Loss 0.078514\n",
      "Time taken for 1 epoch 203.20931315422058 sec\n",
      "\n",
      "Epoch 8 Batch 0 Loss 0.0748\n",
      "Time taken for Batches 2.180055856704712 sec\n",
      "Epoch 8 Batch 20 Loss 0.0674\n",
      "Time taken for Batches 24.665969848632812 sec\n",
      "Epoch 8 Batch 40 Loss 0.0715\n",
      "Time taken for Batches 47.07685112953186 sec\n",
      "Epoch 8 Batch 60 Loss 0.0944\n",
      "Time taken for Batches 69.6071662902832 sec\n",
      "Epoch 8 Batch 80 Loss 0.0724\n",
      "Time taken for Batches 92.03980445861816 sec\n",
      "Epoch 8 Batch 100 Loss 0.0930\n",
      "Time taken for Batches 114.4144024848938 sec\n",
      "Epoch 8 Batch 120 Loss 0.0734\n",
      "Time taken for Batches 136.84443831443787 sec\n",
      "Epoch 8 Batch 140 Loss 0.0812\n",
      "Time taken for Batches 159.35236024856567 sec\n",
      "Epoch 8 Loss 0.080118 Val Loss 0.081249\n",
      "Time taken for 1 epoch 206.190593957901 sec\n",
      "\n",
      "Epoch 9 Batch 0 Loss 0.0815\n",
      "Time taken for Batches 2.4513416290283203 sec\n",
      "Epoch 9 Batch 20 Loss 0.0802\n",
      "Time taken for Batches 25.220404386520386 sec\n",
      "Epoch 9 Batch 40 Loss 0.0873\n",
      "Time taken for Batches 47.59525156021118 sec\n",
      "Epoch 9 Batch 60 Loss 0.0793\n",
      "Time taken for Batches 69.98843693733215 sec\n",
      "Epoch 9 Batch 80 Loss 0.0772\n",
      "Time taken for Batches 92.53513669967651 sec\n",
      "Epoch 9 Batch 100 Loss 0.0796\n",
      "Time taken for Batches 115.00419116020203 sec\n",
      "Epoch 9 Batch 120 Loss 0.0787\n",
      "Time taken for Batches 137.38714599609375 sec\n",
      "Epoch 9 Batch 140 Loss 0.0935\n",
      "Time taken for Batches 159.7968509197235 sec\n",
      "Epoch 9 Loss 0.082183 Val Loss 0.076615\n",
      "Time taken for 1 epoch 203.86703968048096 sec\n",
      "\n",
      "Epoch 10 Batch 0 Loss 0.0777\n",
      "Time taken for Batches 2.1809558868408203 sec\n",
      "Epoch 10 Batch 20 Loss 0.0756\n",
      "Time taken for Batches 24.49148416519165 sec\n",
      "Epoch 10 Batch 40 Loss 0.0719\n",
      "Time taken for Batches 46.994407176971436 sec\n",
      "Epoch 10 Batch 60 Loss 0.0834\n",
      "Time taken for Batches 69.49480891227722 sec\n",
      "Epoch 10 Batch 80 Loss 0.0723\n",
      "Time taken for Batches 91.97227740287781 sec\n",
      "Epoch 10 Batch 100 Loss 0.0728\n",
      "Time taken for Batches 114.5814459323883 sec\n",
      "Epoch 10 Batch 120 Loss 0.0775\n",
      "Time taken for Batches 137.11722230911255 sec\n",
      "Epoch 10 Batch 140 Loss 0.0672\n",
      "Time taken for Batches 159.35071802139282 sec\n",
      "Epoch 10 Loss 0.076975 Val Loss 0.089140\n",
      "Time taken for 1 epoch 203.3954315185547 sec\n",
      "\n",
      "Epoch 11 Batch 0 Loss 0.1184\n",
      "Time taken for Batches 2.2190282344818115 sec\n",
      "Epoch 11 Batch 20 Loss 0.0749\n",
      "Time taken for Batches 24.539286851882935 sec\n",
      "Epoch 11 Batch 40 Loss 0.0645\n",
      "Time taken for Batches 47.27945852279663 sec\n",
      "Epoch 11 Batch 60 Loss 1.2426\n",
      "Time taken for Batches 69.70670318603516 sec\n",
      "Epoch 11 Batch 80 Loss 0.1211\n",
      "Time taken for Batches 92.19441342353821 sec\n",
      "Epoch 11 Batch 100 Loss 0.1112\n",
      "Time taken for Batches 115.68614101409912 sec\n",
      "Epoch 11 Batch 120 Loss 0.0784\n",
      "Time taken for Batches 138.2917549610138 sec\n",
      "Epoch 11 Batch 140 Loss 0.0858\n",
      "Time taken for Batches 161.1133861541748 sec\n",
      "Epoch 11 Loss 0.150907 Val Loss 0.079289\n",
      "Time taken for 1 epoch 216.38173604011536 sec\n",
      "\n",
      "Epoch 12 Batch 0 Loss 0.0901\n",
      "Time taken for Batches 2.545107126235962 sec\n",
      "Epoch 12 Batch 20 Loss 0.0747\n",
      "Time taken for Batches 24.955820322036743 sec\n",
      "Epoch 12 Batch 40 Loss 0.0801\n",
      "Time taken for Batches 47.49694776535034 sec\n",
      "Epoch 12 Batch 60 Loss 0.0763\n",
      "Time taken for Batches 69.86977648735046 sec\n",
      "Epoch 12 Batch 80 Loss 0.0825\n",
      "Time taken for Batches 92.52028465270996 sec\n",
      "Epoch 12 Batch 100 Loss 0.0783\n",
      "Time taken for Batches 114.91023564338684 sec\n",
      "Epoch 12 Batch 120 Loss 0.0851\n",
      "Time taken for Batches 138.11525225639343 sec\n",
      "Epoch 12 Batch 140 Loss 0.0921\n",
      "Time taken for Batches 160.91433596611023 sec\n",
      "Epoch 12 Loss 0.079504 Val Loss 0.075136\n",
      "Time taken for 1 epoch 205.14019298553467 sec\n",
      "\n"
     ]
    },
    {
     "name": "stdout",
     "output_type": "stream",
     "text": [
      "Epoch 13 Batch 0 Loss 0.0741\n",
      "Time taken for Batches 2.2756526470184326 sec\n",
      "Epoch 13 Batch 20 Loss 0.0690\n",
      "Time taken for Batches 25.2853364944458 sec\n",
      "Epoch 13 Batch 40 Loss 0.0696\n",
      "Time taken for Batches 48.59735369682312 sec\n",
      "Epoch 13 Batch 60 Loss 0.0849\n",
      "Time taken for Batches 76.16686534881592 sec\n",
      "Epoch 13 Batch 80 Loss 0.0766\n",
      "Time taken for Batches 104.35093832015991 sec\n",
      "Epoch 13 Batch 100 Loss 0.0939\n",
      "Time taken for Batches 130.68962359428406 sec\n",
      "Epoch 13 Batch 120 Loss 0.0745\n",
      "Time taken for Batches 158.2535901069641 sec\n",
      "Epoch 13 Batch 140 Loss 0.0681\n",
      "Time taken for Batches 181.6325306892395 sec\n",
      "Epoch 13 Loss 0.076966 Val Loss 0.077224\n",
      "Time taken for 1 epoch 228.34605813026428 sec\n",
      "\n",
      "Epoch 14 Batch 0 Loss 0.0739\n",
      "Time taken for Batches 2.2961840629577637 sec\n",
      "Epoch 14 Batch 20 Loss 0.0808\n",
      "Time taken for Batches 26.542560577392578 sec\n",
      "Epoch 14 Batch 40 Loss 0.0756\n",
      "Time taken for Batches 50.00402021408081 sec\n",
      "Epoch 14 Batch 60 Loss 0.0767\n",
      "Time taken for Batches 73.88826775550842 sec\n",
      "Epoch 14 Batch 80 Loss 0.0759\n",
      "Time taken for Batches 97.69673013687134 sec\n",
      "Epoch 14 Batch 100 Loss 0.0752\n",
      "Time taken for Batches 121.42690753936768 sec\n",
      "Epoch 14 Batch 120 Loss 0.0758\n",
      "Time taken for Batches 145.09054350852966 sec\n",
      "Epoch 14 Batch 140 Loss 0.0719\n",
      "Time taken for Batches 168.29238748550415 sec\n",
      "Epoch 14 Loss 0.076216 Val Loss 0.075290\n",
      "Time taken for 1 epoch 214.68316960334778 sec\n",
      "\n",
      "Epoch 15 Batch 0 Loss 0.0838\n",
      "Time taken for Batches 2.2866952419281006 sec\n",
      "Epoch 15 Batch 20 Loss 0.0731\n",
      "Time taken for Batches 25.6652090549469 sec\n",
      "Epoch 15 Batch 40 Loss 0.0799\n",
      "Time taken for Batches 49.38712453842163 sec\n",
      "Epoch 15 Batch 60 Loss 0.0747\n",
      "Time taken for Batches 73.00877332687378 sec\n",
      "Epoch 15 Batch 80 Loss 0.0817\n",
      "Time taken for Batches 96.66774606704712 sec\n",
      "Epoch 15 Batch 100 Loss 0.0707\n",
      "Time taken for Batches 120.56969332695007 sec\n",
      "Epoch 15 Batch 120 Loss 0.0756\n",
      "Time taken for Batches 144.5471212863922 sec\n",
      "Epoch 15 Batch 140 Loss 0.0670\n",
      "Time taken for Batches 168.42131304740906 sec\n",
      "Epoch 15 Loss 0.075703 Val Loss 0.071184\n",
      "Time taken for 1 epoch 215.43049573898315 sec\n",
      "\n",
      "Epoch 16 Batch 0 Loss 0.0614\n",
      "Time taken for Batches 2.290799379348755 sec\n",
      "Epoch 16 Batch 20 Loss 0.0723\n",
      "Time taken for Batches 26.156056880950928 sec\n",
      "Epoch 16 Batch 40 Loss 0.0749\n",
      "Time taken for Batches 50.061612606048584 sec\n",
      "Epoch 16 Batch 60 Loss 0.0686\n",
      "Time taken for Batches 73.66254353523254 sec\n",
      "Epoch 16 Batch 80 Loss 0.0692\n",
      "Time taken for Batches 97.21350622177124 sec\n",
      "Epoch 16 Batch 100 Loss 0.0707\n",
      "Time taken for Batches 120.95829391479492 sec\n",
      "Epoch 16 Batch 120 Loss 0.0698\n",
      "Time taken for Batches 144.50530004501343 sec\n",
      "Epoch 16 Batch 140 Loss 0.0754\n",
      "Time taken for Batches 168.09656620025635 sec\n",
      "Epoch 16 Loss 0.074879 Val Loss 0.069656\n",
      "Time taken for 1 epoch 223.31910347938538 sec\n",
      "\n",
      "Epoch 17 Batch 0 Loss 0.0697\n",
      "Time taken for Batches 2.2876853942871094 sec\n",
      "Epoch 17 Batch 20 Loss 0.0705\n",
      "Time taken for Batches 26.006415367126465 sec\n",
      "Epoch 17 Batch 40 Loss 0.0735\n",
      "Time taken for Batches 49.63906526565552 sec\n",
      "Epoch 17 Batch 60 Loss 0.0824\n",
      "Time taken for Batches 73.43378114700317 sec\n",
      "Epoch 17 Batch 80 Loss 0.0650\n",
      "Time taken for Batches 97.20580172538757 sec\n",
      "Epoch 17 Batch 100 Loss 0.0716\n",
      "Time taken for Batches 120.70035696029663 sec\n",
      "Epoch 17 Batch 120 Loss 0.0792\n",
      "Time taken for Batches 144.74423241615295 sec\n",
      "Epoch 17 Batch 140 Loss 0.0837\n",
      "Time taken for Batches 170.60424327850342 sec\n",
      "Epoch 17 Loss 0.074149 Val Loss 0.069815\n",
      "Time taken for 1 epoch 220.3419942855835 sec\n",
      "\n",
      "Epoch 18 Batch 0 Loss 0.0848\n",
      "Time taken for Batches 2.302175998687744 sec\n",
      "Epoch 18 Batch 20 Loss 0.0689\n",
      "Time taken for Batches 26.056007385253906 sec\n",
      "Epoch 18 Batch 40 Loss 0.0713\n",
      "Time taken for Batches 49.91979384422302 sec\n",
      "Epoch 18 Batch 60 Loss 0.0617\n",
      "Time taken for Batches 73.78340530395508 sec\n",
      "Epoch 18 Batch 80 Loss 0.0716\n",
      "Time taken for Batches 97.6283233165741 sec\n",
      "Epoch 18 Batch 100 Loss 0.0752\n",
      "Time taken for Batches 121.49940729141235 sec\n",
      "Epoch 18 Batch 120 Loss 0.0819\n",
      "Time taken for Batches 144.98031973838806 sec\n",
      "Epoch 18 Batch 140 Loss 0.0776\n",
      "Time taken for Batches 168.44924235343933 sec\n",
      "Epoch 18 Loss 0.072008 Val Loss 0.069066\n",
      "Time taken for 1 epoch 215.42973375320435 sec\n",
      "\n",
      "Epoch 19 Batch 0 Loss 0.0750\n",
      "Time taken for Batches 2.324420213699341 sec\n",
      "Epoch 19 Batch 20 Loss 0.0601\n",
      "Time taken for Batches 26.160484790802002 sec\n",
      "Epoch 19 Batch 40 Loss 0.0837\n",
      "Time taken for Batches 49.65628623962402 sec\n",
      "Epoch 19 Batch 60 Loss 0.0685\n",
      "Time taken for Batches 73.09633612632751 sec\n",
      "Epoch 19 Batch 80 Loss 0.0657\n",
      "Time taken for Batches 96.86408114433289 sec\n",
      "Epoch 19 Batch 100 Loss 0.0748\n",
      "Time taken for Batches 120.89286160469055 sec\n",
      "Epoch 19 Batch 120 Loss 0.0773\n",
      "Time taken for Batches 144.58283185958862 sec\n",
      "Epoch 19 Batch 140 Loss 0.0650\n",
      "Time taken for Batches 168.10706615447998 sec\n",
      "Epoch 19 Loss 0.070816 Val Loss 0.067957\n",
      "Time taken for 1 epoch 214.9368381500244 sec\n",
      "\n",
      "Epoch 20 Batch 0 Loss 0.0753\n",
      "Time taken for Batches 2.321650743484497 sec\n",
      "Epoch 20 Batch 20 Loss 0.0661\n",
      "Time taken for Batches 25.935956478118896 sec\n",
      "Epoch 20 Batch 40 Loss 0.0622\n",
      "Time taken for Batches 49.8026921749115 sec\n",
      "Epoch 20 Batch 60 Loss 0.0859\n",
      "Time taken for Batches 73.52057099342346 sec\n",
      "Epoch 20 Batch 80 Loss 0.0688\n",
      "Time taken for Batches 97.26659369468689 sec\n",
      "Epoch 20 Batch 100 Loss 0.2013\n",
      "Time taken for Batches 121.00935745239258 sec\n",
      "Epoch 20 Batch 120 Loss 0.0866\n",
      "Time taken for Batches 144.7745282649994 sec\n",
      "Epoch 20 Batch 140 Loss 0.0785\n",
      "Time taken for Batches 168.68298768997192 sec\n",
      "Epoch 20 Loss 0.087940 Val Loss 0.073632\n",
      "Time taken for 1 epoch 215.9331991672516 sec\n",
      "\n"
     ]
    }
   ],
   "source": [
    "EPOCHS = 20\n",
    "\n",
    "for epoch in range(start_epoch, EPOCHS):\n",
    "    start = time.time()\n",
    "    total_loss = 0\n",
    "    total_val_loss = 0\n",
    "\n",
    "    for (batch, (img_tensor, target)) in enumerate(train_dataset):\n",
    "        batch_loss, t_loss = train_step(img_tensor, target)\n",
    "        total_loss += t_loss\n",
    "\n",
    "        if batch % 20 == 0:\n",
    "            print ('Epoch {} Batch {} Loss {:.4f}'.format(\n",
    "            epoch + 1, batch, batch_loss.numpy() / int(target.shape[1])))\n",
    "            print ('Time taken for Batches {} sec'.format(time.time() - start))\n",
    "    \n",
    "    for (batch, (img_tensor, target)) in enumerate(val_dataset):\n",
    "        _, t_loss = train_step(img_tensor, target, True)\n",
    "        total_val_loss += t_loss\n",
    "            \n",
    "    # storing the epoch end loss value to plot later\n",
    "    loss_plot.append(total_loss / num_steps)\n",
    "    val_plot.append(total_val_loss / num_val_steps)\n",
    "\n",
    "    if epoch % 5 == 0:\n",
    "        ckpt_manager.save()\n",
    "\n",
    "    print ('Epoch {} Loss {:.6f} Val Loss {:.6f}'.format(epoch + 1,\n",
    "                                         total_loss/num_steps, total_val_loss/num_val_steps))\n",
    "    print ('Time taken for 1 epoch {} sec\\n'.format(time.time() - start))"
   ]
  },
  {
   "cell_type": "markdown",
   "metadata": {},
   "source": [
    "Model Evaluation\n",
    "----"
   ]
  },
  {
   "cell_type": "code",
   "execution_count": 29,
   "metadata": {},
   "outputs": [],
   "source": [
    "# save_plot(\"./checkpoints/cnn_rnn_s2w/exp/sing/loss_plot\", loss_plot)\n",
    "# save_plot(\"./checkpoints/cnn_rnn_s2w/exp/sing/val_plot\", val_plot)"
   ]
  },
  {
   "cell_type": "code",
   "execution_count": 30,
   "metadata": {},
   "outputs": [
    {
     "data": {
      "image/png": "[encoded data removed]",
      "text/plain": [
       "<Figure size 432x288 with 1 Axes>"
      ]
     },
     "metadata": {
      "needs_background": "light"
     },
     "output_type": "display_data"
    }
   ],
   "source": [
    "plt.plot(loss_plot)\n",
    "plt.plot(val_plot)\n",
    "plt.xlabel('Epochs')\n",
    "plt.ylabel('Loss')\n",
    "plt.title('Loss Plot')\n",
    "plt.legend(['Loss', 'Val Loss'], loc='upper left')\n",
    "plt.show()"
   ]
  },
  {
   "cell_type": "code",
   "execution_count": 31,
   "metadata": {},
   "outputs": [],
   "source": [
    "def evaluate(image):\n",
    "    hidden = decoder.reset_state(batch_size=1)\n",
    "\n",
    "    features = encoder(tf.expand_dims(image, 0))\n",
    "\n",
    "    dec_input = tf.expand_dims([tokenizer.word_index['<START>']], 0)\n",
    "    dec_input = pad_tensor_sequence(dec_input)\n",
    "    result = ['<START>']\n",
    "\n",
    "    for i in range(1, max_length):\n",
    "        predictions = decoder(dec_input, features)\n",
    "\n",
    "        predicted_id = tf.random.categorical(predictions, 1)[0][0].numpy()\n",
    "        result.append(tokenizer.index_word[predicted_id])\n",
    "\n",
    "        if tokenizer.index_word[predicted_id] == '<END>':\n",
    "            return result\n",
    "\n",
    "        dec_input = tf.slice(dec_input, [0, 1 if i - seq_limit >= 0 else 0], [-1, min(i, seq_limit - 1)])\n",
    "        dec_input = tf.concat([dec_input, tf.expand_dims([predicted_id], 1)], 1)\n",
    "        dec_input = pad_tensor_sequence(dec_input)\n",
    "\n",
    "    return result"
   ]
  },
  {
   "cell_type": "code",
   "execution_count": 32,
   "metadata": {},
   "outputs": [],
   "source": [
    "def eval_path(imgpath):\n",
    "    return evaluate(process_img_path(imgpath))"
   ]
  },
  {
   "cell_type": "code",
   "execution_count": 33,
   "metadata": {},
   "outputs": [
    {
     "name": "stdout",
     "output_type": "stream",
     "text": [
      "Actual DSL:  <START> Body { Header { Link Button Link Link } Row { Column { Subtitle Paragraph Button } Column { Subtitle Paragraph Button } } Row { Column { Subtitle Paragraph Button } Column { Subtitle Paragraph Button } Column { Subtitle Paragraph Button } Column { Subtitle Paragraph Button } } Row { Column { Subtitle Paragraph Button } Column { Subtitle Paragraph Button } } } <END>                        \n",
      "\n",
      "Predicted DSL:  <START> Body { Header { Button Link } Row { Column { Subtitle Paragraph Button } } Row { Column { Subtitle Paragraph Button } Column { Subtitle Paragraph Button } Column { Subtitle Paragraph Button } } Row { Column { Subtitle Paragraph Button } Column { Subtitle Paragraph Button } } Row { Column { Subtitle Paragraph Button } } } <END>\n"
     ]
    },
    {
     "data": {
      "image/png": "[encoded data removed]",
      "text/plain": [
       "<Figure size 432x288 with 1 Axes>"
      ]
     },
     "metadata": {
      "needs_background": "light"
     },
     "output_type": "display_data"
    }
   ],
   "source": [
    "test_entry = test_dataset.take(1)\n",
    "\n",
    "for image, seq in test_entry:\n",
    "    actual = tokenizer.sequences_to_texts([seq.numpy()])[0].replace(\"<PAD>\", \"\")\n",
    "    predicted = ' '.join(evaluate(image))\n",
    "    plt.imshow(image.numpy())\n",
    "    print(\"Actual DSL: \", actual)\n",
    "    print(\"\\nPredicted DSL: \", predicted)"
   ]
  },
  {
   "cell_type": "code",
   "execution_count": 34,
   "metadata": {},
   "outputs": [
    {
     "name": "stdout",
     "output_type": "stream",
     "text": [
      "Predicted count: 350\r"
     ]
    }
   ],
   "source": [
    "def score(dataset, verbose=False):\n",
    "    actual, predicted = list(), list()\n",
    "    i = 0\n",
    "    for image, seq in dataset:\n",
    "        act = tokenizer.sequences_to_texts([seq.numpy()])[0].replace(\"<PAD>\", \"\").split()\n",
    "        pred = evaluate(image)\n",
    "        pred = [\"<START>\"] + pred\n",
    "        if verbose:\n",
    "            print(\"\\n\\nActual DSL---->\\n\", act)\n",
    "            print(\"\\nPredicted DSL---->\\n\", pred)\n",
    "        else:\n",
    "            print(\"Predicted count: \" + str(i + 1), end='\\r', flush=True)\n",
    "        actual.append([act])\n",
    "        predicted.append(pred)\n",
    "        i += 1\n",
    "    bleu = corpus_bleu(actual, predicted)\n",
    "    \n",
    "    _actual = list(map(lambda p: ' '.join(p[0]), actual))\n",
    "    _predicted = list(map(lambda p: ' '.join(p), predicted))\n",
    "    _rouge = Rouge()\n",
    "    rouge = _rouge.get_scores(_predicted, _actual, avg=True)\n",
    "    return bleu, rouge,  actual, predicted\n",
    "        \n",
    "bleu, rouge, actual, predicted = score(test_dataset)"
   ]
  },
  {
   "cell_type": "code",
   "execution_count": 35,
   "metadata": {},
   "outputs": [
    {
     "name": "stdout",
     "output_type": "stream",
     "text": [
      "0.8302586553123708\n",
      "{'rouge-1': {'f': 0.8870135060909333, 'p': 0.8825097669748493, 'r': 0.929173923121195}, 'rouge-2': {'f': 0.8573423186668533, 'p': 0.8531043847722986, 'r': 0.8987976045260652}, 'rouge-l': {'f': 0.9954451295757287, 'p': 0.9961904761904764, 'r': 0.9947619047619048}}\n"
     ]
    }
   ],
   "source": [
    "print(bleu)\n",
    "print(rouge)"
   ]
  },
  {
   "cell_type": "code",
   "execution_count": null,
   "metadata": {},
   "outputs": [],
   "source": []
  }
 ],
 "metadata": {
  "kernelspec": {
   "display_name": "Python 3",
   "language": "python",
   "name": "python3"
  },
  "language_info": {
   "codemirror_mode": {
    "name": "ipython",
    "version": 3
   },
   "file_extension": ".py",
   "mimetype": "text/x-python",
   "name": "python",
   "nbconvert_exporter": "python",
   "pygments_lexer": "ipython3",
   "version": "3.8.3"
  }
 },
 "nbformat": 4,
 "nbformat_minor": 4
}
