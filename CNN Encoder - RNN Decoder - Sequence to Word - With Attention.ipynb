{
 "cells": [
  {
   "cell_type": "markdown",
   "metadata": {},
   "source": [
    "CNN Encoder - RNN Decoder - Sequence to Word\n",
    "===="
   ]
  },
  {
   "cell_type": "code",
   "execution_count": 1,
   "metadata": {},
   "outputs": [],
   "source": [
    "import tensorflow as tf\n",
    "import tensorflow_datasets as tfds\n",
    "import numpy as np\n",
    "import io\n",
    "import sys\n",
    "import time\n",
    "import glob\n",
    "import pickle\n",
    "import gc\n",
    "import matplotlib.pyplot as plt\n",
    "from nltk.translate.bleu_score import corpus_bleu, sentence_bleu\n",
    "from rouge import Rouge\n",
    "\n",
    "AUTOTUNE = tf.data.experimental.AUTOTUNE\n",
    "\n",
    "tf.config.experimental_run_functions_eagerly(True)\n",
    "physical_devices = tf.config.experimental.list_physical_devices('GPU')\n",
    "tf.config.experimental.set_memory_growth(physical_devices[0], True)"
   ]
  },
  {
   "cell_type": "code",
   "execution_count": 2,
   "metadata": {},
   "outputs": [],
   "source": [
    "# Read a file and return a string\n",
    "def load_doc(filename):\n",
    "    file = open(filename, 'r')\n",
    "    text = file.read()\n",
    "    file.close()\n",
    "    return text"
   ]
  },
  {
   "cell_type": "markdown",
   "metadata": {},
   "source": [
    "Data Transformation\n",
    "----"
   ]
  },
  {
   "cell_type": "code",
   "execution_count": 3,
   "metadata": {},
   "outputs": [
    {
     "name": "stdout",
     "output_type": "stream",
     "text": [
      "b'..\\\\data_collection\\\\webpages\\\\PIX2CODE_COMPILED\\\\00150311-A7AE-4804-8B7D-9273687B4FC0.png'\n",
      "b'..\\\\data_collection\\\\webpages\\\\PIX2CODE_COMPILED\\\\00190F39-0DE9-47EB-B0C2-856FDD3ACE62.png'\n",
      "b'..\\\\data_collection\\\\webpages\\\\PIX2CODE_COMPILED\\\\00779BBE-DD64-4909-9909-24F5C8044A7B.png'\n",
      "b'..\\\\data_collection\\\\webpages\\\\PIX2CODE_COMPILED\\\\00CDC9A8-3D73-4291-90EF-49178E408797.png'\n",
      "b'..\\\\data_collection\\\\webpages\\\\PIX2CODE_COMPILED\\\\00E15BB2-5568-4466-BA18-A8A8D34FC61C.png'\n"
     ]
    }
   ],
   "source": [
    "dir_name = 'PIX2CODE_COMPILED'\n",
    "data_dir = '../data_collection/webpages/' + dir_name\n",
    "\n",
    "IMG_WIDTH = 299\n",
    "IMG_HEIGHT = 299\n",
    "\n",
    "# get all image filepaths\n",
    "list_img = tf.data.Dataset.list_files(str(data_dir + \"/*.png\"), shuffle=False)\n",
    "\n",
    "DATASET_SIZE = len(glob.glob(data_dir + \"/*.png\"))\n",
    "\n",
    "for f in list_img.take(5):\n",
    "    print(f.numpy())"
   ]
  },
  {
   "cell_type": "markdown",
   "metadata": {},
   "source": [
    "**Image Processing**"
   ]
  },
  {
   "cell_type": "code",
   "execution_count": 4,
   "metadata": {},
   "outputs": [],
   "source": [
    "# decodes an image string\n",
    "@tf.function\n",
    "def decode_img(img):\n",
    "    # convert the compressed string to a 3D uint8 tensor\n",
    "    img = tf.image.decode_png(img, channels=3)\n",
    "    \n",
    "    img = tf.image.convert_image_dtype(img, tf.float32)\n",
    "    \n",
    "    img = tf.image.resize(img, (IMG_WIDTH, IMG_HEIGHT))\n",
    "                          \n",
    "    #img = tf.keras.applications.inception_v3.preprocess_input(img)\n",
    "    # Use `convert_image_dtype` to convert to floats in the [0,1] range.\n",
    "    # resize the image to the desired size.\n",
    "    return img"
   ]
  },
  {
   "cell_type": "markdown",
   "metadata": {},
   "source": [
    "**Sequence Processing**"
   ]
  },
  {
   "cell_type": "code",
   "execution_count": 5,
   "metadata": {},
   "outputs": [],
   "source": [
    "tokenizer = tf.keras.preprocessing.text.Tokenizer(filters='', split=\" \", lower=False)\n",
    "# Create the vocabulary \n",
    "tokenizer.fit_on_texts([load_doc('./DSL.vocab')])\n",
    "\n",
    "# Add padding\n",
    "tokenizer.word_index['<PAD>'] = 0\n",
    "tokenizer.index_word[0] = '<PAD>'"
   ]
  },
  {
   "cell_type": "code",
   "execution_count": 6,
   "metadata": {},
   "outputs": [],
   "source": [
    "def tokenizer_lookup(word):\n",
    "    return tokenizer.word_index[word.numpy().decode()]\n",
    "\n",
    "# tensorflow way to convert text to sequence with tokenizer\n",
    "@tf.function\n",
    "def text_to_seq(text, tokenizer):\n",
    "    spl = tf.map_fn(lambda t: tf.py_function(func=tokenizer_lookup, inp=[t], Tout=tf.int32), text, dtype=\"int32\")\n",
    "    return spl"
   ]
  },
  {
   "cell_type": "code",
   "execution_count": 7,
   "metadata": {},
   "outputs": [],
   "source": [
    "# converts image filepath to its label\n",
    "@tf.function\n",
    "def get_seq(file_path):\n",
    "    # convert from png to gui file\n",
    "    path = tf.strings.regex_replace(file_path, \".png\", \".gui\")\n",
    "    # read contents and return\n",
    "    label = tf.constant(\"<START> \") + tf.io.read_file(path) + tf.constant(\" <END>\")\n",
    "    return tf.strings.split(label)"
   ]
  },
  {
   "cell_type": "code",
   "execution_count": 8,
   "metadata": {},
   "outputs": [
    {
     "name": "stdout",
     "output_type": "stream",
     "text": [
      "{1: '{', 2: '}', 3: '<START>', 4: '<END>', 5: 'Body', 6: 'Block', 7: 'Container', 8: 'Row', 9: 'Column', 10: 'Header', 11: 'Footer', 12: 'Paragraph', 13: 'Image', 14: 'Button', 15: 'Subtitle', 16: 'Title', 17: 'Link', 18: 'TextBox', 19: 'CheckBox', 20: 'RadioBox', 21: 'Range', 0: '<PAD>'}\n"
     ]
    }
   ],
   "source": [
    "print(tokenizer.index_word)"
   ]
  },
  {
   "cell_type": "markdown",
   "metadata": {},
   "source": [
    "**Combine and Split Datasets**"
   ]
  },
  {
   "cell_type": "code",
   "execution_count": 9,
   "metadata": {},
   "outputs": [],
   "source": [
    "# does all processing per dataset image path\n",
    "@tf.function\n",
    "def process_path(file_path):\n",
    "    # load the raw data from the file as a string\n",
    "    img = tf.io.read_file(file_path)\n",
    "    img = decode_img(img)\n",
    "    \n",
    "    seq = get_seq(file_path)\n",
    "    seq = text_to_seq(seq, tokenizer)\n",
    "    return img, seq"
   ]
  },
  {
   "cell_type": "code",
   "execution_count": 10,
   "metadata": {},
   "outputs": [],
   "source": [
    "dataset = list_img.map(process_path, num_parallel_calls=AUTOTUNE)"
   ]
  },
  {
   "cell_type": "code",
   "execution_count": 11,
   "metadata": {},
   "outputs": [],
   "source": [
    "max_length = dataset.map(lambda _, y: tf.size(y), num_parallel_calls=AUTOTUNE)\n",
    "max_length = max_length.reduce(tf.constant(0), lambda x, y: tf.math.maximum(x, y))"
   ]
  },
  {
   "cell_type": "code",
   "execution_count": 12,
   "metadata": {},
   "outputs": [
    {
     "name": "stdout",
     "output_type": "stream",
     "text": [
      "Image shape:  (299, 299, 3)\n",
      "Sequence:  ['<START> Body { Header { Button Link Link Link } Row { Column { Subtitle Paragraph Button } } Row { Column { Subtitle Paragraph Button } Column { Subtitle Paragraph Button } } Row { Column { Subtitle Paragraph Button } Column { Subtitle Paragraph Button } } } <END> <PAD> <PAD> <PAD> <PAD> <PAD> <PAD> <PAD> <PAD> <PAD> <PAD> <PAD> <PAD> <PAD> <PAD> <PAD> <PAD> <PAD> <PAD> <PAD> <PAD> <PAD> <PAD> <PAD> <PAD> <PAD> <PAD> <PAD> <PAD> <PAD> <PAD> <PAD> <PAD> <PAD> <PAD> <PAD> <PAD> <PAD> <PAD> <PAD> <PAD> <PAD> <PAD>']\n"
     ]
    },
    {
     "data": {
      "image/png": "[encoded data removed]",
      "text/plain": [
       "<Figure size 432x288 with 1 Axes>"
      ]
     },
     "metadata": {
      "needs_background": "light"
     },
     "output_type": "display_data"
    }
   ],
   "source": [
    "dataset = dataset.map(lambda x, y: (x, tf.concat([y, tf.repeat(0, max_length - tf.size(y))], -1)))\n",
    "\n",
    "for image, seq in dataset.take(1):\n",
    "    print(\"Image shape: \", image.numpy().shape)\n",
    "    print(\"Sequence: \", tokenizer.sequences_to_texts([seq.numpy()]))\n",
    "    plt.imshow(image.numpy())"
   ]
  },
  {
   "cell_type": "code",
   "execution_count": 13,
   "metadata": {},
   "outputs": [],
   "source": [
    "train_size = int(DATASET_SIZE * 0.7)\n",
    "val_size = int(DATASET_SIZE * 0.1)\n",
    "train_dataset = dataset.take(train_size)\n",
    "val_dataset = dataset.skip(train_size).take(val_size)\n",
    "test_dataset = dataset.skip(train_size + val_size)"
   ]
  },
  {
   "cell_type": "code",
   "execution_count": 14,
   "metadata": {},
   "outputs": [],
   "source": [
    "BATCH_SIZE = 8\n",
    "BUFFER_SIZE = 50\n",
    "embedding_dim = 16\n",
    "encoder_units = 128\n",
    "decoder_units = 224\n",
    "num_steps = train_size // BATCH_SIZE\n",
    "num_val_steps = val_size // BATCH_SIZE\n",
    "vocab_size = len(tokenizer.word_index) + 1\n",
    "seq_limit = 64\n",
    "\n",
    "train_dataset = train_dataset.shuffle(BUFFER_SIZE).batch(BATCH_SIZE, drop_remainder=True)\n",
    "train_dataset = train_dataset.prefetch(buffer_size=tf.data.experimental.AUTOTUNE)\n",
    "val_dataset = val_dataset.shuffle(BUFFER_SIZE).batch(BATCH_SIZE, drop_remainder=True)\n",
    "val_dataset = val_dataset.prefetch(buffer_size=tf.data.experimental.AUTOTUNE)"
   ]
  },
  {
   "cell_type": "markdown",
   "metadata": {},
   "source": [
    "Model Definition\n",
    "----"
   ]
  },
  {
   "cell_type": "code",
   "execution_count": 15,
   "metadata": {},
   "outputs": [],
   "source": [
    "class CNN_Encoder(tf.keras.Model):\n",
    "    def __init__(self, embedding_dim):\n",
    "        super(CNN_Encoder, self).__init__()\n",
    "        self.model = tf.keras.models.Sequential()\n",
    "        self.model.add(tf.keras.layers.Conv2D(16, (3, 3), padding='valid', activation='relu', input_shape=(IMG_WIDTH, IMG_HEIGHT, 3,)))\n",
    "        self.model.add(tf.keras.layers.Conv2D(16, (3,3), activation='relu', padding='same', strides=2))\n",
    "        self.model.add(tf.keras.layers.Dropout(0.2))\n",
    "        self.model.add(tf.keras.layers.Conv2D(32, (3,3), activation='relu', padding='same'))\n",
    "        self.model.add(tf.keras.layers.Conv2D(32, (3,3), activation='relu', padding='same', strides=2))\n",
    "        self.model.add(tf.keras.layers.Dropout(0.2))\n",
    "        self.model.add(tf.keras.layers.Conv2D(64, (3,3), activation='relu', padding='same'))\n",
    "        self.model.add(tf.keras.layers.Conv2D(64, (3,3), activation='relu', padding='same', strides=2))\n",
    "        self.model.add(tf.keras.layers.Dropout(0.2))\n",
    "        self.model.add(tf.keras.layers.Conv2D(128, (3,3), activation='relu', padding='same'))\n",
    "\n",
    "        self.out = tf.keras.layers.Dense(embedding_dim)\n",
    "        \n",
    "    def call(self, x):\n",
    "        x = self.model(x)\n",
    "        \n",
    "        x = self.out(x)\n",
    "        x = tf.reshape(x, (x.shape[0], -1, x.shape[3]))\n",
    "        \n",
    "        x = tf.nn.relu(x)\n",
    "        \n",
    "        return x"
   ]
  },
  {
   "cell_type": "code",
   "execution_count": 16,
   "metadata": {},
   "outputs": [],
   "source": [
    "class BahdanauAttention(tf.keras.Model):\n",
    "    def __init__(self, units):\n",
    "        super(BahdanauAttention, self).__init__()\n",
    "        self.W1 = tf.keras.layers.Dense(units)\n",
    "        self.W2 = tf.keras.layers.Dense(units)\n",
    "        self.V = tf.keras.layers.Dense(1)\n",
    "\n",
    "    def call(self, features, hidden):\n",
    "        # features(CNN_encoder output) shape == (batch_size, 64, embedding_dim)\n",
    "\n",
    "        # hidden shape == (batch_size, hidden_size)\n",
    "        # hidden_with_time_axis shape == (batch_size, 1, hidden_size)\n",
    "        hidden_with_time_axis = tf.expand_dims(hidden, 1)\n",
    "        \n",
    "        w1 = self.W1(features)\n",
    "        w2 = self.W2(hidden_with_time_axis)\n",
    "\n",
    "        # score shape == (batch_size, 64, hidden_size)\n",
    "        score = tf.nn.tanh(w1 + w2)\n",
    "\n",
    "        # attention_weights shape == (batch_size, 64, 1)\n",
    "        # you get 1 at the last axis because you are applying score to self.V\n",
    "        attention_weights = tf.nn.softmax(self.V(score), axis=1)\n",
    "\n",
    "        # context_vector shape after sum == (batch_size, hidden_size)\n",
    "        context_vector = attention_weights * features\n",
    "        context_vector = tf.reduce_sum(context_vector, axis=1)\n",
    "\n",
    "        return context_vector, attention_weights"
   ]
  },
  {
   "cell_type": "code",
   "execution_count": 17,
   "metadata": {},
   "outputs": [],
   "source": [
    "class RNN_Encoder(tf.keras.Model):\n",
    "    def __init__(self, embedding_dim, units, vocab_size, max_length):\n",
    "        super(RNN_Encoder, self).__init__()\n",
    "        self.units = units\n",
    "        self.embedding = tf.keras.layers.Embedding(vocab_size, embedding_dim, input_length=max_length)\n",
    "        self.gru = tf.keras.models.Sequential()\n",
    "        self.gru.add(tf.keras.layers.GRU(self.units,\n",
    "                                   return_sequences=True,\n",
    "                                   dropout=0.2,\n",
    "                                   recurrent_initializer='glorot_uniform'))\n",
    "        self.gru.add(tf.keras.layers.TimeDistributed(tf.keras.layers.Dense(units, activation='relu')))\n",
    "        \n",
    "    def call(self, x):\n",
    "        x = self.embedding(x)\n",
    "        x = self.gru(x)\n",
    "        \n",
    "        return x\n",
    "        \n",
    "    def reset_state(self, batch_size):\n",
    "        return tf.zeros((batch_size, self.units))"
   ]
  },
  {
   "cell_type": "code",
   "execution_count": 18,
   "metadata": {},
   "outputs": [],
   "source": [
    "class CNN_RNN_Encoder(tf.keras.Model):\n",
    "    def __init__(self, embedding_dim, units, vocab_size, max_length):\n",
    "        super(CNN_RNN_Encoder, self).__init__()\n",
    "        self.rnn = RNN_Encoder(embedding_dim, units, vocab_size, max_length)\n",
    "        self.cnn = CNN_Encoder(embedding_dim)\n",
    "        self.rep = tf.keras.layers.RepeatVector(1)\n",
    "        self.features = None\n",
    "        \n",
    "    def call(self, seq, img=None):\n",
    "        if img is None and self.features is None:\n",
    "            print(\"Error, img and features None\")\n",
    "            return\n",
    "        elif img is not None:\n",
    "            self.features = self.cnn(img)\n",
    "            \n",
    "        feat = self.rep(self.features)\n",
    "            \n",
    "        seq = self.rnn(seq)\n",
    "        \n",
    "        x = tf.keras.layers.concatenate([feat, seq])\n",
    "        return x\n",
    "    \n",
    "    def set_features(self, img):\n",
    "        self.features = self.cnn(img)\n",
    "    \n",
    "    def reset_state(self, batch_size):\n",
    "        self.features = None\n",
    "        return self.rnn.reset_state(batch_size)"
   ]
  },
  {
   "cell_type": "code",
   "execution_count": 19,
   "metadata": {},
   "outputs": [],
   "source": [
    "class RNN_Decoder(tf.keras.Model):\n",
    "    def __init__(self, units, vocab_size):\n",
    "        super(RNN_Decoder, self).__init__()\n",
    "        self.units = units\n",
    "        self.gru = tf.keras.models.Sequential()\n",
    "        self.gru.add(tf.keras.layers.GRU(self.units,\n",
    "                                   return_sequences=True,\n",
    "                                   dropout=0.2,\n",
    "                                   recurrent_initializer='glorot_uniform'))\n",
    "        self.fc = tf.keras.layers.Dense(units)\n",
    "        self.fc2 = tf.keras.layers.Dense(vocab_size)\n",
    "        \n",
    "    def call(self, x):    \n",
    "        x = self.gru(x)\n",
    "        \n",
    "        x = self.fc(x)\n",
    "        x = self.fc2(x)\n",
    "        \n",
    "        return x\n",
    "    \n",
    "    def reset_state(self, batch_size):\n",
    "        return tf.zeros((batch_size, self.units))"
   ]
  },
  {
   "cell_type": "code",
   "execution_count": 20,
   "metadata": {},
   "outputs": [],
   "source": [
    "class RNN_Encoder_Decoder(tf.keras.Model):\n",
    "    def __init__(self, embedding_dim, units, vocab_size, max_length):\n",
    "        super(RNN_Encoder_Decoder, self).__init__()\n",
    "        self.units = units\n",
    "        self.embedding = tf.keras.layers.Embedding(vocab_size, embedding_dim)\n",
    "        self.gru2 = tf.keras.layers.GRU(self.units,\n",
    "                                   return_sequences=False,\n",
    "                                   return_state=True,\n",
    "                                   recurrent_initializer='glorot_uniform')\n",
    "        self.fc1 = tf.keras.layers.Dense(self.units)\n",
    "        self.fc2 = tf.keras.layers.Dense(vocab_size)\n",
    "        \n",
    "        self.rep = tf.keras.layers.RepeatVector(max_length)\n",
    "        self.attention = BahdanauAttention(self.units)\n",
    "        \n",
    "    def call(self, x, features, hidden):\n",
    "        context_vector, attention_weights = self.attention(features, hidden)\n",
    "        \n",
    "        x = self.embedding(x)\n",
    "        \n",
    "        feat = self.rep(context_vector)\n",
    "    \n",
    "        x = tf.keras.layers.concatenate([feat, x])\n",
    "        \n",
    "        output, state = self.gru2(x)\n",
    "\n",
    "        x = self.fc1(output)\n",
    "\n",
    "        # x = tf.reshape(x, (-1, x.shape[2]))\n",
    "\n",
    "        x = self.fc2(x)\n",
    "        \n",
    "        return x, state, attention_weights\n",
    "    \n",
    "    def reset_state(self, batch_size):\n",
    "        return tf.zeros((batch_size, self.units))"
   ]
  },
  {
   "cell_type": "code",
   "execution_count": 21,
   "metadata": {},
   "outputs": [],
   "source": [
    "encoder = CNN_Encoder(embedding_dim)\n",
    "decoder = RNN_Encoder_Decoder(embedding_dim, decoder_units, vocab_size, seq_limit)"
   ]
  },
  {
   "cell_type": "code",
   "execution_count": 22,
   "metadata": {},
   "outputs": [],
   "source": [
    "optimizer = tf.keras.optimizers.Adam()\n",
    "loss_object = tf.keras.losses.SparseCategoricalCrossentropy(from_logits=True, reduction='none')\n",
    "\n",
    "def loss_function(real, pred):\n",
    "    mask = tf.math.logical_not(tf.math.equal(real, 0))\n",
    "    loss_ = loss_object(real, pred)\n",
    "\n",
    "    mask = tf.cast(mask, dtype=loss_.dtype)\n",
    "    loss_ *= mask\n",
    "\n",
    "    return tf.reduce_mean(loss_)"
   ]
  },
  {
   "cell_type": "code",
   "execution_count": 23,
   "metadata": {},
   "outputs": [],
   "source": [
    "checkpoint_path = \"./checkpoints/cnn_rnn_s2w_att/exp/nd/again\"\n",
    "ckpt = tf.train.Checkpoint(encoder=encoder,\n",
    "                           decoder=decoder,\n",
    "                           optimizer = optimizer)\n",
    "ckpt_manager = tf.train.CheckpointManager(ckpt, checkpoint_path, max_to_keep=5)"
   ]
  },
  {
   "cell_type": "code",
   "execution_count": 24,
   "metadata": {},
   "outputs": [],
   "source": [
    "start_epoch = 0\n",
    "if ckpt_manager.latest_checkpoint:\n",
    "    start_epoch = (int(ckpt_manager.latest_checkpoint.split('-')[-1]) - 1) * 5\n",
    "    # restoring the latest checkpoint in checkpoint_path\n",
    "    ckpt.restore(ckpt_manager.latest_checkpoint)"
   ]
  },
  {
   "cell_type": "markdown",
   "metadata": {},
   "source": [
    "Model Training\n",
    "----"
   ]
  },
  {
   "cell_type": "code",
   "execution_count": 25,
   "metadata": {},
   "outputs": [],
   "source": [
    "def save_plot(plot_path, plot_list):\n",
    "    with open(plot_path, 'wb') as fp:\n",
    "        pickle.dump(plot_list, fp)\n",
    "        \n",
    "def load_plot(plot_path):\n",
    "    with open (plot_path, 'rb') as fp:\n",
    "         return pickle.load(fp)"
   ]
  },
  {
   "cell_type": "code",
   "execution_count": 26,
   "metadata": {},
   "outputs": [],
   "source": [
    "# adding this in a separate cell because if you run the training cell\n",
    "# many times, the loss_plot array will be reset\n",
    "loss_plot = []\n",
    "val_plot = []\n",
    "# loss_plot = load_plot(\"./checkpoints/cnn_rnn_s2w_att/exp/nd/loss_plot\")\n",
    "# val_plot = load_plot(\"./checkpoints/cnn_rnn_s2w_att/exp/nd/val_plot\")"
   ]
  },
  {
   "cell_type": "code",
   "execution_count": 27,
   "metadata": {},
   "outputs": [],
   "source": [
    "@tf.function\n",
    "def pad_tensor_sequence(seq):\n",
    "    return tf.pad(seq, [[0, 0], [0, seq_limit - seq.shape[1]]], \"CONSTANT\")"
   ]
  },
  {
   "cell_type": "code",
   "execution_count": 28,
   "metadata": {},
   "outputs": [],
   "source": [
    "@tf.function\n",
    "def train_step(img_tensor, target, val=False):\n",
    "    loss = 0\n",
    "\n",
    "    # initializing the hidden state for each batch\n",
    "    # because the captions are not related from image to image\n",
    "    hidden = decoder.reset_state(batch_size=target.shape[0])\n",
    "\n",
    "    dec_input = tf.expand_dims([tokenizer.word_index['<START>']] * target.shape[0], 1)\n",
    "    dec_input = pad_tensor_sequence(dec_input)\n",
    "    \n",
    "    if val:\n",
    "        features = encoder(img_tensor)\n",
    "\n",
    "        for i in range(1, target.shape[1]):\n",
    "            # passing the features through the decoder\n",
    "            predictions, hidden, _ = decoder(dec_input, features, hidden)\n",
    "            \n",
    "            loss += loss_function(target[:, i], predictions)\n",
    "\n",
    "            # using teacher forcing\n",
    "            dec_input = tf.slice(dec_input, [0, 1 if i - seq_limit >= 0 else 0], [-1, min(i, seq_limit - 1)])\n",
    "            dec_input = tf.concat([dec_input, tf.expand_dims(target[:, i], 1)], 1)\n",
    "            dec_input = pad_tensor_sequence(dec_input)\n",
    "\n",
    "        total_loss = (loss / int(target.shape[1]))\n",
    "        return loss, total_loss\n",
    "\n",
    "    with tf.GradientTape() as tape:\n",
    "        features = encoder(img_tensor)\n",
    "\n",
    "        for i in range(1, target.shape[1]):\n",
    "            # passing the features through the decoder\n",
    "            predictions, hidden, _ = decoder(dec_input, features, hidden)\n",
    "            \n",
    "            loss += loss_function(target[:, i], predictions)\n",
    "\n",
    "            # using teacher forcing\n",
    "            dec_input = tf.slice(dec_input, [0, 1 if i - seq_limit >= 0 else 0], [-1, min(i, seq_limit - 1)])\n",
    "            dec_input = tf.concat([dec_input, tf.expand_dims(target[:, i], 1)], 1)\n",
    "            dec_input = pad_tensor_sequence(dec_input)\n",
    "\n",
    "    total_loss = (loss / int(target.shape[1]))\n",
    "\n",
    "    trainable_variables = encoder.trainable_variables + decoder.trainable_variables\n",
    "\n",
    "    gradients = tape.gradient(loss, trainable_variables)\n",
    "\n",
    "    optimizer.apply_gradients(zip(gradients, trainable_variables))\n",
    "\n",
    "    return loss, total_loss"
   ]
  },
  {
   "cell_type": "code",
   "execution_count": 29,
   "metadata": {
    "scrolled": true
   },
   "outputs": [
    {
     "name": "stdout",
     "output_type": "stream",
     "text": [
      "Epoch 1 Batch 0 Loss 1.7542\n",
      "Time taken for Batches 4.793972969055176 sec\n",
      "Epoch 1 Batch 20 Loss 1.3425\n",
      "Time taken for Batches 34.06970930099487 sec\n",
      "Epoch 1 Batch 40 Loss 1.1979\n",
      "Time taken for Batches 64.37741112709045 sec\n",
      "Epoch 1 Batch 60 Loss 1.2557\n",
      "Time taken for Batches 93.78285336494446 sec\n",
      "Epoch 1 Batch 80 Loss 1.2093\n",
      "Time taken for Batches 123.34122920036316 sec\n",
      "Epoch 1 Batch 100 Loss 1.2723\n",
      "Time taken for Batches 153.3135621547699 sec\n",
      "Epoch 1 Batch 120 Loss 1.1177\n",
      "Time taken for Batches 185.7828369140625 sec\n",
      "Epoch 1 Batch 140 Loss 1.1941\n",
      "Time taken for Batches 217.1678512096405 sec\n",
      "Epoch 1 Loss 1.207386 Val Loss 1.021586\n",
      "Time taken for 1 epoch 267.1571247577667 sec\n",
      "\n",
      "Epoch 2 Batch 0 Loss 0.9208\n",
      "Time taken for Batches 2.3945817947387695 sec\n",
      "Epoch 2 Batch 20 Loss 0.8609\n",
      "Time taken for Batches 32.81132745742798 sec\n",
      "Epoch 2 Batch 40 Loss 0.8481\n",
      "Time taken for Batches 63.10125160217285 sec\n",
      "Epoch 2 Batch 60 Loss 0.7470\n",
      "Time taken for Batches 93.50699782371521 sec\n",
      "Epoch 2 Batch 80 Loss 0.3509\n",
      "Time taken for Batches 123.84638833999634 sec\n",
      "Epoch 2 Batch 100 Loss 0.2469\n",
      "Time taken for Batches 154.89061450958252 sec\n",
      "Epoch 2 Batch 120 Loss 0.1679\n",
      "Time taken for Batches 185.83593726158142 sec\n",
      "Epoch 2 Batch 140 Loss 0.2178\n",
      "Time taken for Batches 216.1767737865448 sec\n",
      "Epoch 2 Loss 0.543168 Val Loss 0.143525\n",
      "Time taken for 1 epoch 266.03740096092224 sec\n",
      "\n",
      "Epoch 3 Batch 0 Loss 0.1558\n",
      "Time taken for Batches 2.4759840965270996 sec\n",
      "Epoch 3 Batch 20 Loss 0.1130\n",
      "Time taken for Batches 33.19496250152588 sec\n",
      "Epoch 3 Batch 40 Loss 0.3999\n",
      "Time taken for Batches 63.519737243652344 sec\n",
      "Epoch 3 Batch 60 Loss 0.2003\n",
      "Time taken for Batches 94.40470504760742 sec\n",
      "Epoch 3 Batch 80 Loss 0.1415\n",
      "Time taken for Batches 125.39085006713867 sec\n",
      "Epoch 3 Batch 100 Loss 0.0986\n",
      "Time taken for Batches 156.3443751335144 sec\n",
      "Epoch 3 Batch 120 Loss 0.1021\n",
      "Time taken for Batches 186.8263099193573 sec\n",
      "Epoch 3 Batch 140 Loss 0.1136\n",
      "Time taken for Batches 218.0321033000946 sec\n",
      "Epoch 3 Loss 0.216966 Val Loss 0.092053\n",
      "Time taken for 1 epoch 268.0866074562073 sec\n",
      "\n",
      "Epoch 4 Batch 0 Loss 0.0953\n",
      "Time taken for Batches 2.454577684402466 sec\n",
      "Epoch 4 Batch 20 Loss 0.0992\n",
      "Time taken for Batches 33.889559268951416 sec\n",
      "Epoch 4 Batch 40 Loss 0.1010\n",
      "Time taken for Batches 64.91080617904663 sec\n",
      "Epoch 4 Batch 60 Loss 0.0925\n",
      "Time taken for Batches 95.61135601997375 sec\n",
      "Epoch 4 Batch 80 Loss 0.0837\n",
      "Time taken for Batches 126.18082070350647 sec\n",
      "Epoch 4 Batch 100 Loss 0.0829\n",
      "Time taken for Batches 156.8280975818634 sec\n",
      "Epoch 4 Batch 120 Loss 0.0828\n",
      "Time taken for Batches 187.80807256698608 sec\n",
      "Epoch 4 Batch 140 Loss 0.1168\n",
      "Time taken for Batches 218.67022442817688 sec\n",
      "Epoch 4 Loss 0.091015 Val Loss 0.078459\n",
      "Time taken for 1 epoch 269.186913728714 sec\n",
      "\n",
      "Epoch 5 Batch 0 Loss 0.0857\n",
      "Time taken for Batches 2.441128969192505 sec\n",
      "Epoch 5 Batch 20 Loss 0.0869\n",
      "Time taken for Batches 32.905611515045166 sec\n",
      "Epoch 5 Batch 40 Loss 0.0731\n",
      "Time taken for Batches 63.75249910354614 sec\n",
      "Epoch 5 Batch 60 Loss 0.0801\n",
      "Time taken for Batches 94.35009837150574 sec\n",
      "Epoch 5 Batch 80 Loss 0.0826\n",
      "Time taken for Batches 126.0454568862915 sec\n",
      "Epoch 5 Batch 100 Loss 0.0675\n",
      "Time taken for Batches 157.5477921962738 sec\n",
      "Epoch 5 Batch 120 Loss 0.0747\n",
      "Time taken for Batches 188.77014183998108 sec\n",
      "Epoch 5 Batch 140 Loss 0.0657\n",
      "Time taken for Batches 219.6241717338562 sec\n",
      "Epoch 5 Loss 0.078548 Val Loss 0.073255\n",
      "Time taken for 1 epoch 270.50724601745605 sec\n",
      "\n",
      "Epoch 6 Batch 0 Loss 0.0818\n",
      "Time taken for Batches 2.529771089553833 sec\n",
      "Epoch 6 Batch 20 Loss 0.0582\n",
      "Time taken for Batches 33.49773645401001 sec\n",
      "Epoch 6 Batch 40 Loss 0.0677\n",
      "Time taken for Batches 65.26208424568176 sec\n",
      "Epoch 6 Batch 60 Loss 0.0870\n",
      "Time taken for Batches 97.10767316818237 sec\n",
      "Epoch 6 Batch 80 Loss 0.0910\n",
      "Time taken for Batches 128.77236676216125 sec\n",
      "Epoch 6 Batch 100 Loss 0.0807\n",
      "Time taken for Batches 160.41305661201477 sec\n",
      "Epoch 6 Batch 120 Loss 0.0814\n",
      "Time taken for Batches 192.50180792808533 sec\n",
      "Epoch 6 Batch 140 Loss 0.0649\n",
      "Time taken for Batches 223.85760974884033 sec\n",
      "Epoch 6 Loss 0.073028 Val Loss 0.068061\n",
      "Time taken for 1 epoch 276.84346079826355 sec\n",
      "\n",
      "Epoch 7 Batch 0 Loss 0.0669\n",
      "Time taken for Batches 2.4785447120666504 sec\n",
      "Epoch 7 Batch 20 Loss 0.0737\n",
      "Time taken for Batches 35.06187605857849 sec\n",
      "Epoch 7 Batch 40 Loss 0.0904\n",
      "Time taken for Batches 67.82352447509766 sec\n",
      "Epoch 7 Batch 60 Loss 0.1002\n",
      "Time taken for Batches 100.71071457862854 sec\n",
      "Epoch 7 Batch 80 Loss 0.0808\n",
      "Time taken for Batches 132.74140572547913 sec\n",
      "Epoch 7 Batch 100 Loss 0.0704\n",
      "Time taken for Batches 166.54325819015503 sec\n",
      "Epoch 7 Batch 120 Loss 0.0682\n",
      "Time taken for Batches 198.04884386062622 sec\n",
      "Epoch 7 Batch 140 Loss 0.0700\n",
      "Time taken for Batches 229.30481791496277 sec\n",
      "Epoch 7 Loss 0.084261 Val Loss 0.067625\n",
      "Time taken for 1 epoch 279.94153022766113 sec\n",
      "\n",
      "Epoch 8 Batch 0 Loss 0.0867\n",
      "Time taken for Batches 2.5053303241729736 sec\n",
      "Epoch 8 Batch 20 Loss 0.0626\n",
      "Time taken for Batches 33.243876457214355 sec\n",
      "Epoch 8 Batch 40 Loss 0.0718\n",
      "Time taken for Batches 65.06609320640564 sec\n",
      "Epoch 8 Batch 60 Loss 0.0637\n",
      "Time taken for Batches 97.17038941383362 sec\n",
      "Epoch 8 Batch 80 Loss 0.0679\n",
      "Time taken for Batches 127.71812319755554 sec\n",
      "Epoch 8 Batch 100 Loss 0.0647\n",
      "Time taken for Batches 158.5734851360321 sec\n",
      "Epoch 8 Batch 120 Loss 0.0635\n",
      "Time taken for Batches 189.4427034854889 sec\n",
      "Epoch 8 Batch 140 Loss 0.0575\n",
      "Time taken for Batches 220.6795253753662 sec\n",
      "Epoch 8 Loss 0.067969 Val Loss 0.067796\n",
      "Time taken for 1 epoch 271.6257920265198 sec\n",
      "\n",
      "Epoch 9 Batch 0 Loss 0.0858\n",
      "Time taken for Batches 2.5342934131622314 sec\n",
      "Epoch 9 Batch 20 Loss 0.0646\n",
      "Time taken for Batches 33.97926449775696 sec\n",
      "Epoch 9 Batch 40 Loss 0.0428\n",
      "Time taken for Batches 65.31325626373291 sec\n",
      "Epoch 9 Batch 60 Loss 0.0677\n",
      "Time taken for Batches 97.74458265304565 sec\n",
      "Epoch 9 Batch 80 Loss 0.0541\n",
      "Time taken for Batches 132.05410027503967 sec\n",
      "Epoch 9 Batch 100 Loss 0.0608\n",
      "Time taken for Batches 164.79480051994324 sec\n",
      "Epoch 9 Batch 120 Loss 0.0605\n",
      "Time taken for Batches 198.31891083717346 sec\n",
      "Epoch 9 Batch 140 Loss 0.0598\n",
      "Time taken for Batches 230.13367438316345 sec\n",
      "Epoch 9 Loss 0.060141 Val Loss 0.052607\n",
      "Time taken for 1 epoch 283.60640954971313 sec\n",
      "\n",
      "Epoch 10 Batch 0 Loss 0.0660\n",
      "Time taken for Batches 2.568774461746216 sec\n",
      "Epoch 10 Batch 20 Loss 0.0634\n",
      "Time taken for Batches 35.696420192718506 sec\n",
      "Epoch 10 Batch 40 Loss 0.0625\n",
      "Time taken for Batches 67.77559328079224 sec\n",
      "Epoch 10 Batch 60 Loss 0.0624\n",
      "Time taken for Batches 99.58677268028259 sec\n",
      "Epoch 10 Batch 80 Loss 0.0527\n",
      "Time taken for Batches 133.1015269756317 sec\n",
      "Epoch 10 Batch 100 Loss 0.0527\n",
      "Time taken for Batches 164.13754153251648 sec\n",
      "Epoch 10 Batch 120 Loss 0.0492\n",
      "Time taken for Batches 194.3982925415039 sec\n",
      "Epoch 10 Batch 140 Loss 0.0629\n",
      "Time taken for Batches 225.97435998916626 sec\n",
      "Epoch 10 Loss 0.056421 Val Loss 0.061161\n",
      "Time taken for 1 epoch 277.521675825119 sec\n",
      "\n",
      "Epoch 11 Batch 0 Loss 0.0700\n",
      "Time taken for Batches 2.7109365463256836 sec\n",
      "Epoch 11 Batch 20 Loss 0.0519\n",
      "Time taken for Batches 32.800344944000244 sec\n",
      "Epoch 11 Batch 40 Loss 0.0558\n",
      "Time taken for Batches 62.96109700202942 sec\n",
      "Epoch 11 Batch 60 Loss 0.0540\n",
      "Time taken for Batches 93.64459419250488 sec\n",
      "Epoch 11 Batch 80 Loss 0.0665\n",
      "Time taken for Batches 125.20243453979492 sec\n",
      "Epoch 11 Batch 100 Loss 0.0585\n",
      "Time taken for Batches 155.77153754234314 sec\n",
      "Epoch 11 Batch 120 Loss 0.0474\n",
      "Time taken for Batches 186.39909482002258 sec\n",
      "Epoch 11 Batch 140 Loss 0.0543\n",
      "Time taken for Batches 217.40372347831726 sec\n",
      "Epoch 11 Loss 0.053361 Val Loss 0.062819\n",
      "Time taken for 1 epoch 269.2823030948639 sec\n",
      "\n",
      "Epoch 12 Batch 0 Loss 0.0517\n",
      "Time taken for Batches 2.546675205230713 sec\n",
      "Epoch 12 Batch 20 Loss 0.0566\n",
      "Time taken for Batches 33.69976735115051 sec\n",
      "Epoch 12 Batch 40 Loss 0.0563\n",
      "Time taken for Batches 64.7998468875885 sec\n",
      "Epoch 12 Batch 60 Loss 0.0558\n",
      "Time taken for Batches 96.09567975997925 sec\n",
      "Epoch 12 Batch 80 Loss 0.0529\n",
      "Time taken for Batches 126.36514186859131 sec\n",
      "Epoch 12 Batch 100 Loss 0.0494\n",
      "Time taken for Batches 157.1630928516388 sec\n",
      "Epoch 12 Batch 120 Loss 0.0449\n",
      "Time taken for Batches 187.9459047317505 sec\n",
      "Epoch 12 Batch 140 Loss 0.0505\n",
      "Time taken for Batches 219.9387857913971 sec\n",
      "Epoch 12 Loss 0.054107 Val Loss 0.052177\n",
      "Time taken for 1 epoch 272.05164408683777 sec\n",
      "\n"
     ]
    },
    {
     "name": "stdout",
     "output_type": "stream",
     "text": [
      "Epoch 13 Batch 0 Loss 0.0506\n",
      "Time taken for Batches 2.560051441192627 sec\n",
      "Epoch 13 Batch 20 Loss 0.0524\n",
      "Time taken for Batches 33.13342094421387 sec\n",
      "Epoch 13 Batch 40 Loss 0.0421\n",
      "Time taken for Batches 63.914703130722046 sec\n",
      "Epoch 13 Batch 60 Loss 0.0657\n",
      "Time taken for Batches 95.69995713233948 sec\n",
      "Epoch 13 Batch 80 Loss 0.0583\n",
      "Time taken for Batches 126.35962009429932 sec\n",
      "Epoch 13 Batch 100 Loss 0.0564\n",
      "Time taken for Batches 156.7670726776123 sec\n",
      "Epoch 13 Batch 120 Loss 0.0459\n",
      "Time taken for Batches 187.74928092956543 sec\n",
      "Epoch 13 Batch 140 Loss 0.0499\n",
      "Time taken for Batches 218.70273303985596 sec\n",
      "Epoch 13 Loss 0.051772 Val Loss 0.044436\n",
      "Time taken for 1 epoch 269.28922867774963 sec\n",
      "\n",
      "Epoch 14 Batch 0 Loss 0.0477\n",
      "Time taken for Batches 2.472853660583496 sec\n",
      "Epoch 14 Batch 20 Loss 0.0487\n",
      "Time taken for Batches 33.902761936187744 sec\n",
      "Epoch 14 Batch 40 Loss 0.0404\n",
      "Time taken for Batches 64.91180753707886 sec\n",
      "Epoch 14 Batch 60 Loss 0.0403\n",
      "Time taken for Batches 98.24311137199402 sec\n",
      "Epoch 14 Batch 80 Loss 0.0485\n",
      "Time taken for Batches 130.3370726108551 sec\n",
      "Epoch 14 Batch 100 Loss 0.0484\n",
      "Time taken for Batches 161.97349572181702 sec\n",
      "Epoch 14 Batch 120 Loss 0.0482\n",
      "Time taken for Batches 193.06706357002258 sec\n",
      "Epoch 14 Batch 140 Loss 0.0440\n",
      "Time taken for Batches 225.07607674598694 sec\n",
      "Epoch 14 Loss 0.045937 Val Loss 0.040850\n",
      "Time taken for 1 epoch 276.3837492465973 sec\n",
      "\n",
      "Epoch 15 Batch 0 Loss 0.0380\n",
      "Time taken for Batches 2.5800933837890625 sec\n",
      "Epoch 15 Batch 20 Loss 0.0629\n",
      "Time taken for Batches 33.6724967956543 sec\n",
      "Epoch 15 Batch 40 Loss 0.0508\n",
      "Time taken for Batches 64.36778283119202 sec\n",
      "Epoch 15 Batch 60 Loss 0.0532\n",
      "Time taken for Batches 96.69366383552551 sec\n",
      "Epoch 15 Batch 80 Loss 0.0366\n",
      "Time taken for Batches 128.98355650901794 sec\n",
      "Epoch 15 Batch 100 Loss 0.0537\n",
      "Time taken for Batches 161.3511769771576 sec\n",
      "Epoch 15 Batch 120 Loss 0.0418\n",
      "Time taken for Batches 193.260840177536 sec\n",
      "Epoch 15 Batch 140 Loss 0.0422\n",
      "Time taken for Batches 224.9712691307068 sec\n",
      "Epoch 15 Loss 0.048543 Val Loss 0.046814\n",
      "Time taken for 1 epoch 276.8764581680298 sec\n",
      "\n",
      "Epoch 16 Batch 0 Loss 0.0585\n",
      "Time taken for Batches 2.486530303955078 sec\n",
      "Epoch 16 Batch 20 Loss 0.0473\n",
      "Time taken for Batches 33.77214479446411 sec\n",
      "Epoch 16 Batch 40 Loss 0.0398\n",
      "Time taken for Batches 64.93507313728333 sec\n",
      "Epoch 16 Batch 60 Loss 0.0412\n",
      "Time taken for Batches 95.43806552886963 sec\n",
      "Epoch 16 Batch 80 Loss 0.0419\n",
      "Time taken for Batches 127.08917284011841 sec\n",
      "Epoch 16 Batch 100 Loss 0.0420\n",
      "Time taken for Batches 159.57289481163025 sec\n",
      "Epoch 16 Batch 120 Loss 0.0409\n",
      "Time taken for Batches 191.26078724861145 sec\n",
      "Epoch 16 Batch 140 Loss 2.7577\n",
      "Time taken for Batches 222.73793935775757 sec\n",
      "Epoch 16 Loss 0.330273 Val Loss 0.745041\n",
      "Time taken for 1 epoch 275.613431930542 sec\n",
      "\n",
      "Epoch 17 Batch 0 Loss 0.7691\n",
      "Time taken for Batches 2.580345630645752 sec\n",
      "Epoch 17 Batch 20 Loss 0.2578\n",
      "Time taken for Batches 34.01728105545044 sec\n",
      "Epoch 17 Batch 40 Loss 0.1230\n",
      "Time taken for Batches 66.89996099472046 sec\n",
      "Epoch 17 Batch 60 Loss 0.1969\n",
      "Time taken for Batches 100.25419330596924 sec\n",
      "Epoch 17 Batch 80 Loss 0.0848\n",
      "Time taken for Batches 132.41247534751892 sec\n",
      "Epoch 17 Batch 100 Loss 0.0836\n",
      "Time taken for Batches 164.05157136917114 sec\n",
      "Epoch 17 Batch 120 Loss 0.0742\n",
      "Time taken for Batches 196.28659534454346 sec\n",
      "Epoch 17 Batch 140 Loss 0.0965\n",
      "Time taken for Batches 227.76709818840027 sec\n",
      "Epoch 17 Loss 0.156782 Val Loss 0.079253\n",
      "Time taken for 1 epoch 282.0500690937042 sec\n",
      "\n",
      "Epoch 18 Batch 0 Loss 0.1035\n",
      "Time taken for Batches 2.9945321083068848 sec\n",
      "Epoch 18 Batch 20 Loss 0.0751\n",
      "Time taken for Batches 34.44376611709595 sec\n",
      "Epoch 18 Batch 40 Loss 0.0762\n",
      "Time taken for Batches 66.09534478187561 sec\n",
      "Epoch 18 Batch 60 Loss 0.0833\n",
      "Time taken for Batches 98.88449954986572 sec\n",
      "Epoch 18 Batch 80 Loss 0.0673\n",
      "Time taken for Batches 130.2488133907318 sec\n",
      "Epoch 18 Batch 100 Loss 0.0698\n",
      "Time taken for Batches 161.56521034240723 sec\n",
      "Epoch 18 Batch 120 Loss 0.0874\n",
      "Time taken for Batches 194.22483611106873 sec\n",
      "Epoch 18 Batch 140 Loss 0.0620\n",
      "Time taken for Batches 226.6223442554474 sec\n",
      "Epoch 18 Loss 0.074081 Val Loss 0.066589\n",
      "Time taken for 1 epoch 277.58594846725464 sec\n",
      "\n",
      "Epoch 19 Batch 0 Loss 0.0686\n",
      "Time taken for Batches 2.5707085132598877 sec\n",
      "Epoch 19 Batch 20 Loss 0.0680\n",
      "Time taken for Batches 33.9514684677124 sec\n",
      "Epoch 19 Batch 40 Loss 0.0651\n",
      "Time taken for Batches 64.87797784805298 sec\n",
      "Epoch 19 Batch 60 Loss 0.0621\n",
      "Time taken for Batches 96.04065871238708 sec\n",
      "Epoch 19 Batch 80 Loss 0.0725\n",
      "Time taken for Batches 127.5600790977478 sec\n",
      "Epoch 19 Batch 100 Loss 0.0731\n",
      "Time taken for Batches 159.33924055099487 sec\n",
      "Epoch 19 Batch 120 Loss 0.0728\n",
      "Time taken for Batches 190.01514506340027 sec\n",
      "Epoch 19 Batch 140 Loss 0.0648\n",
      "Time taken for Batches 221.09060168266296 sec\n",
      "Epoch 19 Loss 0.068709 Val Loss 0.063925\n",
      "Time taken for 1 epoch 272.4968857765198 sec\n",
      "\n",
      "Epoch 20 Batch 0 Loss 0.0755\n",
      "Time taken for Batches 2.5300562381744385 sec\n",
      "Epoch 20 Batch 20 Loss 0.0534\n",
      "Time taken for Batches 33.88788414001465 sec\n",
      "Epoch 20 Batch 40 Loss 0.0682\n",
      "Time taken for Batches 65.51605081558228 sec\n",
      "Epoch 20 Batch 60 Loss 0.0657\n",
      "Time taken for Batches 95.64054131507874 sec\n",
      "Epoch 20 Batch 80 Loss 0.0845\n",
      "Time taken for Batches 125.20938730239868 sec\n",
      "Epoch 20 Batch 100 Loss 0.0706\n",
      "Time taken for Batches 154.08615803718567 sec\n",
      "Epoch 20 Batch 120 Loss 0.0648\n",
      "Time taken for Batches 182.75737762451172 sec\n",
      "Epoch 20 Batch 140 Loss 0.0652\n",
      "Time taken for Batches 211.44030714035034 sec\n",
      "Epoch 20 Loss 0.066017 Val Loss 0.061942\n",
      "Time taken for 1 epoch 259.1569449901581 sec\n",
      "\n"
     ]
    }
   ],
   "source": [
    "EPOCHS = 20\n",
    "\n",
    "for epoch in range(start_epoch, EPOCHS):\n",
    "    start = time.time()\n",
    "    total_loss = 0\n",
    "    total_val_loss = 0\n",
    "\n",
    "    for (batch, (img_tensor, target)) in enumerate(train_dataset):\n",
    "        batch_loss, t_loss = train_step(img_tensor, target)\n",
    "        total_loss += t_loss\n",
    "\n",
    "        if batch % 20 == 0:\n",
    "            print ('Epoch {} Batch {} Loss {:.4f}'.format(\n",
    "            epoch + 1, batch, batch_loss.numpy() / int(target.shape[1])))\n",
    "            print ('Time taken for Batches {} sec'.format(time.time() - start))\n",
    "    \n",
    "    for (batch, (img_tensor, target)) in enumerate(val_dataset):\n",
    "        _, t_loss = train_step(img_tensor, target, True)\n",
    "        total_val_loss += t_loss\n",
    "            \n",
    "    # storing the epoch end loss value to plot later\n",
    "    loss_plot.append(total_loss / num_steps)\n",
    "    val_plot.append(total_val_loss / num_val_steps)\n",
    "\n",
    "    if (epoch + 1) % 5 == 0:\n",
    "        ckpt_manager.save()\n",
    "\n",
    "    print ('Epoch {} Loss {:.6f} Val Loss {:.6f}'.format(epoch + 1,\n",
    "                                         total_loss/num_steps, total_val_loss/num_val_steps))\n",
    "    print ('Time taken for 1 epoch {} sec\\n'.format(time.time() - start))"
   ]
  },
  {
   "cell_type": "markdown",
   "metadata": {},
   "source": [
    "Model Evaluation\n",
    "----"
   ]
  },
  {
   "cell_type": "code",
   "execution_count": 30,
   "metadata": {},
   "outputs": [],
   "source": [
    "# save_plot(\"./checkpoints/cnn_rnn_s2w_att/exp/nd/loss_plot\", loss_plot)\n",
    "# save_plot(\"./checkpoints/cnn_rnn_s2w_att/exp/nd/val_plot\", val_plot)"
   ]
  },
  {
   "cell_type": "code",
   "execution_count": 31,
   "metadata": {},
   "outputs": [
    {
     "data": {
      "image/png": "[encoded data removed]",
      "text/plain": [
       "<Figure size 432x288 with 1 Axes>"
      ]
     },
     "metadata": {
      "needs_background": "light"
     },
     "output_type": "display_data"
    }
   ],
   "source": [
    "plt.plot(loss_plot)\n",
    "plt.plot(val_plot)\n",
    "plt.xlabel('Epochs')\n",
    "plt.ylabel('Loss')\n",
    "plt.title('Loss Plot')\n",
    "plt.legend(['Loss', 'Val Loss'], loc='upper left')\n",
    "plt.show()"
   ]
  },
  {
   "cell_type": "code",
   "execution_count": 32,
   "metadata": {},
   "outputs": [],
   "source": [
    "def evaluate(image):\n",
    "    attention_plot = np.zeros((max_length, 1444))\n",
    "    \n",
    "    hidden = decoder.reset_state(batch_size=1)\n",
    "\n",
    "    features = encoder(tf.expand_dims(image, 0))\n",
    "\n",
    "    dec_input = tf.expand_dims([tokenizer.word_index['<START>']], 0)\n",
    "    dec_input = pad_tensor_sequence(dec_input)\n",
    "    result = ['<START>']\n",
    "\n",
    "    for i in range(1, max_length):\n",
    "        predictions, hidden, attention_weights = decoder(dec_input, features, hidden)\n",
    "        \n",
    "        attention_plot[i] = tf.reshape(attention_weights, (-1, )).numpy()\n",
    "\n",
    "        predicted_id = tf.random.categorical(predictions, 1)[0][0].numpy()\n",
    "        result.append(tokenizer.index_word[predicted_id])\n",
    "\n",
    "        if tokenizer.index_word[predicted_id] == '<END>':\n",
    "            return result, attention_plot\n",
    "\n",
    "        dec_input = tf.slice(dec_input, [0, 1 if i - seq_limit >= 0 else 0], [-1, min(i, seq_limit - 1)])\n",
    "        dec_input = tf.concat([dec_input, tf.expand_dims([predicted_id], 1)], 1)\n",
    "        dec_input = pad_tensor_sequence(dec_input)\n",
    "\n",
    "    return result, attention_plot"
   ]
  },
  {
   "cell_type": "code",
   "execution_count": 33,
   "metadata": {},
   "outputs": [],
   "source": [
    "def eval_path(imgpath):\n",
    "    return evaluate(process_img_path(imgpath))"
   ]
  },
  {
   "cell_type": "code",
   "execution_count": 34,
   "metadata": {},
   "outputs": [],
   "source": [
    "def plot_attention(image, result, attention_plot, lim=None):\n",
    "    fig = plt.figure(figsize=(10, 10))\n",
    "    \n",
    "    if lim is None:\n",
    "        lim = len(result)\n",
    "\n",
    "    for l in range(lim):\n",
    "        temp_att = np.resize(attention_plot[l], (38, 38))\n",
    "        ax = fig.add_subplot(lim//2, lim//2, l+1)\n",
    "        ax.set_title(result[l])\n",
    "        img = ax.imshow(image)\n",
    "        ax.imshow(temp_att, cmap='gray', alpha=0.6, extent=img.get_extent())\n",
    "\n",
    "    plt.tight_layout()\n",
    "    plt.show()"
   ]
  },
  {
   "cell_type": "code",
   "execution_count": 35,
   "metadata": {},
   "outputs": [
    {
     "name": "stdout",
     "output_type": "stream",
     "text": [
      "Actual DSL:  <START> Body { Header { Link Button Link Link } Row { Column { Subtitle Paragraph Button } Column { Subtitle Paragraph Button } } Row { Column { Subtitle Paragraph Button } Column { Subtitle Paragraph Button } Column { Subtitle Paragraph Button } Column { Subtitle Paragraph Button } } Row { Column { Subtitle Paragraph Button } Column { Subtitle Paragraph Button } } } <END>                        \n",
      "\n",
      "Predicted DSL:  <START> Body { Header { Link Button } Row { Column { Subtitle Paragraph Button } Column { Subtitle Paragraph Button } Column { Subtitle Paragraph Button } Column { Subtitle Paragraph Button } } Row { Column { Subtitle Paragraph Button } Column { Subtitle Paragraph Button } Column { Subtitle Paragraph Button } Column { Subtitle Paragraph Button } } } <END>\n"
     ]
    },
    {
     "data": {
      "image/png": "[encoded data removed]",
      "text/plain": [
       "<Figure size 432x288 with 1 Axes>"
      ]
     },
     "metadata": {
      "needs_background": "light"
     },
     "output_type": "display_data"
    },
    {
     "data": {
      "image/png": "[encoded data removed]",
      "text/plain": [
       "<Figure size 720x720 with 10 Axes>"
      ]
     },
     "metadata": {
      "needs_background": "light"
     },
     "output_type": "display_data"
    }
   ],
   "source": [
    "test_entry = test_dataset.take(1)\n",
    "\n",
    "for image, seq in test_entry:\n",
    "    actual = tokenizer.sequences_to_texts([seq.numpy()])[0].replace(\"<PAD>\", \"\")\n",
    "    predicted, attention = evaluate(image)\n",
    "    predicted = ' '.join(predicted)\n",
    "    plt.imshow(image.numpy())\n",
    "    print(\"Actual DSL: \", actual)\n",
    "    print(\"\\nPredicted DSL: \", predicted)\n",
    "    plot_attention(image.numpy(), predicted.split(), attention, 10)"
   ]
  },
  {
   "cell_type": "code",
   "execution_count": 36,
   "metadata": {},
   "outputs": [
    {
     "name": "stdout",
     "output_type": "stream",
     "text": [
      "Predicted count: 350\r"
     ]
    }
   ],
   "source": [
    "def score(dataset, verbose=False):\n",
    "    actual, predicted = list(), list()\n",
    "    i = 0\n",
    "    for image, seq in dataset:\n",
    "        act = tokenizer.sequences_to_texts([seq.numpy()])[0].replace(\"<PAD>\", \"\").split()\n",
    "        pred, _ = evaluate(image)\n",
    "        pred = [\"<START>\"] + pred\n",
    "        if verbose:\n",
    "            print(\"\\n\\nActual DSL---->\\n\", act)\n",
    "            print(\"\\nPredicted DSL---->\\n\", pred)\n",
    "        else:\n",
    "            print(\"Predicted count: \" + str(i + 1), end='\\r', flush=True)\n",
    "        actual.append([act])\n",
    "        predicted.append(pred)\n",
    "        i += 1\n",
    "    bleu = corpus_bleu(actual, predicted)\n",
    "    \n",
    "    _actual = list(map(lambda p: ' '.join(p[0]), actual))\n",
    "    _predicted = list(map(lambda p: ' '.join(p), predicted))\n",
    "    _rouge = Rouge()\n",
    "    rouge = _rouge.get_scores(_predicted, _actual, avg=True)\n",
    "    return bleu, rouge,  actual, predicted\n",
    "        \n",
    "bleu, rouge, actual, predicted = score(test_dataset)"
   ]
  },
  {
   "cell_type": "code",
   "execution_count": 37,
   "metadata": {},
   "outputs": [
    {
     "name": "stdout",
     "output_type": "stream",
     "text": [
      "0.8419945247553935\n",
      "{'rouge-1': {'f': 0.8781900525000437, 'p': 0.8794890616700627, 'r': 0.9208048954895043}, 'rouge-2': {'f': 0.8602516039122572, 'p': 0.8621601093118288, 'r': 0.9030381451804509}, 'rouge-l': {'f': 0.9986438873397846, 'p': 0.9997619047619046, 'r': 0.9976190476190476}}\n"
     ]
    }
   ],
   "source": [
    "print(bleu)\n",
    "print(rouge)"
   ]
  },
  {
   "cell_type": "code",
   "execution_count": null,
   "metadata": {},
   "outputs": [],
   "source": []
  }
 ],
 "metadata": {
  "kernelspec": {
   "display_name": "Python 3",
   "language": "python",
   "name": "python3"
  },
  "language_info": {
   "codemirror_mode": {
    "name": "ipython",
    "version": 3
   },
   "file_extension": ".py",
   "mimetype": "text/x-python",
   "name": "python",
   "nbconvert_exporter": "python",
   "pygments_lexer": "ipython3",
   "version": "3.8.3"
  }
 },
 "nbformat": 4,
 "nbformat_minor": 4
}
