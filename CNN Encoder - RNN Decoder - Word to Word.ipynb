{
 "cells": [
  {
   "cell_type": "markdown",
   "metadata": {},
   "source": [
    "CNN Encoder - RNN Decoder - Word to Word\n",
    "===="
   ]
  },
  {
   "cell_type": "code",
   "execution_count": 1,
   "metadata": {},
   "outputs": [],
   "source": [
    "import tensorflow as tf\n",
    "import tensorflow_datasets as tfds\n",
    "import numpy as np\n",
    "import io\n",
    "import sys\n",
    "import time\n",
    "import glob\n",
    "import matplotlib.pyplot as plt\n",
    "import pickle\n",
    "from rouge import Rouge\n",
    "from nltk.translate.bleu_score import corpus_bleu, sentence_bleu\n",
    "\n",
    "AUTOTUNE = tf.data.experimental.AUTOTUNE\n",
    "\n",
    "tf.config.experimental_run_functions_eagerly(True)\n",
    "physical_devices = tf.config.experimental.list_physical_devices('GPU')\n",
    "tf.config.experimental.set_memory_growth(physical_devices[0], True)"
   ]
  },
  {
   "cell_type": "code",
   "execution_count": 2,
   "metadata": {},
   "outputs": [],
   "source": [
    "# Read a file and return a string\n",
    "def load_doc(filename):\n",
    "    file = open(filename, 'r')\n",
    "    text = file.read()\n",
    "    file.close()\n",
    "    return text"
   ]
  },
  {
   "cell_type": "markdown",
   "metadata": {},
   "source": [
    "Data Transformation\n",
    "----"
   ]
  },
  {
   "cell_type": "code",
   "execution_count": 3,
   "metadata": {},
   "outputs": [
    {
     "name": "stdout",
     "output_type": "stream",
     "text": [
      "b'..\\\\data_collection\\\\webpages\\\\PIX2CODE_COMPILED\\\\00150311-A7AE-4804-8B7D-9273687B4FC0.png'\n",
      "b'..\\\\data_collection\\\\webpages\\\\PIX2CODE_COMPILED\\\\00190F39-0DE9-47EB-B0C2-856FDD3ACE62.png'\n",
      "b'..\\\\data_collection\\\\webpages\\\\PIX2CODE_COMPILED\\\\00779BBE-DD64-4909-9909-24F5C8044A7B.png'\n",
      "b'..\\\\data_collection\\\\webpages\\\\PIX2CODE_COMPILED\\\\00CDC9A8-3D73-4291-90EF-49178E408797.png'\n",
      "b'..\\\\data_collection\\\\webpages\\\\PIX2CODE_COMPILED\\\\00E15BB2-5568-4466-BA18-A8A8D34FC61C.png'\n"
     ]
    }
   ],
   "source": [
    "dir_name = 'PIX2CODE_COMPILED'\n",
    "data_dir = '../data_collection/webpages/' + dir_name\n",
    "\n",
    "IMG_WIDTH = 299\n",
    "IMG_HEIGHT = 299\n",
    "\n",
    "# get all image filepaths\n",
    "list_img = tf.data.Dataset.list_files(str(data_dir + \"/*.png\"), shuffle=False)\n",
    "\n",
    "DATASET_SIZE = len(glob.glob(data_dir + \"/*.png\"))\n",
    "\n",
    "for f in list_img.take(5):\n",
    "    print(f.numpy())"
   ]
  },
  {
   "cell_type": "markdown",
   "metadata": {},
   "source": [
    "**Image Processing**"
   ]
  },
  {
   "cell_type": "code",
   "execution_count": 4,
   "metadata": {},
   "outputs": [],
   "source": [
    "# decodes an image string\n",
    "@tf.function\n",
    "def decode_img(img):\n",
    "    # convert the compressed string to a 3D uint8 tensor\n",
    "    img = tf.image.decode_png(img, channels=3)\n",
    "    # Use `convert_image_dtype` to convert to floats in the [0,1] range.\n",
    "    img = tf.image.convert_image_dtype(img, tf.float32)\n",
    "    # resize the image to the desired size.\n",
    "    return tf.image.resize(img, [IMG_WIDTH, IMG_HEIGHT])"
   ]
  },
  {
   "cell_type": "markdown",
   "metadata": {},
   "source": [
    "**Sequence Processing**"
   ]
  },
  {
   "cell_type": "code",
   "execution_count": 5,
   "metadata": {},
   "outputs": [],
   "source": [
    "tokenizer = tf.keras.preprocessing.text.Tokenizer(filters='', split=\" \", lower=False)\n",
    "# Create the vocabulary \n",
    "tokenizer.fit_on_texts([load_doc('./DSL.vocab')])\n",
    "\n",
    "# Add padding\n",
    "tokenizer.word_index['<PAD>'] = 0\n",
    "tokenizer.index_word[0] = '<PAD>'"
   ]
  },
  {
   "cell_type": "code",
   "execution_count": 6,
   "metadata": {},
   "outputs": [],
   "source": [
    "def tokenizer_lookup(word):\n",
    "    return tokenizer.word_index[word.numpy().decode()]\n",
    "\n",
    "# tensorflow way to convert text to sequence with tokenizer\n",
    "@tf.function\n",
    "def text_to_seq(text, tokenizer):\n",
    "    spl = tf.map_fn(lambda t: tf.py_function(func=tokenizer_lookup, inp=[t], Tout=tf.int32), text, dtype=\"int32\")\n",
    "    return spl"
   ]
  },
  {
   "cell_type": "code",
   "execution_count": 7,
   "metadata": {},
   "outputs": [],
   "source": [
    "# converts image filepath to its label\n",
    "@tf.function\n",
    "def get_seq(file_path):\n",
    "    # convert from png to gui file\n",
    "    path = tf.strings.regex_replace(file_path, \".png\", \".gui\")\n",
    "    # read contents and return\n",
    "    label = tf.constant(\"<START> \") + tf.io.read_file(path) + tf.constant(\" <END>\")\n",
    "    return tf.strings.split(label)"
   ]
  },
  {
   "cell_type": "code",
   "execution_count": 8,
   "metadata": {},
   "outputs": [
    {
     "name": "stdout",
     "output_type": "stream",
     "text": [
      "{1: '{', 2: '}', 3: '<START>', 4: '<END>', 5: 'Body', 6: 'Block', 7: 'Container', 8: 'Row', 9: 'Column', 10: 'Header', 11: 'Footer', 12: 'Paragraph', 13: 'Image', 14: 'Button', 15: 'Subtitle', 16: 'Title', 17: 'Link', 18: 'TextBox', 19: 'CheckBox', 20: 'RadioBox', 21: 'Range', 0: '<PAD>'}\n"
     ]
    }
   ],
   "source": [
    "print(tokenizer.index_word)"
   ]
  },
  {
   "cell_type": "markdown",
   "metadata": {},
   "source": [
    "**Combine and Split Datasets**"
   ]
  },
  {
   "cell_type": "code",
   "execution_count": 9,
   "metadata": {},
   "outputs": [],
   "source": [
    "# does all processing per dataset image path\n",
    "@tf.function\n",
    "def process_path(file_path):\n",
    "    # load the raw data from the file as a string\n",
    "    img = tf.io.read_file(file_path)\n",
    "    img = decode_img(img)\n",
    "    \n",
    "    seq = get_seq(file_path)\n",
    "    seq = text_to_seq(seq, tokenizer)\n",
    "    return img, seq"
   ]
  },
  {
   "cell_type": "code",
   "execution_count": 10,
   "metadata": {},
   "outputs": [],
   "source": [
    "dataset = list_img.map(process_path, num_parallel_calls=AUTOTUNE)"
   ]
  },
  {
   "cell_type": "code",
   "execution_count": 11,
   "metadata": {},
   "outputs": [],
   "source": [
    "max_length = dataset.map(lambda _, y: tf.size(y), num_parallel_calls=AUTOTUNE)\n",
    "max_length = max_length.reduce(tf.constant(0), lambda x, y: tf.math.maximum(x, y))"
   ]
  },
  {
   "cell_type": "code",
   "execution_count": 12,
   "metadata": {},
   "outputs": [
    {
     "name": "stdout",
     "output_type": "stream",
     "text": [
      "Image shape:  (299, 299, 3)\n",
      "Sequence:  ['<START> Body { Header { Button Link Link Link } Row { Column { Subtitle Paragraph Button } } Row { Column { Subtitle Paragraph Button } Column { Subtitle Paragraph Button } } Row { Column { Subtitle Paragraph Button } Column { Subtitle Paragraph Button } } } <END> <PAD> <PAD> <PAD> <PAD> <PAD> <PAD> <PAD> <PAD> <PAD> <PAD> <PAD> <PAD> <PAD> <PAD> <PAD> <PAD> <PAD> <PAD> <PAD> <PAD> <PAD> <PAD> <PAD> <PAD> <PAD> <PAD> <PAD> <PAD> <PAD> <PAD> <PAD> <PAD> <PAD> <PAD> <PAD> <PAD> <PAD> <PAD> <PAD> <PAD> <PAD> <PAD>']\n"
     ]
    },
    {
     "data": {
      "image/png": "[encoded data removed]",
      "text/plain": [
       "<Figure size 432x288 with 1 Axes>"
      ]
     },
     "metadata": {
      "needs_background": "light"
     },
     "output_type": "display_data"
    }
   ],
   "source": [
    "dataset = dataset.map(lambda x, y: (x, tf.concat([y, tf.repeat(0, max_length - tf.size(y))], -1)))\n",
    "\n",
    "for image, seq in dataset.take(1):\n",
    "    print(\"Image shape: \", image.numpy().shape)\n",
    "    print(\"Sequence: \", tokenizer.sequences_to_texts([seq.numpy()]))\n",
    "    plt.imshow(image.numpy())"
   ]
  },
  {
   "cell_type": "code",
   "execution_count": 13,
   "metadata": {},
   "outputs": [],
   "source": [
    "train_size = int(DATASET_SIZE * 0.7)\n",
    "val_size = int(DATASET_SIZE * 0.1)\n",
    "train_dataset = dataset.take(train_size)\n",
    "val_dataset = dataset.skip(train_size).take(val_size)\n",
    "test_dataset = dataset.skip(train_size + val_size)"
   ]
  },
  {
   "cell_type": "code",
   "execution_count": 14,
   "metadata": {},
   "outputs": [],
   "source": [
    "BATCH_SIZE = 8\n",
    "BUFFER_SIZE = 50\n",
    "embedding_dim = 16\n",
    "encoder_units = 128\n",
    "decoder_units = 256\n",
    "num_steps = train_size // BATCH_SIZE\n",
    "num_val_steps = val_size // BATCH_SIZE\n",
    "vocab_size = len(tokenizer.word_index) + 1\n",
    "\n",
    "train_dataset = train_dataset.shuffle(BUFFER_SIZE).batch(BATCH_SIZE, drop_remainder=True)\n",
    "train_dataset = train_dataset.prefetch(buffer_size=tf.data.experimental.AUTOTUNE)\n",
    "val_dataset = val_dataset.shuffle(BUFFER_SIZE).batch(BATCH_SIZE, drop_remainder=True)\n",
    "val_dataset = val_dataset.prefetch(buffer_size=tf.data.experimental.AUTOTUNE)"
   ]
  },
  {
   "cell_type": "markdown",
   "metadata": {},
   "source": [
    "Model Definition\n",
    "----"
   ]
  },
  {
   "cell_type": "code",
   "execution_count": 15,
   "metadata": {},
   "outputs": [],
   "source": [
    "class CNN_Encoder(tf.keras.Model):\n",
    "    def __init__(self, embedding_dim):\n",
    "        super(CNN_Encoder, self).__init__()\n",
    "        self.model = tf.keras.models.Sequential()\n",
    "        self.model.add(tf.keras.layers.Conv2D(16, (3, 3), padding='valid', activation='relu', input_shape=(IMG_WIDTH, IMG_HEIGHT, 3,)))\n",
    "        self.model.add(tf.keras.layers.Conv2D(16, (3,3), activation='relu', padding='same', strides=2))\n",
    "        self.model.add(tf.keras.layers.Dropout(0.2))\n",
    "        self.model.add(tf.keras.layers.Conv2D(32, (3,3), activation='relu', padding='same'))\n",
    "        self.model.add(tf.keras.layers.Conv2D(32, (3,3), activation='relu', padding='same', strides=2))\n",
    "        self.model.add(tf.keras.layers.Dropout(0.2))\n",
    "        self.model.add(tf.keras.layers.Conv2D(64, (3,3), activation='relu', padding='same'))\n",
    "        self.model.add(tf.keras.layers.Conv2D(64, (3,3), activation='relu', padding='same', strides=2))\n",
    "        self.model.add(tf.keras.layers.Dropout(0.2))\n",
    "        self.model.add(tf.keras.layers.Conv2D(128, (3,3), activation='relu', padding='same'))\n",
    "\n",
    "        self.model.add(tf.keras.layers.Flatten())\n",
    "        self.model.add(tf.keras.layers.Dense(512, activation='relu'))\n",
    "        self.model.add(tf.keras.layers.Dropout(0.2))\n",
    "        self.model.add(tf.keras.layers.Dense(512, activation='relu'))\n",
    "        self.model.add(tf.keras.layers.Dropout(0.2))\n",
    "        \n",
    "    def call(self, x):\n",
    "        x = self.model(x)\n",
    "        return x"
   ]
  },
  {
   "cell_type": "code",
   "execution_count": 16,
   "metadata": {},
   "outputs": [],
   "source": [
    "class RNN_Encoder(tf.keras.Model):\n",
    "    def __init__(self, embedding_dim, units, vocab_size, max_length):\n",
    "        super(RNN_Encoder, self).__init__()\n",
    "        self.units = units\n",
    "        self.embedding = tf.keras.layers.Embedding(vocab_size, embedding_dim, input_length=max_length)\n",
    "        self.gru = tf.keras.models.Sequential()\n",
    "        self.gru.add(tf.keras.layers.GRU(self.units,\n",
    "                                   return_sequences=True,\n",
    "                                   dropout=0.2,\n",
    "                                   recurrent_initializer='glorot_uniform'))\n",
    "        self.gru.add(tf.keras.layers.GRU(self.units,\n",
    "                                   return_sequences=True,\n",
    "                                   dropout=0.2,\n",
    "                                   recurrent_initializer='glorot_uniform'))\n",
    "        self.gru.add(tf.keras.layers.TimeDistributed(tf.keras.layers.Dense(units, activation='relu')))\n",
    "        \n",
    "    def call(self, x):\n",
    "        x = self.embedding(x)\n",
    "        x = self.gru(x)\n",
    "        \n",
    "        return x\n",
    "        \n",
    "    def reset_state(self, batch_size):\n",
    "        return tf.zeros((batch_size, self.units))"
   ]
  },
  {
   "cell_type": "code",
   "execution_count": 17,
   "metadata": {},
   "outputs": [],
   "source": [
    "class CNN_RNN_Encoder(tf.keras.Model):\n",
    "    def __init__(self, embedding_dim, units, vocab_size, max_length):\n",
    "        super(CNN_RNN_Encoder, self).__init__()\n",
    "        self.rnn = RNN_Encoder(embedding_dim, units, vocab_size, max_length)\n",
    "        self.cnn = CNN_Encoder(embedding_dim)\n",
    "        self.rep = tf.keras.layers.RepeatVector(1)\n",
    "        self.features = None\n",
    "        \n",
    "    def call(self, seq, img=None):\n",
    "        if img is None and self.features is None:\n",
    "            print(\"Error, img and features None\")\n",
    "            return\n",
    "        elif img is not None:\n",
    "            self.features = self.cnn(img)\n",
    "            \n",
    "        feat = self.rep(self.features)\n",
    "            \n",
    "        seq = self.rnn(seq)\n",
    "        \n",
    "        x = tf.keras.layers.concatenate([feat, seq])\n",
    "        return x\n",
    "    \n",
    "    def set_features(self, img):\n",
    "        self.features = self.cnn(img)\n",
    "    \n",
    "    def reset_state(self, batch_size):\n",
    "        self.features = None\n",
    "        return self.rnn.reset_state(batch_size)"
   ]
  },
  {
   "cell_type": "code",
   "execution_count": 18,
   "metadata": {},
   "outputs": [],
   "source": [
    "class RNN_Decoder(tf.keras.Model):\n",
    "    def __init__(self, units, vocab_size):\n",
    "        super(RNN_Decoder, self).__init__()\n",
    "        self.units = units\n",
    "        self.gru = tf.keras.models.Sequential()\n",
    "        self.gru.add(tf.keras.layers.GRU(self.units,\n",
    "                                   return_sequences=True,\n",
    "                                   dropout=0.2,\n",
    "                                   recurrent_initializer='glorot_uniform'))\n",
    "        self.gru.add(tf.keras.layers.GRU(self.units,\n",
    "                                   return_sequences=False,\n",
    "                                   dropout=0.2,\n",
    "                                   recurrent_initializer='glorot_uniform'))\n",
    "        self.fc = tf.keras.layers.Dense(units)\n",
    "        self.fc2 = tf.keras.layers.Dense(vocab_size)\n",
    "        \n",
    "    def call(self, x):    \n",
    "        x = self.gru(x)\n",
    "        \n",
    "        x = self.fc(x)\n",
    "        x = self.fc2(x)\n",
    "        \n",
    "        return x\n",
    "    \n",
    "    def reset_state(self, batch_size):\n",
    "        return tf.zeros((batch_size, self.units))"
   ]
  },
  {
   "cell_type": "code",
   "execution_count": 19,
   "metadata": {},
   "outputs": [],
   "source": [
    "class RNN_Encoder_Decoder(tf.keras.Model):\n",
    "    def __init__(self, embedding_dim, units, vocab_size):\n",
    "        super(RNN_Encoder_Decoder, self).__init__()\n",
    "        self.units = units\n",
    "        self.embedding = tf.keras.layers.Embedding(vocab_size, embedding_dim)\n",
    "        self.gru1 = tf.keras.layers.GRU(self.units,\n",
    "                                   return_sequences=True,\n",
    "                                   dropout=0.2,\n",
    "                                   recurrent_initializer='glorot_uniform')\n",
    "        self.gru2 = tf.keras.layers.GRU(self.units,\n",
    "                                   return_sequences=False,\n",
    "                                   recurrent_initializer='glorot_uniform')\n",
    "        self.fc1 = tf.keras.layers.Dense(self.units)\n",
    "        self.fc2 = tf.keras.layers.Dense(vocab_size)\n",
    "        \n",
    "        self.rep = tf.keras.layers.RepeatVector(1)\n",
    "        \n",
    "    def call(self, x, features):\n",
    "        x = self.embedding(x)\n",
    "        \n",
    "        feat = self.rep(features)\n",
    "    \n",
    "        x = tf.keras.layers.concatenate([feat, x])\n",
    "        \n",
    "        output = self.gru2(self.gru1(x))\n",
    "\n",
    "        x = self.fc1(output)\n",
    "\n",
    "        # x = tf.reshape(x, (-1, x.shape[2]))\n",
    "\n",
    "        x = self.fc2(x)\n",
    "        \n",
    "        return x\n",
    "    \n",
    "    def reset_state(self, batch_size):\n",
    "        return tf.zeros((batch_size, self.units))"
   ]
  },
  {
   "cell_type": "code",
   "execution_count": 20,
   "metadata": {},
   "outputs": [],
   "source": [
    "encoder = CNN_Encoder(embedding_dim)\n",
    "decoder = RNN_Encoder_Decoder(embedding_dim, decoder_units, vocab_size)"
   ]
  },
  {
   "cell_type": "markdown",
   "metadata": {},
   "source": [
    "Model Training\n",
    "----"
   ]
  },
  {
   "cell_type": "code",
   "execution_count": 21,
   "metadata": {},
   "outputs": [],
   "source": [
    "optimizer = tf.keras.optimizers.Adam()\n",
    "loss_object = tf.keras.losses.SparseCategoricalCrossentropy(from_logits=True, reduction='none')\n",
    "\n",
    "def loss_function(real, pred):\n",
    "    mask = tf.math.logical_not(tf.math.equal(real, 0))\n",
    "    loss_ = loss_object(real, pred)\n",
    "\n",
    "    mask = tf.cast(mask, dtype=loss_.dtype)\n",
    "    loss_ *= mask\n",
    "\n",
    "    return tf.reduce_mean(loss_)"
   ]
  },
  {
   "cell_type": "code",
   "execution_count": 22,
   "metadata": {},
   "outputs": [],
   "source": [
    "checkpoint_path = \"./checkpoints/cnn_rnn_w2w/exp\"\n",
    "ckpt = tf.train.Checkpoint(encoder=encoder,\n",
    "                           decoder=decoder,\n",
    "                           optimizer = optimizer)\n",
    "ckpt_manager = tf.train.CheckpointManager(ckpt, checkpoint_path, max_to_keep=5)"
   ]
  },
  {
   "cell_type": "code",
   "execution_count": 23,
   "metadata": {},
   "outputs": [],
   "source": [
    "start_epoch = 0\n",
    "if ckpt_manager.latest_checkpoint:\n",
    "    start_epoch = int(ckpt_manager.latest_checkpoint.split('-')[-1])\n",
    "    # restoring the latest checkpoint in checkpoint_path\n",
    "    ckpt.restore(ckpt_manager.latest_checkpoint)"
   ]
  },
  {
   "cell_type": "code",
   "execution_count": 24,
   "metadata": {},
   "outputs": [],
   "source": [
    "# adding this in a separate cell because if you run the training cell\n",
    "# many times, the loss_plot array will be reset\n",
    "loss_plot = []\n",
    "val_plot = []"
   ]
  },
  {
   "cell_type": "code",
   "execution_count": 25,
   "metadata": {},
   "outputs": [],
   "source": [
    "@tf.function\n",
    "def train_step(img_tensor, target, val=False):\n",
    "    loss = 0\n",
    "\n",
    "    # initializing the hidden state for each batch\n",
    "    # because the captions are not related from image to image\n",
    "    hidden = decoder.reset_state(batch_size=target.shape[0])\n",
    "\n",
    "    dec_input = tf.expand_dims([tokenizer.word_index['<START>']] * target.shape[0], 1)\n",
    "    \n",
    "    if val:\n",
    "        features = encoder(img_tensor)\n",
    "\n",
    "        for i in range(1, target.shape[1]):\n",
    "            # passing the features through the decoder\n",
    "            predictions = decoder(dec_input, features)\n",
    "\n",
    "            loss += loss_function(target[:, i], predictions)\n",
    "\n",
    "            # using teacher forcing\n",
    "            dec_input = tf.expand_dims(target[:, i], 1)\n",
    "        \n",
    "        total_loss = (loss / int(target.shape[1]))\n",
    "        return loss, total_loss\n",
    "\n",
    "    with tf.GradientTape() as tape:\n",
    "        features = encoder(img_tensor)\n",
    "\n",
    "        for i in range(1, target.shape[1]):\n",
    "            # passing the features through the decoder\n",
    "            predictions = decoder(dec_input, features)\n",
    "\n",
    "            loss += loss_function(target[:, i], predictions)\n",
    "\n",
    "            # using teacher forcing\n",
    "            dec_input = tf.expand_dims(target[:, i], 1)\n",
    "\n",
    "    total_loss = (loss / int(target.shape[1]))\n",
    "\n",
    "    trainable_variables = encoder.trainable_variables + decoder.trainable_variables\n",
    "\n",
    "    gradients = tape.gradient(loss, trainable_variables)\n",
    "\n",
    "    optimizer.apply_gradients(zip(gradients, trainable_variables))\n",
    "    \n",
    "    return loss, total_loss"
   ]
  },
  {
   "cell_type": "code",
   "execution_count": 26,
   "metadata": {
    "scrolled": true
   },
   "outputs": [
    {
     "name": "stdout",
     "output_type": "stream",
     "text": [
      "Epoch 1 Batch 0 Loss 2.0559\n",
      "Time taken for Batches 5.202240705490112 sec\n",
      "Epoch 1 Batch 20 Loss 1.3604\n",
      "Time taken for Batches 31.137442588806152 sec\n",
      "Epoch 1 Batch 40 Loss 1.3417\n",
      "Time taken for Batches 59.358532667160034 sec\n",
      "Epoch 1 Batch 60 Loss 1.2862\n",
      "Time taken for Batches 85.68026471138 sec\n",
      "Epoch 1 Batch 80 Loss 1.2637\n",
      "Time taken for Batches 112.02950477600098 sec\n",
      "Epoch 1 Batch 100 Loss 1.4565\n",
      "Time taken for Batches 138.32602715492249 sec\n",
      "Epoch 1 Batch 120 Loss 1.2997\n",
      "Time taken for Batches 164.61592173576355 sec\n",
      "Epoch 1 Batch 140 Loss 1.2501\n",
      "Time taken for Batches 191.05665278434753 sec\n",
      "Epoch 1 Loss 1.290317 Val Loss 1.274596\n",
      "Time taken for 1 epoch 238.56222796440125 sec\n",
      "\n",
      "Epoch 2 Batch 0 Loss 1.2867\n",
      "Time taken for Batches 2.3488357067108154 sec\n",
      "Epoch 2 Batch 20 Loss 1.2904\n",
      "Time taken for Batches 28.670755863189697 sec\n",
      "Epoch 2 Batch 40 Loss 1.4000\n",
      "Time taken for Batches 54.84507966041565 sec\n",
      "Epoch 2 Batch 60 Loss 1.2564\n",
      "Time taken for Batches 81.41117906570435 sec\n",
      "Epoch 2 Batch 80 Loss 1.2548\n",
      "Time taken for Batches 108.00813722610474 sec\n",
      "Epoch 2 Batch 100 Loss 1.2951\n",
      "Time taken for Batches 134.18709087371826 sec\n",
      "Epoch 2 Batch 120 Loss 1.4056\n",
      "Time taken for Batches 160.5739665031433 sec\n",
      "Epoch 2 Batch 140 Loss 1.3985\n",
      "Time taken for Batches 186.9273419380188 sec\n",
      "Epoch 2 Loss 1.281180 Val Loss 1.276982\n",
      "Time taken for 1 epoch 234.16554594039917 sec\n",
      "\n",
      "Epoch 3 Batch 0 Loss 1.2278\n",
      "Time taken for Batches 2.4435672760009766 sec\n",
      "Epoch 3 Batch 20 Loss 1.2312\n",
      "Time taken for Batches 29.074476718902588 sec\n",
      "Epoch 3 Batch 40 Loss 1.2489\n",
      "Time taken for Batches 55.464468240737915 sec\n",
      "Epoch 3 Batch 60 Loss 1.2647\n",
      "Time taken for Batches 81.74711847305298 sec\n",
      "Epoch 3 Batch 80 Loss 1.3598\n",
      "Time taken for Batches 107.88486456871033 sec\n",
      "Epoch 3 Batch 100 Loss 1.3283\n",
      "Time taken for Batches 134.29376101493835 sec\n",
      "Epoch 3 Batch 120 Loss 1.3466\n",
      "Time taken for Batches 160.36899256706238 sec\n",
      "Epoch 3 Batch 140 Loss 1.2693\n",
      "Time taken for Batches 186.61034870147705 sec\n",
      "Epoch 3 Loss 1.280810 Val Loss 1.268417\n",
      "Time taken for 1 epoch 233.37336087226868 sec\n",
      "\n",
      "Epoch 4 Batch 0 Loss 1.2029\n",
      "Time taken for Batches 2.2690906524658203 sec\n",
      "Epoch 4 Batch 20 Loss 1.3058\n",
      "Time taken for Batches 28.40977191925049 sec\n",
      "Epoch 4 Batch 40 Loss 1.1065\n",
      "Time taken for Batches 54.75997591018677 sec\n",
      "Epoch 4 Batch 60 Loss 1.1558\n",
      "Time taken for Batches 80.85295677185059 sec\n",
      "Epoch 4 Batch 80 Loss 1.3371\n",
      "Time taken for Batches 106.93568849563599 sec\n",
      "Epoch 4 Batch 100 Loss 1.4248\n",
      "Time taken for Batches 133.19694185256958 sec\n",
      "Epoch 4 Batch 120 Loss 1.2069\n",
      "Time taken for Batches 159.80404663085938 sec\n",
      "Epoch 4 Batch 140 Loss 1.1773\n",
      "Time taken for Batches 185.8298797607422 sec\n",
      "Epoch 4 Loss 1.280448 Val Loss 1.272399\n",
      "Time taken for 1 epoch 232.68468976020813 sec\n",
      "\n",
      "Epoch 5 Batch 0 Loss 1.2639\n",
      "Time taken for Batches 2.2947139739990234 sec\n",
      "Epoch 5 Batch 20 Loss 1.4054\n",
      "Time taken for Batches 28.88042402267456 sec\n",
      "Epoch 5 Batch 40 Loss 1.0284\n",
      "Time taken for Batches 55.47058916091919 sec\n",
      "Epoch 5 Batch 60 Loss 1.3355\n",
      "Time taken for Batches 80.911301612854 sec\n",
      "Epoch 5 Batch 80 Loss 1.1064\n",
      "Time taken for Batches 106.50473952293396 sec\n",
      "Epoch 5 Batch 100 Loss 1.3976\n",
      "Time taken for Batches 132.13878393173218 sec\n",
      "Epoch 5 Batch 120 Loss 1.3360\n",
      "Time taken for Batches 157.34777855873108 sec\n",
      "Epoch 5 Batch 140 Loss 1.0978\n",
      "Time taken for Batches 182.74294590950012 sec\n",
      "Epoch 5 Loss 1.280267 Val Loss 1.265871\n",
      "Time taken for 1 epoch 242.9176948070526 sec\n",
      "\n",
      "Epoch 6 Batch 0 Loss 1.3730\n",
      "Time taken for Batches 2.425825595855713 sec\n",
      "Epoch 6 Batch 20 Loss 1.3787\n",
      "Time taken for Batches 26.976799488067627 sec\n",
      "Epoch 6 Batch 40 Loss 1.1865\n",
      "Time taken for Batches 51.805766344070435 sec\n",
      "Epoch 6 Batch 60 Loss 1.3143\n",
      "Time taken for Batches 79.10879731178284 sec\n",
      "Epoch 6 Batch 80 Loss 1.2263\n",
      "Time taken for Batches 104.83679342269897 sec\n",
      "Epoch 6 Batch 100 Loss 1.3766\n",
      "Time taken for Batches 130.30679559707642 sec\n",
      "Epoch 6 Batch 120 Loss 1.0693\n",
      "Time taken for Batches 154.9517583847046 sec\n",
      "Epoch 6 Batch 140 Loss 1.2364\n",
      "Time taken for Batches 181.3247582912445 sec\n",
      "Epoch 6 Loss 1.280294 Val Loss 1.270551\n",
      "Time taken for 1 epoch 226.05478286743164 sec\n",
      "\n",
      "Epoch 7 Batch 0 Loss 1.2332\n",
      "Time taken for Batches 2.021012544631958 sec\n",
      "Epoch 7 Batch 20 Loss 1.2761\n",
      "Time taken for Batches 26.407975673675537 sec\n",
      "Epoch 7 Batch 40 Loss 1.3599\n",
      "Time taken for Batches 51.192012786865234 sec\n",
      "Epoch 7 Batch 60 Loss 1.3122\n",
      "Time taken for Batches 78.19656229019165 sec\n",
      "Epoch 7 Batch 80 Loss 1.2166\n",
      "Time taken for Batches 104.84073662757874 sec\n",
      "Epoch 7 Batch 100 Loss 1.4738\n",
      "Time taken for Batches 128.50273394584656 sec\n",
      "Epoch 7 Batch 120 Loss 1.1713\n",
      "Time taken for Batches 153.7887363433838 sec\n",
      "Epoch 7 Batch 140 Loss 1.3704\n",
      "Time taken for Batches 180.8706991672516 sec\n",
      "Epoch 7 Loss 1.280003 Val Loss 1.277493\n",
      "Time taken for 1 epoch 228.54794549942017 sec\n",
      "\n",
      "Epoch 8 Batch 0 Loss 1.3241\n",
      "Time taken for Batches 2.3507893085479736 sec\n",
      "Epoch 8 Batch 20 Loss 1.0453\n",
      "Time taken for Batches 30.806538581848145 sec\n",
      "Epoch 8 Batch 40 Loss 1.2084\n",
      "Time taken for Batches 55.66154098510742 sec\n",
      "Epoch 8 Batch 60 Loss 1.3483\n",
      "Time taken for Batches 80.23153591156006 sec\n",
      "Epoch 8 Batch 80 Loss 1.1460\n",
      "Time taken for Batches 106.03051400184631 sec\n",
      "Epoch 8 Batch 100 Loss 1.3199\n",
      "Time taken for Batches 136.17018747329712 sec\n",
      "Epoch 8 Batch 120 Loss 1.3163\n",
      "Time taken for Batches 163.36242771148682 sec\n",
      "Epoch 8 Batch 140 Loss 1.4021\n",
      "Time taken for Batches 191.53528237342834 sec\n",
      "Epoch 8 Loss 1.279958 Val Loss 1.271976\n",
      "Time taken for 1 epoch 237.39071917533875 sec\n",
      "\n",
      "Epoch 9 Batch 0 Loss 1.2972\n",
      "Time taken for Batches 2.1476359367370605 sec\n",
      "Epoch 9 Batch 20 Loss 1.3028\n",
      "Time taken for Batches 27.19970393180847 sec\n",
      "Epoch 9 Batch 40 Loss 1.2033\n",
      "Time taken for Batches 52.28856039047241 sec\n",
      "Epoch 9 Batch 60 Loss 1.3436\n",
      "Time taken for Batches 77.56446099281311 sec\n",
      "Epoch 9 Batch 80 Loss 1.3204\n",
      "Time taken for Batches 102.56244778633118 sec\n",
      "Epoch 9 Batch 100 Loss 1.3949\n",
      "Time taken for Batches 127.70185136795044 sec\n",
      "Epoch 9 Batch 120 Loss 1.2303\n",
      "Time taken for Batches 152.71968388557434 sec\n",
      "Epoch 9 Batch 140 Loss 1.2599\n",
      "Time taken for Batches 177.78442335128784 sec\n",
      "Epoch 9 Loss 1.279910 Val Loss 1.264653\n",
      "Time taken for 1 epoch 221.74047183990479 sec\n",
      "\n",
      "Epoch 10 Batch 0 Loss 1.2190\n",
      "Time taken for Batches 2.2042102813720703 sec\n",
      "Epoch 10 Batch 20 Loss 1.4022\n",
      "Time taken for Batches 27.411590814590454 sec\n",
      "Epoch 10 Batch 40 Loss 1.0888\n",
      "Time taken for Batches 52.568963050842285 sec\n",
      "Epoch 10 Batch 60 Loss 1.2933\n",
      "Time taken for Batches 77.51421093940735 sec\n",
      "Epoch 10 Batch 80 Loss 1.3526\n",
      "Time taken for Batches 102.60263013839722 sec\n",
      "Epoch 10 Batch 100 Loss 1.3844\n",
      "Time taken for Batches 127.66762232780457 sec\n",
      "Epoch 10 Batch 120 Loss 1.1714\n",
      "Time taken for Batches 154.23085379600525 sec\n",
      "Epoch 10 Batch 140 Loss 1.4195\n",
      "Time taken for Batches 179.438884973526 sec\n",
      "Epoch 10 Loss 1.279971 Val Loss 1.269807\n",
      "Time taken for 1 epoch 236.28084897994995 sec\n",
      "\n",
      "Epoch 11 Batch 0 Loss 1.2903\n",
      "Time taken for Batches 2.037977933883667 sec\n",
      "Epoch 11 Batch 20 Loss 1.2515\n",
      "Time taken for Batches 27.55968451499939 sec\n",
      "Epoch 11 Batch 40 Loss 1.2967\n",
      "Time taken for Batches 53.33002948760986 sec\n",
      "Epoch 11 Batch 60 Loss 1.2638\n",
      "Time taken for Batches 78.94288611412048 sec\n",
      "Epoch 11 Batch 80 Loss 1.2559\n",
      "Time taken for Batches 104.26694536209106 sec\n",
      "Epoch 11 Batch 100 Loss 1.4005\n",
      "Time taken for Batches 129.71957850456238 sec\n",
      "Epoch 11 Batch 120 Loss 1.3080\n",
      "Time taken for Batches 154.894033908844 sec\n",
      "Epoch 11 Batch 140 Loss 1.3122\n",
      "Time taken for Batches 180.09172749519348 sec\n",
      "Epoch 11 Loss 1.279929 Val Loss 1.266861\n",
      "Time taken for 1 epoch 224.68475770950317 sec\n",
      "\n",
      "Epoch 12 Batch 0 Loss 1.2729\n",
      "Time taken for Batches 2.2157955169677734 sec\n",
      "Epoch 12 Batch 20 Loss 1.3765\n",
      "Time taken for Batches 27.520533561706543 sec\n",
      "Epoch 12 Batch 40 Loss 1.4178\n",
      "Time taken for Batches 53.595638275146484 sec\n",
      "Epoch 12 Batch 60 Loss 1.2310\n",
      "Time taken for Batches 79.38043236732483 sec\n",
      "Epoch 12 Batch 80 Loss 1.2701\n",
      "Time taken for Batches 104.85634231567383 sec\n",
      "Epoch 12 Batch 100 Loss 1.3079\n",
      "Time taken for Batches 130.18214535713196 sec\n",
      "Epoch 12 Batch 120 Loss 1.2033\n",
      "Time taken for Batches 155.75175428390503 sec\n",
      "Epoch 12 Batch 140 Loss 1.1053\n",
      "Time taken for Batches 180.95795273780823 sec\n",
      "Epoch 12 Loss 1.279978 Val Loss 1.270764\n",
      "Time taken for 1 epoch 225.81697750091553 sec\n",
      "\n"
     ]
    },
    {
     "name": "stdout",
     "output_type": "stream",
     "text": [
      "Epoch 13 Batch 0 Loss 1.2962\n",
      "Time taken for Batches 2.164809465408325 sec\n",
      "Epoch 13 Batch 20 Loss 1.3442\n",
      "Time taken for Batches 27.518329620361328 sec\n",
      "Epoch 13 Batch 40 Loss 1.3024\n",
      "Time taken for Batches 52.86919450759888 sec\n",
      "Epoch 13 Batch 60 Loss 1.3401\n",
      "Time taken for Batches 78.37597346305847 sec\n",
      "Epoch 13 Batch 80 Loss 1.2700\n",
      "Time taken for Batches 103.6932156085968 sec\n",
      "Epoch 13 Batch 100 Loss 1.1626\n",
      "Time taken for Batches 129.08355832099915 sec\n",
      "Epoch 13 Batch 120 Loss 1.2997\n",
      "Time taken for Batches 154.39253878593445 sec\n",
      "Epoch 13 Batch 140 Loss 1.2026\n",
      "Time taken for Batches 179.73963022232056 sec\n",
      "Epoch 13 Loss 1.279855 Val Loss 1.274206\n",
      "Time taken for 1 epoch 224.76419973373413 sec\n",
      "\n",
      "Epoch 14 Batch 0 Loss 1.2787\n",
      "Time taken for Batches 2.067922353744507 sec\n",
      "Epoch 14 Batch 20 Loss 1.2478\n",
      "Time taken for Batches 28.08261752128601 sec\n",
      "Epoch 14 Batch 40 Loss 1.1472\n",
      "Time taken for Batches 52.63361716270447 sec\n",
      "Epoch 14 Batch 60 Loss 1.2519\n",
      "Time taken for Batches 77.30858373641968 sec\n",
      "Epoch 14 Batch 80 Loss 1.1579\n",
      "Time taken for Batches 104.14287424087524 sec\n",
      "Epoch 14 Batch 100 Loss 1.3802\n",
      "Time taken for Batches 130.66652607917786 sec\n",
      "Epoch 14 Batch 120 Loss 1.3919\n",
      "Time taken for Batches 156.8085741996765 sec\n",
      "Epoch 14 Batch 140 Loss 1.4285\n",
      "Time taken for Batches 182.90487909317017 sec\n",
      "Epoch 14 Loss 1.279830 Val Loss 1.276485\n",
      "Time taken for 1 epoch 229.24806308746338 sec\n",
      "\n",
      "Epoch 15 Batch 0 Loss 1.1382\n",
      "Time taken for Batches 2.2327189445495605 sec\n",
      "Epoch 15 Batch 20 Loss 1.2428\n",
      "Time taken for Batches 28.32244110107422 sec\n",
      "Epoch 15 Batch 40 Loss 1.3729\n",
      "Time taken for Batches 54.373425245285034 sec\n",
      "Epoch 15 Batch 60 Loss 1.2631\n",
      "Time taken for Batches 80.7340042591095 sec\n",
      "Epoch 15 Batch 80 Loss 1.3763\n",
      "Time taken for Batches 106.86078548431396 sec\n",
      "Epoch 15 Batch 100 Loss 1.1869\n",
      "Time taken for Batches 132.90231132507324 sec\n",
      "Epoch 15 Batch 120 Loss 1.3703\n",
      "Time taken for Batches 158.97820782661438 sec\n",
      "Epoch 15 Batch 140 Loss 1.1738\n",
      "Time taken for Batches 184.83983898162842 sec\n",
      "Epoch 15 Loss 1.279763 Val Loss 1.271695\n",
      "Time taken for 1 epoch 248.6008379459381 sec\n",
      "\n",
      "Epoch 16 Batch 0 Loss 1.1541\n",
      "Time taken for Batches 2.215458869934082 sec\n",
      "Epoch 16 Batch 20 Loss 1.3562\n",
      "Time taken for Batches 28.513630390167236 sec\n",
      "Epoch 16 Batch 40 Loss 1.1831\n",
      "Time taken for Batches 54.35197687149048 sec\n",
      "Epoch 16 Batch 60 Loss 1.3568\n",
      "Time taken for Batches 83.49767065048218 sec\n",
      "Epoch 16 Batch 80 Loss 1.3480\n",
      "Time taken for Batches 112.11992573738098 sec\n",
      "Epoch 16 Batch 100 Loss 1.2180\n",
      "Time taken for Batches 140.0031385421753 sec\n",
      "Epoch 16 Batch 120 Loss 1.2727\n",
      "Time taken for Batches 168.61895990371704 sec\n",
      "Epoch 16 Batch 140 Loss 1.1991\n",
      "Time taken for Batches 199.7480025291443 sec\n",
      "Epoch 16 Loss 1.280507 Val Loss 1.281266\n",
      "Time taken for 1 epoch 253.1848921775818 sec\n",
      "\n",
      "Epoch 17 Batch 0 Loss 1.2930\n",
      "Time taken for Batches 2.4682366847991943 sec\n",
      "Epoch 17 Batch 20 Loss 1.2429\n",
      "Time taken for Batches 30.741151809692383 sec\n",
      "Epoch 17 Batch 40 Loss 0.9881\n",
      "Time taken for Batches 58.62129306793213 sec\n",
      "Epoch 17 Batch 60 Loss 1.4483\n",
      "Time taken for Batches 87.38610577583313 sec\n",
      "Epoch 17 Batch 80 Loss 1.2184\n",
      "Time taken for Batches 115.7716314792633 sec\n",
      "Epoch 17 Batch 100 Loss 1.3355\n",
      "Time taken for Batches 145.60238194465637 sec\n",
      "Epoch 17 Batch 120 Loss 1.3333\n",
      "Time taken for Batches 175.58160829544067 sec\n",
      "Epoch 17 Batch 140 Loss 1.3622\n",
      "Time taken for Batches 204.69735050201416 sec\n",
      "Epoch 17 Loss 1.280202 Val Loss 1.267813\n",
      "Time taken for 1 epoch 258.7104969024658 sec\n",
      "\n",
      "Epoch 18 Batch 0 Loss 1.2968\n",
      "Time taken for Batches 2.6387381553649902 sec\n",
      "Epoch 18 Batch 20 Loss 1.1983\n",
      "Time taken for Batches 31.818543195724487 sec\n",
      "Epoch 18 Batch 40 Loss 1.1703\n",
      "Time taken for Batches 61.63283705711365 sec\n",
      "Epoch 18 Batch 60 Loss 1.2546\n",
      "Time taken for Batches 91.21349358558655 sec\n",
      "Epoch 18 Batch 80 Loss 1.2353\n",
      "Time taken for Batches 121.88458371162415 sec\n",
      "Epoch 18 Batch 100 Loss 1.4593\n",
      "Time taken for Batches 152.25350260734558 sec\n",
      "Epoch 18 Batch 120 Loss 1.2026\n",
      "Time taken for Batches 182.09640169143677 sec\n",
      "Epoch 18 Batch 140 Loss 1.2967\n",
      "Time taken for Batches 211.61660170555115 sec\n",
      "Epoch 18 Loss 1.279803 Val Loss 1.266418\n",
      "Time taken for 1 epoch 264.2947428226471 sec\n",
      "\n",
      "Epoch 19 Batch 0 Loss 1.2729\n",
      "Time taken for Batches 2.597961664199829 sec\n",
      "Epoch 19 Batch 20 Loss 1.3046\n",
      "Time taken for Batches 31.522850275039673 sec\n",
      "Epoch 19 Batch 40 Loss 1.3974\n",
      "Time taken for Batches 60.456286907196045 sec\n",
      "Epoch 19 Batch 60 Loss 1.2515\n",
      "Time taken for Batches 90.5691146850586 sec\n",
      "Epoch 19 Batch 80 Loss 1.2748\n",
      "Time taken for Batches 119.5750162601471 sec\n",
      "Epoch 19 Batch 100 Loss 1.3599\n",
      "Time taken for Batches 146.2389600276947 sec\n",
      "Epoch 19 Batch 120 Loss 1.2121\n",
      "Time taken for Batches 172.53973484039307 sec\n",
      "Epoch 19 Batch 140 Loss 1.2425\n",
      "Time taken for Batches 198.0432677268982 sec\n",
      "Epoch 19 Loss 1.279795 Val Loss 1.275587\n",
      "Time taken for 1 epoch 245.81545519828796 sec\n",
      "\n",
      "Epoch 20 Batch 0 Loss 1.3884\n",
      "Time taken for Batches 2.232455253601074 sec\n",
      "Epoch 20 Batch 20 Loss 1.3565\n",
      "Time taken for Batches 29.645158052444458 sec\n",
      "Epoch 20 Batch 40 Loss 1.4383\n",
      "Time taken for Batches 57.40311360359192 sec\n",
      "Epoch 20 Batch 60 Loss 1.4129\n",
      "Time taken for Batches 82.86915230751038 sec\n",
      "Epoch 20 Batch 80 Loss 1.4205\n",
      "Time taken for Batches 107.72914838790894 sec\n",
      "Epoch 20 Batch 100 Loss 1.3230\n",
      "Time taken for Batches 131.85511207580566 sec\n",
      "Epoch 20 Batch 120 Loss 1.3673\n",
      "Time taken for Batches 155.26215076446533 sec\n",
      "Epoch 20 Batch 140 Loss 1.2514\n",
      "Time taken for Batches 180.5771164894104 sec\n",
      "Epoch 20 Loss 1.279726 Val Loss 1.267906\n",
      "Time taken for 1 epoch 237.79511260986328 sec\n",
      "\n"
     ]
    }
   ],
   "source": [
    "EPOCHS = 20\n",
    "\n",
    "for epoch in range(start_epoch, EPOCHS):\n",
    "    start = time.time()\n",
    "    total_loss = 0\n",
    "    total_val_loss = 0\n",
    "\n",
    "    for (batch, (img_tensor, target)) in enumerate(train_dataset):\n",
    "        batch_loss, t_loss = train_step(img_tensor, target)\n",
    "        total_loss += t_loss\n",
    "\n",
    "        if batch % 20 == 0:\n",
    "            print ('Epoch {} Batch {} Loss {:.4f}'.format(\n",
    "            epoch + 1, batch, batch_loss.numpy() / int(target.shape[1])))\n",
    "            print ('Time taken for Batches {} sec'.format(time.time() - start))\n",
    "            \n",
    "    for (batch, (img_tensor, target)) in enumerate(val_dataset):\n",
    "        _, t_loss = train_step(img_tensor, target, True)\n",
    "        total_val_loss += t_loss\n",
    "    # storing the epoch end loss value to plot later\n",
    "    loss_plot.append(total_loss / num_steps)\n",
    "    val_plot.append(total_val_loss / num_val_steps)\n",
    "\n",
    "    if (epoch + 1) % 5 == 0:\n",
    "        ckpt_manager.save()\n",
    "\n",
    "    print ('Epoch {} Loss {:.6f} Val Loss {:.6f}'.format(epoch + 1,\n",
    "                                                         total_loss/num_steps,\n",
    "                                                         total_val_loss/num_val_steps))\n",
    "    print ('Time taken for 1 epoch {} sec\\n'.format(time.time() - start))"
   ]
  },
  {
   "cell_type": "markdown",
   "metadata": {},
   "source": [
    "Model Evaluation\n",
    "----"
   ]
  },
  {
   "cell_type": "code",
   "execution_count": 26,
   "metadata": {},
   "outputs": [],
   "source": [
    "def save_plot(plot_path, plot_list):\n",
    "    with open(plot_path, 'wb') as fp:\n",
    "        pickle.dump(plot_list, fp)"
   ]
  },
  {
   "cell_type": "code",
   "execution_count": 27,
   "metadata": {},
   "outputs": [],
   "source": [
    "def load_plot(plot_path):\n",
    "    with open (plot_path, 'rb') as fp:\n",
    "         return pickle.load(fp)"
   ]
  },
  {
   "cell_type": "code",
   "execution_count": 28,
   "metadata": {},
   "outputs": [],
   "source": [
    "loss_plot = load_plot(\"./checkpoints/cnn_rnn_w2w/exp/loss_plot\")\n",
    "val_plot = load_plot(\"./checkpoints/cnn_rnn_w2w/exp/val_plot\")"
   ]
  },
  {
   "cell_type": "code",
   "execution_count": 28,
   "metadata": {},
   "outputs": [],
   "source": [
    "save_plot(\"./checkpoints/cnn_rnn_w2w/exp/loss_plot\", loss_plot)\n",
    "save_plot(\"./checkpoints/cnn_rnn_w2w/exp/val_plot\", val_plot)"
   ]
  },
  {
   "cell_type": "code",
   "execution_count": 29,
   "metadata": {},
   "outputs": [
    {
     "data": {
      "image/png": "[encoded data removed]",
      "text/plain": [
       "<Figure size 432x288 with 1 Axes>"
      ]
     },
     "metadata": {
      "needs_background": "light"
     },
     "output_type": "display_data"
    }
   ],
   "source": [
    "plt.plot(loss_plot)\n",
    "plt.plot(val_plot)\n",
    "plt.xlabel('Epochs')\n",
    "plt.ylabel('Loss')\n",
    "plt.title('Loss Plot')\n",
    "plt.legend(['Loss', 'Val Loss'], loc='upper left')\n",
    "plt.show()"
   ]
  },
  {
   "cell_type": "code",
   "execution_count": 30,
   "metadata": {},
   "outputs": [],
   "source": [
    "def evaluate(image):\n",
    "    hidden = decoder.reset_state(batch_size=1)\n",
    "\n",
    "    features = encoder(tf.expand_dims(image, 0))\n",
    "\n",
    "    dec_input = tf.expand_dims([tokenizer.word_index['<START>']], 0)\n",
    "    result = ['<START>']\n",
    "\n",
    "    for i in range(1, max_length):\n",
    "        predictions = decoder(dec_input, features)\n",
    "\n",
    "        predicted_id = tf.random.categorical(predictions, 1)[0][0].numpy()\n",
    "        result.append(tokenizer.index_word[predicted_id])\n",
    "\n",
    "        if tokenizer.index_word[predicted_id] == '<END>':\n",
    "            return result\n",
    "\n",
    "        dec_input = tf.expand_dims([predicted_id], 0)\n",
    "\n",
    "    return result"
   ]
  },
  {
   "cell_type": "code",
   "execution_count": 31,
   "metadata": {},
   "outputs": [],
   "source": [
    "def eval_path(imgpath):\n",
    "    return evaluate(process_img_path(imgpath))"
   ]
  },
  {
   "cell_type": "code",
   "execution_count": 32,
   "metadata": {},
   "outputs": [
    {
     "name": "stdout",
     "output_type": "stream",
     "text": [
      "Actual DSL:  <START> Body { Header { Link Button Link Link } Row { Column { Subtitle Paragraph Button } Column { Subtitle Paragraph Button } } Row { Column { Subtitle Paragraph Button } Column { Subtitle Paragraph Button } Column { Subtitle Paragraph Button } Column { Subtitle Paragraph Button } } Row { Column { Subtitle Paragraph Button } Column { Subtitle Paragraph Button } } } <END>                        \n",
      "\n",
      "Predicted DSL:  <START> { Paragraph Subtitle { } Button } Subtitle { Subtitle Row Column } { { { Button Paragraph Paragraph Button Column Subtitle Column Subtitle Button Header } { } Header } { Button } Subtitle Paragraph { Paragraph Paragraph } } Paragraph Column { Column Column Column { { Column Column Column } Subtitle Column } } { Button Column Row Column Paragraph Paragraph Column Column Button Paragraph Column Column Body } { Paragraph Column Column Button Column } <END>\n"
     ]
    },
    {
     "data": {
      "image/png": "[encoded data removed]",
      "text/plain": [
       "<Figure size 432x288 with 1 Axes>"
      ]
     },
     "metadata": {
      "needs_background": "light"
     },
     "output_type": "display_data"
    }
   ],
   "source": [
    "test_entry = test_dataset.take(1)\n",
    "\n",
    "for image, seq in test_entry:\n",
    "    actual = tokenizer.sequences_to_texts([seq.numpy()])[0].replace(\"<PAD>\", \"\")\n",
    "    predicted = ' '.join(evaluate(image))\n",
    "    plt.imshow(image.numpy())\n",
    "    print(\"Actual DSL: \", actual)\n",
    "    print(\"\\nPredicted DSL: \", predicted)"
   ]
  },
  {
   "cell_type": "code",
   "execution_count": 33,
   "metadata": {},
   "outputs": [
    {
     "name": "stdout",
     "output_type": "stream",
     "text": [
      "Predicted count: 350\r"
     ]
    }
   ],
   "source": [
    "def score(dataset, verbose=False):\n",
    "    actual, predicted = list(), list()\n",
    "    i = 0\n",
    "    for image, seq in dataset:\n",
    "        act = tokenizer.sequences_to_texts([seq.numpy()])[0].replace(\"<PAD>\", \"\").split()\n",
    "        pred = evaluate(image)\n",
    "        pred = [\"<START>\"] + pred\n",
    "        if verbose:\n",
    "            print(\"\\n\\nActual DSL---->\\n\", act)\n",
    "            print(\"\\nPredicted DSL---->\\n\", pred)\n",
    "        else:\n",
    "            print(\"Predicted count: \" + str(i + 1), end='\\r', flush=True)\n",
    "        actual.append([act])\n",
    "        predicted.append(pred)\n",
    "        i += 1\n",
    "    bleu = corpus_bleu(actual, predicted)\n",
    "    \n",
    "    _actual = list(map(lambda p: ' '.join(p[0]), actual))\n",
    "    _predicted = list(map(lambda p: ' '.join(p), predicted))\n",
    "    _rouge = Rouge()\n",
    "    rouge = _rouge.get_scores(_predicted, _actual, avg=True)\n",
    "    return bleu, rouge,  actual, predicted\n",
    "        \n",
    "bleu, rouge, actual, predicted = score(test_dataset)"
   ]
  },
  {
   "cell_type": "code",
   "execution_count": 34,
   "metadata": {},
   "outputs": [
    {
     "name": "stdout",
     "output_type": "stream",
     "text": [
      "0.0652973942324869\n"
     ]
    }
   ],
   "source": [
    "print(bleu)"
   ]
  },
  {
   "cell_type": "code",
   "execution_count": 35,
   "metadata": {},
   "outputs": [
    {
     "name": "stdout",
     "output_type": "stream",
     "text": [
      "{'rouge-1': {'f': 0.6173195390068463, 'p': 0.7998190007178101, 'r': 0.6256384268791071}, 'rouge-2': {'f': 0.17290366814662417, 'p': 0.20426702150796952, 'r': 0.1861436319561936}, 'rouge-l': {'f': 0.7174783727328731, 'p': 0.8363645640074207, 'r': 0.6507142857142848}}\n"
     ]
    }
   ],
   "source": [
    "print(rouge)"
   ]
  },
  {
   "cell_type": "code",
   "execution_count": null,
   "metadata": {},
   "outputs": [],
   "source": []
  }
 ],
 "metadata": {
  "kernelspec": {
   "display_name": "Python 3",
   "language": "python",
   "name": "python3"
  },
  "language_info": {
   "codemirror_mode": {
    "name": "ipython",
    "version": 3
   },
   "file_extension": ".py",
   "mimetype": "text/x-python",
   "name": "python",
   "nbconvert_exporter": "python",
   "pygments_lexer": "ipython3",
   "version": "3.8.3"
  }
 },
 "nbformat": 4,
 "nbformat_minor": 4
}
