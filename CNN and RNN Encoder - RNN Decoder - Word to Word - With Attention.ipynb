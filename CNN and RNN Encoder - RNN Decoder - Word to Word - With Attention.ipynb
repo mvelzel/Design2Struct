{
 "cells": [
  {
   "cell_type": "markdown",
   "metadata": {},
   "source": [
    "CNN and RNN Encoder - RNN Decoder - Word to Word - With Attention\n",
    "===="
   ]
  },
  {
   "cell_type": "code",
   "execution_count": 1,
   "metadata": {},
   "outputs": [],
   "source": [
    "import tensorflow as tf\n",
    "import tensorflow_datasets as tfds\n",
    "import numpy as np\n",
    "import io\n",
    "import sys\n",
    "import time\n",
    "import os\n",
    "import glob\n",
    "import pickle\n",
    "import matplotlib.pyplot as plt\n",
    "from nltk.translate.bleu_score import corpus_bleu, sentence_bleu\n",
    "from rouge import Rouge\n",
    "sys.path.append('../data_collection/compiler')\n",
    "from IPython.display import IFrame, Markdown\n",
    "from Compiler import Compiler\n",
    "from tempfile import NamedTemporaryFile\n",
    "import importlib\n",
    "\n",
    "AUTOTUNE = tf.data.experimental.AUTOTUNE\n",
    "\n",
    "tf.config.experimental_run_functions_eagerly(True)\n",
    "physical_devices = tf.config.experimental.list_physical_devices('GPU')\n",
    "tf.config.experimental.set_memory_growth(physical_devices[0], True)"
   ]
  },
  {
   "cell_type": "code",
   "execution_count": 2,
   "metadata": {},
   "outputs": [],
   "source": [
    "# Read a file and return a string\n",
    "def load_doc(filename):\n",
    "    file = open(filename, 'r')\n",
    "    text = file.read()\n",
    "    file.close()\n",
    "    return text"
   ]
  },
  {
   "cell_type": "markdown",
   "metadata": {},
   "source": [
    "Data Transformation\n",
    "----"
   ]
  },
  {
   "cell_type": "code",
   "execution_count": 3,
   "metadata": {},
   "outputs": [],
   "source": [
    "dir_name = 'PIX2CODE_COMPILED'\n",
    "data_dir = '../data_collection/webpages/' + dir_name\n",
    "\n",
    "IMG_WIDTH = 299\n",
    "IMG_HEIGHT = 299\n",
    "\n",
    "# get all image filepaths\n",
    "list_img = tf.data.Dataset.list_files(str(data_dir + \"/*.png\"), shuffle=False)\n",
    "\n",
    "DATASET_SIZE = len(glob.glob(data_dir + \"/*.png\"))\n",
    "\n",
    "# for f in list_img.take(5):\n",
    "#     print(f.numpy())"
   ]
  },
  {
   "cell_type": "markdown",
   "metadata": {},
   "source": [
    "**Image Processing**"
   ]
  },
  {
   "cell_type": "code",
   "execution_count": 4,
   "metadata": {},
   "outputs": [],
   "source": [
    "# decodes an image string\n",
    "@tf.function\n",
    "def decode_img(img):\n",
    "    # convert the compressed string to a 3D uint8 tensor\n",
    "    img = tf.image.decode_png(img, channels=3)\n",
    "    \n",
    "    img = tf.image.convert_image_dtype(img, tf.float32)\n",
    "    \n",
    "    img = tf.image.resize(img, (IMG_WIDTH, IMG_HEIGHT))\n",
    "                          \n",
    "    #img = tf.keras.applications.inception_v3.preprocess_input(img)\n",
    "    # Use `convert_image_dtype` to convert to floats in the [0,1] range.\n",
    "    # resize the image to the desired size.\n",
    "    return img"
   ]
  },
  {
   "cell_type": "markdown",
   "metadata": {},
   "source": [
    "**Sequence Processing**"
   ]
  },
  {
   "cell_type": "code",
   "execution_count": 5,
   "metadata": {},
   "outputs": [],
   "source": [
    "tokenizer = tf.keras.preprocessing.text.Tokenizer(filters='', split=\" \", lower=False)\n",
    "# Create the vocabulary \n",
    "tokenizer.fit_on_texts([load_doc('./DSL.vocab')])\n",
    "\n",
    "# Add padding\n",
    "tokenizer.word_index['<PAD>'] = 0\n",
    "tokenizer.index_word[0] = '<PAD>'"
   ]
  },
  {
   "cell_type": "code",
   "execution_count": 6,
   "metadata": {},
   "outputs": [],
   "source": [
    "def tokenizer_lookup(word):\n",
    "    return tokenizer.word_index[word.numpy().decode()]\n",
    "\n",
    "# tensorflow way to convert text to sequence with tokenizer\n",
    "@tf.function\n",
    "def text_to_seq(text, tokenizer):\n",
    "    spl = tf.map_fn(lambda t: tf.py_function(func=tokenizer_lookup, inp=[t], Tout=tf.int32), text, dtype=\"int32\")\n",
    "    return spl"
   ]
  },
  {
   "cell_type": "code",
   "execution_count": 7,
   "metadata": {},
   "outputs": [],
   "source": [
    "# converts image filepath to its label\n",
    "@tf.function\n",
    "def get_seq(file_path):\n",
    "    # convert from png to gui file\n",
    "    path = tf.strings.regex_replace(file_path, \".png\", \".gui\")\n",
    "    # read contents and return\n",
    "    label = tf.constant(\"<START> \") + tf.io.read_file(path) + tf.constant(\" <END>\")\n",
    "    return tf.strings.split(label)"
   ]
  },
  {
   "cell_type": "code",
   "execution_count": 8,
   "metadata": {},
   "outputs": [
    {
     "name": "stdout",
     "output_type": "stream",
     "text": [
      "{1: '{', 2: '}', 3: '<START>', 4: '<END>', 5: 'Body', 6: 'Block', 7: 'Container', 8: 'Row', 9: 'Column', 10: 'Header', 11: 'Footer', 12: 'Paragraph', 13: 'Image', 14: 'Button', 15: 'Subtitle', 16: 'Title', 17: 'Link', 18: 'TextBox', 19: 'CheckBox', 20: 'RadioBox', 21: 'Range', 0: '<PAD>'}\n"
     ]
    }
   ],
   "source": [
    "print(tokenizer.index_word)"
   ]
  },
  {
   "cell_type": "markdown",
   "metadata": {},
   "source": [
    "**Combine and Split Datasets**"
   ]
  },
  {
   "cell_type": "code",
   "execution_count": 9,
   "metadata": {},
   "outputs": [],
   "source": [
    "# does all processing per dataset image path\n",
    "@tf.function\n",
    "def process_path(file_path):\n",
    "    # load the raw data from the file as a string\n",
    "    img = tf.io.read_file(file_path)\n",
    "    img = decode_img(img)\n",
    "    \n",
    "    seq = get_seq(file_path)\n",
    "    seq = text_to_seq(seq, tokenizer)\n",
    "    return img, seq"
   ]
  },
  {
   "cell_type": "code",
   "execution_count": 10,
   "metadata": {},
   "outputs": [],
   "source": [
    "dataset = list_img.map(process_path, num_parallel_calls=AUTOTUNE)"
   ]
  },
  {
   "cell_type": "code",
   "execution_count": 11,
   "metadata": {},
   "outputs": [],
   "source": [
    "max_length = dataset.map(lambda _, y: tf.size(y), num_parallel_calls=AUTOTUNE)\n",
    "max_length = max_length.reduce(tf.constant(0), lambda x, y: tf.math.maximum(x, y))"
   ]
  },
  {
   "cell_type": "code",
   "execution_count": 12,
   "metadata": {},
   "outputs": [
    {
     "name": "stdout",
     "output_type": "stream",
     "text": [
      "Image shape:  (299, 299, 3)\n",
      "Sequence:  ['<START> Body { Header { Button Link Link Link } Row { Column { Subtitle Paragraph Button } } Row { Column { Subtitle Paragraph Button } Column { Subtitle Paragraph Button } } Row { Column { Subtitle Paragraph Button } Column { Subtitle Paragraph Button } } } <END> <PAD> <PAD> <PAD> <PAD> <PAD> <PAD> <PAD> <PAD> <PAD> <PAD> <PAD> <PAD> <PAD> <PAD> <PAD> <PAD> <PAD> <PAD> <PAD> <PAD> <PAD> <PAD> <PAD> <PAD> <PAD> <PAD> <PAD> <PAD> <PAD> <PAD> <PAD> <PAD> <PAD> <PAD> <PAD> <PAD> <PAD> <PAD> <PAD> <PAD> <PAD> <PAD>']\n"
     ]
    },
    {
     "data": {
      "image/png": "[encoded data removed]",
      "text/plain": [
       "<Figure size 432x288 with 1 Axes>"
      ]
     },
     "metadata": {
      "needs_background": "light"
     },
     "output_type": "display_data"
    }
   ],
   "source": [
    "dataset = dataset.map(lambda x, y: (x, tf.concat([y, tf.repeat(0, max_length - tf.size(y))], -1)))\n",
    "\n",
    "for image, seq in dataset.take(1):\n",
    "    print(\"Image shape: \", image.numpy().shape)\n",
    "    print(\"Sequence: \", tokenizer.sequences_to_texts([seq.numpy()]))\n",
    "    plt.imshow(image.numpy())"
   ]
  },
  {
   "cell_type": "code",
   "execution_count": 13,
   "metadata": {},
   "outputs": [],
   "source": [
    "train_size = int(DATASET_SIZE * 0.7)\n",
    "val_size = int(DATASET_SIZE * 0.1)\n",
    "train_dataset = dataset.take(train_size)\n",
    "val_dataset = dataset.skip(train_size).take(val_size)\n",
    "test_dataset = dataset.skip(train_size + val_size)"
   ]
  },
  {
   "cell_type": "code",
   "execution_count": 14,
   "metadata": {},
   "outputs": [],
   "source": [
    "BATCH_SIZE = 8\n",
    "BUFFER_SIZE = 50\n",
    "embedding_dim = 16\n",
    "encoder_units = 128\n",
    "decoder_units = 256\n",
    "num_steps = train_size // BATCH_SIZE\n",
    "num_val_steps = val_size // BATCH_SIZE\n",
    "vocab_size = len(tokenizer.word_index) + 1\n",
    "seq_limit = 64\n",
    "\n",
    "train_dataset = train_dataset.shuffle(BUFFER_SIZE).batch(BATCH_SIZE, drop_remainder=True)\n",
    "train_dataset = train_dataset.prefetch(buffer_size=tf.data.experimental.AUTOTUNE)\n",
    "val_dataset = val_dataset.shuffle(BUFFER_SIZE).batch(BATCH_SIZE, drop_remainder=True)\n",
    "val_dataset = val_dataset.prefetch(buffer_size=tf.data.experimental.AUTOTUNE)"
   ]
  },
  {
   "cell_type": "markdown",
   "metadata": {},
   "source": [
    "Model Definition\n",
    "----"
   ]
  },
  {
   "cell_type": "code",
   "execution_count": 15,
   "metadata": {},
   "outputs": [],
   "source": [
    "class CNN_Encoder(tf.keras.Model):\n",
    "    def __init__(self, embedding_dim):\n",
    "        super(CNN_Encoder, self).__init__()\n",
    "        self.model = tf.keras.models.Sequential()\n",
    "        self.model.add(tf.keras.layers.Conv2D(16, (3, 3), padding='valid', activation='relu', input_shape=(IMG_WIDTH, IMG_HEIGHT, 3,)))\n",
    "        self.model.add(tf.keras.layers.Conv2D(16, (3,3), activation='relu', padding='same', strides=2))\n",
    "        self.model.add(tf.keras.layers.Dropout(0.2))\n",
    "        self.model.add(tf.keras.layers.Conv2D(32, (3,3), activation='relu', padding='same'))\n",
    "        self.model.add(tf.keras.layers.Conv2D(32, (3,3), activation='relu', padding='same', strides=2))\n",
    "        self.model.add(tf.keras.layers.Dropout(0.2))\n",
    "        self.model.add(tf.keras.layers.Conv2D(64, (3,3), activation='relu', padding='same'))\n",
    "        self.model.add(tf.keras.layers.Conv2D(64, (3,3), activation='relu', padding='same', strides=2))\n",
    "        self.model.add(tf.keras.layers.Dropout(0.2))\n",
    "        self.model.add(tf.keras.layers.Conv2D(128, (3,3), activation='relu', padding='same'))\n",
    "\n",
    "        self.model.add(tf.keras.layers.Dense(512, activation='relu'))\n",
    "        self.model.add(tf.keras.layers.Dropout(0.2))\n",
    "        self.out = tf.keras.layers.Dense(embedding_dim)\n",
    "        \n",
    "    def call(self, x):\n",
    "        x = self.model(x)\n",
    "        \n",
    "        x = self.out(x)\n",
    "        x = tf.reshape(x, (x.shape[0], -1, x.shape[3]))\n",
    "        \n",
    "        x = tf.nn.relu(x)\n",
    "        \n",
    "        return x"
   ]
  },
  {
   "cell_type": "code",
   "execution_count": 16,
   "metadata": {},
   "outputs": [],
   "source": [
    "class BahdanauAttention(tf.keras.Model):\n",
    "    def __init__(self, units):\n",
    "        super(BahdanauAttention, self).__init__()\n",
    "        self.W1 = tf.keras.layers.Dense(units)\n",
    "        self.W2 = tf.keras.layers.Dense(units)\n",
    "        self.V = tf.keras.layers.Dense(1)\n",
    "\n",
    "    def call(self, features, hidden):\n",
    "        # features(CNN_encoder output) shape == (batch_size, 64, embedding_dim)\n",
    "\n",
    "        # hidden shape == (batch_size, hidden_size)\n",
    "        # hidden_with_time_axis shape == (batch_size, 1, hidden_size)\n",
    "        hidden_with_time_axis = tf.expand_dims(hidden, 1)\n",
    "\n",
    "        # score shape == (batch_size, 64, hidden_size)\n",
    "        score = tf.nn.tanh(self.W1(features) + self.W2(hidden_with_time_axis))\n",
    "\n",
    "        # attention_weights shape == (batch_size, 64, 1)\n",
    "        # you get 1 at the last axis because you are applying score to self.V\n",
    "        attention_weights = tf.nn.softmax(self.V(score), axis=1)\n",
    "\n",
    "        # context_vector shape after sum == (batch_size, hidden_size)\n",
    "        context_vector = attention_weights * features\n",
    "        context_vector = tf.reduce_sum(context_vector, axis=1)\n",
    "\n",
    "        return context_vector, attention_weights"
   ]
  },
  {
   "cell_type": "code",
   "execution_count": 17,
   "metadata": {},
   "outputs": [],
   "source": [
    "class RNN_Encoder(tf.keras.Model):\n",
    "    def __init__(self, embedding_dim, units, vocab_size, max_length):\n",
    "        super(RNN_Encoder, self).__init__()\n",
    "        self.units = units\n",
    "        self.embedding = tf.keras.layers.Embedding(vocab_size, embedding_dim)\n",
    "        self.gru = tf.keras.models.Sequential()\n",
    "        self.gru.add(tf.keras.layers.GRU(self.units,\n",
    "                                   return_sequences=True,\n",
    "                                   dropout=0.2,\n",
    "                                   recurrent_initializer='glorot_uniform'))\n",
    "        self.gru.add(tf.keras.layers.GRU(self.units,\n",
    "                                   return_sequences=True,\n",
    "                                   dropout=0.2,\n",
    "                                   recurrent_initializer='glorot_uniform'))\n",
    "        self.gru.add(tf.keras.layers.TimeDistributed(tf.keras.layers.Dense(units, activation='relu')))\n",
    "        \n",
    "    def call(self, x):\n",
    "        x = self.embedding(x)\n",
    "        \n",
    "        x = self.gru(x)\n",
    "        \n",
    "        return x\n",
    "        \n",
    "    def reset_state(self, batch_size):\n",
    "        return tf.zeros((batch_size, self.units))"
   ]
  },
  {
   "cell_type": "code",
   "execution_count": 18,
   "metadata": {},
   "outputs": [],
   "source": [
    "class CNN_RNN_Encoder(tf.keras.Model):\n",
    "    def __init__(self, embedding_dim, units, vocab_size, max_length):\n",
    "        super(CNN_RNN_Encoder, self).__init__()\n",
    "        self.rnn = RNN_Encoder(embedding_dim, units, vocab_size, max_length)\n",
    "        self.cnn = CNN_Encoder(embedding_dim)\n",
    "        self.features = None\n",
    "        \n",
    "    def call(self, seq, img=None):\n",
    "        if img is None and self.features is None:\n",
    "            print(\"Error, img and features None\")\n",
    "            return\n",
    "        elif img is not None:\n",
    "            self.features = self.cnn(img)\n",
    "             \n",
    "        seq = self.rnn(seq)\n",
    "        \n",
    "        return self.features, seq\n",
    "    \n",
    "    def set_features(self, img):\n",
    "        self.features = self.cnn(img)\n",
    "    \n",
    "    def reset_state(self, batch_size):\n",
    "        return self.rnn.reset_state(batch_size)"
   ]
  },
  {
   "cell_type": "code",
   "execution_count": 19,
   "metadata": {},
   "outputs": [],
   "source": [
    "class RNN_Decoder(tf.keras.Model):\n",
    "    def __init__(self, units, vocab_size, max_length):\n",
    "        super(RNN_Decoder, self).__init__()\n",
    "        self.units = units\n",
    "        self.gru1 = tf.keras.layers.GRU(self.units,\n",
    "                                   return_sequences=True,\n",
    "                                   dropout=0.2,\n",
    "                                   recurrent_initializer='glorot_uniform')\n",
    "        self.gru2 = tf.keras.layers.GRU(self.units,\n",
    "                                   return_sequences=False,\n",
    "                                   return_state=True,\n",
    "                                   recurrent_initializer='glorot_uniform')\n",
    "        \n",
    "        self.fc = tf.keras.layers.Dense(units)\n",
    "        self.fc2 = tf.keras.layers.Dense(vocab_size)\n",
    "        \n",
    "        self.attention = BahdanauAttention(self.units)\n",
    "        self.rep = tf.keras.layers.RepeatVector(1)\n",
    "        \n",
    "    def call(self, features, seq, hidden):\n",
    "        context_vector, attention_weights = self.attention(features, hidden)\n",
    "        \n",
    "        feat = self.rep(context_vector)\n",
    "        \n",
    "        x = tf.keras.layers.concatenate([feat, seq])\n",
    "        \n",
    "        x, state = self.gru2(self.gru1(x))\n",
    "        \n",
    "        x = self.fc(x)\n",
    "        x = self.fc2(x)\n",
    "        \n",
    "        return x, state, attention_weights\n",
    "    \n",
    "    def reset_state(self, batch_size):\n",
    "        return tf.zeros((batch_size, self.units))"
   ]
  },
  {
   "cell_type": "code",
   "execution_count": 20,
   "metadata": {},
   "outputs": [],
   "source": [
    "class RNN_Encoder_Decoder(tf.keras.Model):\n",
    "    def __init__(self, embedding_dim, units, vocab_size):\n",
    "        super(RNN_Encoder_Decoder, self).__init__()\n",
    "        self.units = units\n",
    "        self.embedding = tf.keras.layers.Embedding(vocab_size, embedding_dim)\n",
    "        self.gru = tf.keras.models.Sequential()\n",
    "        self.gru.add(tf.keras.layers.GRU(self.units,\n",
    "                                   return_sequences=True,\n",
    "                                   return_state=True,\n",
    "                                   dropout=0.2,\n",
    "                                   recurrent_initializer='glorot_uniform'))\n",
    "        self.gru.add(tf.keras.layers.GRU(self.units,\n",
    "                                   return_sequences=True,\n",
    "                                   return_state=True,\n",
    "                                   dropout=0.2,\n",
    "                                   recurrent_initializer='glorot_uniform'))\n",
    "        self.fc1 = tf.keras.layers.Dense(self.units)\n",
    "        self.fc2 = tf.keras.layers.Dense(vocab_size)\n",
    "        \n",
    "    def call(self, x, features, hidden):\n",
    "        x = self.embedding(x)\n",
    "    \n",
    "        x = tf.concat([tf.expand_dims(features, 1), x], axis=-1)\n",
    "        \n",
    "        output, state = self.gru(x)\n",
    "\n",
    "        x = self.fc1(output)\n",
    "\n",
    "        x = tf.reshape(x, (-1, x.shape[2]))\n",
    "\n",
    "        x = self.fc2(x)\n",
    "        \n",
    "        return x, state\n",
    "    \n",
    "    def reset_state(self, batch_size):\n",
    "        return tf.zeros((batch_size, self.units))"
   ]
  },
  {
   "cell_type": "code",
   "execution_count": 21,
   "metadata": {},
   "outputs": [],
   "source": [
    "encoder = CNN_RNN_Encoder(embedding_dim, encoder_units, vocab_size, seq_limit)\n",
    "decoder = RNN_Decoder(decoder_units, vocab_size, seq_limit)"
   ]
  },
  {
   "cell_type": "code",
   "execution_count": 22,
   "metadata": {},
   "outputs": [],
   "source": [
    "optimizer = tf.keras.optimizers.Adam()\n",
    "loss_object = tf.keras.losses.SparseCategoricalCrossentropy(from_logits=True, reduction='none')\n",
    "\n",
    "def loss_function(real, pred):\n",
    "    mask = tf.math.logical_not(tf.math.equal(real, 0))\n",
    "    loss_ = loss_object(real, pred)\n",
    "\n",
    "    mask = tf.cast(mask, dtype=loss_.dtype)\n",
    "    loss_ *= mask\n",
    "\n",
    "    return tf.reduce_mean(loss_)"
   ]
  },
  {
   "cell_type": "code",
   "execution_count": 23,
   "metadata": {},
   "outputs": [],
   "source": [
    "checkpoint_path = \"./checkpoints/cnnrnn_rnn_w2w_att/exp\"\n",
    "ckpt = tf.train.Checkpoint(encoder=encoder,\n",
    "                           decoder=decoder,\n",
    "                           optimizer = optimizer)\n",
    "ckpt_manager = tf.train.CheckpointManager(ckpt, checkpoint_path, max_to_keep=5)"
   ]
  },
  {
   "cell_type": "code",
   "execution_count": 24,
   "metadata": {},
   "outputs": [],
   "source": [
    "start_epoch = 0\n",
    "if ckpt_manager.latest_checkpoint:\n",
    "    start_epoch = int(ckpt_manager.latest_checkpoint.split('-')[-1]) * 5\n",
    "    # restoring the latest checkpoint in checkpoint_path\n",
    "    ckpt.restore(ckpt_manager.latest_checkpoint)"
   ]
  },
  {
   "cell_type": "markdown",
   "metadata": {},
   "source": [
    "Model Training\n",
    "----"
   ]
  },
  {
   "cell_type": "code",
   "execution_count": 25,
   "metadata": {},
   "outputs": [],
   "source": [
    "def save_plot(plot_path, plot_list):\n",
    "    with open(plot_path, 'wb') as fp:\n",
    "        pickle.dump(plot_list, fp)\n",
    "        \n",
    "def load_plot(plot_path):\n",
    "    with open(plot_path, 'rb') as fp:\n",
    "         return pickle.load(fp)"
   ]
  },
  {
   "cell_type": "code",
   "execution_count": 26,
   "metadata": {},
   "outputs": [],
   "source": [
    "# # adding this in a separate cell because if you run the training cell\n",
    "# # many times, the loss_plot array will be reset\n",
    "loss_plot = load_plot(\"./checkpoints/cnnrnn_rnn_w2w_att/exp/loss_plot\")\n",
    "val_plot = load_plot(\"./checkpoints/cnnrnn_rnn_w2w_att/exp/val_plot\")\n",
    "# loss_plot = []\n",
    "# val_plot = []"
   ]
  },
  {
   "cell_type": "code",
   "execution_count": 27,
   "metadata": {},
   "outputs": [],
   "source": [
    "@tf.function\n",
    "def pad_tensor_sequence(seq):\n",
    "    return tf.pad(seq, [[0, 0], [0, seq_limit - seq.shape[1]]], \"CONSTANT\")"
   ]
  },
  {
   "cell_type": "code",
   "execution_count": 28,
   "metadata": {},
   "outputs": [],
   "source": [
    "@tf.function\n",
    "def train_step(img_tensor, target, val=False):\n",
    "    loss = 0\n",
    "\n",
    "    # initializing the hidden state for each batch\n",
    "    # because the captions are not related from image to image\n",
    "    hidden = decoder.reset_state(batch_size=target.shape[0])\n",
    "\n",
    "    dec_input = tf.expand_dims([tokenizer.word_index['<START>']] * target.shape[0], 1)\n",
    "    \n",
    "    if val:\n",
    "        encoder.set_features(img_tensor)\n",
    "\n",
    "        for i in range(1, target.shape[1]):\n",
    "            features, seq = encoder(dec_input)\n",
    "            # passing the features through the decoder\n",
    "            predictions, hidden, _ = decoder(features, seq, hidden)\n",
    "\n",
    "            loss += loss_function(target[:, i], predictions)\n",
    "\n",
    "            # using teacher forcing\n",
    "            dec_input = tf.expand_dims(target[:, i], 1)\n",
    "\n",
    "        total_loss = (loss / int(target.shape[1]))\n",
    "        return loss, total_loss\n",
    "\n",
    "    with tf.GradientTape() as tape:\n",
    "        encoder.set_features(img_tensor)\n",
    "\n",
    "        for i in range(1, target.shape[1]):\n",
    "            features, seq = encoder(dec_input)\n",
    "            # passing the features through the decoder\n",
    "            predictions, hidden, _ = decoder(features, seq, hidden)\n",
    "\n",
    "            loss += loss_function(target[:, i], predictions)\n",
    "\n",
    "            # using teacher forcing\n",
    "            dec_input = tf.expand_dims(target[:, i], 1)\n",
    "\n",
    "    total_loss = (loss / int(target.shape[1]))\n",
    "\n",
    "    trainable_variables = encoder.trainable_variables + decoder.trainable_variables\n",
    "\n",
    "    gradients = tape.gradient(loss, trainable_variables)\n",
    "\n",
    "    optimizer.apply_gradients(zip(gradients, trainable_variables))\n",
    "\n",
    "    return loss, total_loss"
   ]
  },
  {
   "cell_type": "code",
   "execution_count": 29,
   "metadata": {
    "scrolled": true
   },
   "outputs": [
    {
     "name": "stdout",
     "output_type": "stream",
     "text": [
      "Epoch 1 Batch 0 Loss 1.8206\n",
      "Time taken for Batches 5.462965488433838 sec\n",
      "Epoch 1 Batch 20 Loss 1.3040\n",
      "Time taken for Batches 47.227964878082275 sec\n",
      "Epoch 1 Batch 40 Loss 1.0397\n",
      "Time taken for Batches 88.83099794387817 sec\n",
      "Epoch 1 Batch 60 Loss 0.3829\n",
      "Time taken for Batches 130.308735370636 sec\n",
      "Epoch 1 Batch 80 Loss 0.3593\n",
      "Time taken for Batches 171.69773864746094 sec\n",
      "Epoch 1 Batch 100 Loss 0.3050\n",
      "Time taken for Batches 213.3437762260437 sec\n",
      "Epoch 1 Batch 120 Loss 0.2059\n",
      "Time taken for Batches 254.68773436546326 sec\n",
      "Epoch 1 Batch 140 Loss 0.2563\n",
      "Time taken for Batches 295.8667359352112 sec\n",
      "Epoch 1 Loss 0.608786 Val Loss 0.169109\n",
      "Time taken for 1 epoch 357.8799409866333 sec\n",
      "\n",
      "Epoch 2 Batch 0 Loss 0.1673\n",
      "Time taken for Batches 2.912001609802246 sec\n",
      "Epoch 2 Batch 20 Loss 0.1150\n",
      "Time taken for Batches 44.6050341129303 sec\n",
      "Epoch 2 Batch 40 Loss 0.0894\n",
      "Time taken for Batches 85.94401335716248 sec\n",
      "Epoch 2 Batch 60 Loss 0.1148\n",
      "Time taken for Batches 128.26699900627136 sec\n",
      "Epoch 2 Batch 80 Loss 0.0987\n",
      "Time taken for Batches 170.2030417919159 sec\n",
      "Epoch 2 Batch 100 Loss 0.2018\n",
      "Time taken for Batches 211.56503868103027 sec\n",
      "Epoch 2 Batch 120 Loss 0.4396\n",
      "Time taken for Batches 253.57599997520447 sec\n",
      "Epoch 2 Batch 140 Loss 0.3747\n",
      "Time taken for Batches 294.89821791648865 sec\n",
      "Epoch 2 Loss 0.262245 Val Loss 0.340118\n",
      "Time taken for 1 epoch 356.93020725250244 sec\n",
      "\n",
      "Epoch 3 Batch 0 Loss 0.3356\n",
      "Time taken for Batches 2.8560051918029785 sec\n",
      "Epoch 3 Batch 20 Loss 0.3304\n",
      "Time taken for Batches 44.23903775215149 sec\n",
      "Epoch 3 Batch 40 Loss 0.3123\n",
      "Time taken for Batches 85.40799927711487 sec\n",
      "Epoch 3 Batch 60 Loss 0.3536\n",
      "Time taken for Batches 127.86709451675415 sec\n",
      "Epoch 3 Batch 80 Loss 0.3518\n",
      "Time taken for Batches 171.19909763336182 sec\n",
      "Epoch 3 Batch 100 Loss 0.3419\n",
      "Time taken for Batches 216.2699053287506 sec\n",
      "Epoch 3 Batch 120 Loss 0.3719\n",
      "Time taken for Batches 261.8531813621521 sec\n",
      "Epoch 3 Batch 140 Loss 0.3740\n",
      "Time taken for Batches 305.5811514854431 sec\n",
      "Epoch 3 Loss 0.341582 Val Loss 0.336106\n",
      "Time taken for 1 epoch 372.95844531059265 sec\n",
      "\n",
      "Epoch 4 Batch 0 Loss 0.3443\n",
      "Time taken for Batches 3.6062676906585693 sec\n",
      "Epoch 4 Batch 20 Loss 0.3715\n",
      "Time taken for Batches 49.51054072380066 sec\n",
      "Epoch 4 Batch 40 Loss 0.3501\n",
      "Time taken for Batches 92.85477018356323 sec\n",
      "Epoch 4 Batch 60 Loss 0.3611\n",
      "Time taken for Batches 136.0173420906067 sec\n",
      "Epoch 4 Batch 80 Loss 0.3534\n",
      "Time taken for Batches 179.03832268714905 sec\n",
      "Epoch 4 Batch 100 Loss 0.3551\n",
      "Time taken for Batches 222.29816007614136 sec\n",
      "Epoch 4 Batch 120 Loss 0.3561\n",
      "Time taken for Batches 265.6653861999512 sec\n",
      "Epoch 4 Batch 140 Loss 0.3327\n",
      "Time taken for Batches 309.63870072364807 sec\n",
      "Epoch 4 Loss 0.341299 Val Loss 0.336380\n",
      "Time taken for 1 epoch 375.4372589588165 sec\n",
      "\n",
      "Epoch 5 Batch 0 Loss 0.3646\n",
      "Time taken for Batches 2.9777448177337646 sec\n",
      "Epoch 5 Batch 20 Loss 0.3453\n",
      "Time taken for Batches 45.35943412780762 sec\n",
      "Epoch 5 Batch 40 Loss 0.3165\n",
      "Time taken for Batches 87.15687894821167 sec\n",
      "Epoch 5 Batch 60 Loss 0.3304\n",
      "Time taken for Batches 130.39991116523743 sec\n",
      "Epoch 5 Batch 80 Loss 0.3099\n",
      "Time taken for Batches 176.45837020874023 sec\n",
      "Epoch 5 Batch 100 Loss 0.3855\n",
      "Time taken for Batches 220.36530423164368 sec\n",
      "Epoch 5 Batch 120 Loss 0.3111\n",
      "Time taken for Batches 264.8032810688019 sec\n",
      "Epoch 5 Batch 140 Loss 0.3487\n",
      "Time taken for Batches 308.0203204154968 sec\n",
      "Epoch 5 Loss 0.341259 Val Loss 0.334672\n",
      "Time taken for 1 epoch 373.75590229034424 sec\n",
      "\n",
      "Epoch 6 Batch 0 Loss 0.3230\n",
      "Time taken for Batches 3.0783960819244385 sec\n",
      "Epoch 6 Batch 20 Loss 0.3716\n",
      "Time taken for Batches 50.55981373786926 sec\n",
      "Epoch 6 Batch 40 Loss 0.3419\n",
      "Time taken for Batches 94.5849015712738 sec\n",
      "Epoch 6 Batch 60 Loss 0.3469\n",
      "Time taken for Batches 135.75389981269836 sec\n",
      "Epoch 6 Batch 80 Loss 0.3363\n",
      "Time taken for Batches 177.0088701248169 sec\n",
      "Epoch 6 Batch 100 Loss 0.3622\n",
      "Time taken for Batches 218.10486841201782 sec\n",
      "Epoch 6 Batch 120 Loss 0.3665\n",
      "Time taken for Batches 259.56886744499207 sec\n",
      "Epoch 6 Batch 140 Loss 0.3375\n",
      "Time taken for Batches 300.48288440704346 sec\n",
      "Epoch 6 Loss 0.340911 Val Loss 0.336296\n",
      "Time taken for 1 epoch 363.1598663330078 sec\n",
      "\n",
      "Epoch 7 Batch 0 Loss 0.3009\n",
      "Time taken for Batches 3.01403546333313 sec\n",
      "Epoch 7 Batch 20 Loss 0.3551\n",
      "Time taken for Batches 44.29803466796875 sec\n",
      "Epoch 7 Batch 40 Loss 0.3417\n",
      "Time taken for Batches 85.34200167655945 sec\n",
      "Epoch 7 Batch 60 Loss 0.3017\n",
      "Time taken for Batches 126.49802565574646 sec\n",
      "Epoch 7 Batch 80 Loss 0.3277\n",
      "Time taken for Batches 167.805002450943 sec\n",
      "Epoch 7 Batch 100 Loss 0.3613\n",
      "Time taken for Batches 209.08200359344482 sec\n",
      "Epoch 7 Batch 120 Loss 0.3538\n",
      "Time taken for Batches 250.12000370025635 sec\n",
      "Epoch 7 Batch 140 Loss 0.3484\n",
      "Time taken for Batches 290.93900752067566 sec\n",
      "Epoch 7 Loss 0.340919 Val Loss 0.336213\n",
      "Time taken for 1 epoch 353.0890028476715 sec\n",
      "\n",
      "Epoch 8 Batch 0 Loss 0.3029\n",
      "Time taken for Batches 2.9209976196289062 sec\n",
      "Epoch 8 Batch 20 Loss 0.3468\n",
      "Time taken for Batches 44.3659987449646 sec\n",
      "Epoch 8 Batch 40 Loss 0.3315\n",
      "Time taken for Batches 85.47390818595886 sec\n",
      "Epoch 8 Batch 60 Loss 0.3542\n",
      "Time taken for Batches 128.3839042186737 sec\n",
      "Epoch 8 Batch 80 Loss 0.3006\n",
      "Time taken for Batches 171.98286890983582 sec\n",
      "Epoch 8 Batch 100 Loss 0.3559\n",
      "Time taken for Batches 215.05287337303162 sec\n",
      "Epoch 8 Batch 120 Loss 0.3467\n",
      "Time taken for Batches 256.26687264442444 sec\n",
      "Epoch 8 Batch 140 Loss 0.3383\n",
      "Time taken for Batches 297.46688437461853 sec\n",
      "Epoch 8 Loss 0.341094 Val Loss 0.337194\n",
      "Time taken for 1 epoch 362.24890756607056 sec\n",
      "\n",
      "Epoch 9 Batch 0 Loss 0.3656\n",
      "Time taken for Batches 2.9109628200531006 sec\n",
      "Epoch 9 Batch 20 Loss 0.3460\n",
      "Time taken for Batches 44.14096641540527 sec\n",
      "Epoch 9 Batch 40 Loss 0.3564\n",
      "Time taken for Batches 85.30896544456482 sec\n",
      "Epoch 9 Batch 60 Loss 0.3235\n",
      "Time taken for Batches 126.37496495246887 sec\n",
      "Epoch 9 Batch 80 Loss 0.3438\n",
      "Time taken for Batches 167.4759647846222 sec\n",
      "Epoch 9 Batch 100 Loss 0.3405\n",
      "Time taken for Batches 209.22796511650085 sec\n",
      "Epoch 9 Batch 120 Loss 0.3574\n",
      "Time taken for Batches 250.5089647769928 sec\n",
      "Epoch 9 Batch 140 Loss 0.3222\n",
      "Time taken for Batches 294.8057506084442 sec\n",
      "Epoch 9 Loss 0.340778 Val Loss 0.336995\n",
      "Time taken for 1 epoch 373.3978431224823 sec\n",
      "\n",
      "Epoch 10 Batch 0 Loss 0.3641\n",
      "Time taken for Batches 4.392536163330078 sec\n",
      "Epoch 10 Batch 20 Loss 0.3436\n",
      "Time taken for Batches 54.34456157684326 sec\n",
      "Epoch 10 Batch 40 Loss 0.3395\n",
      "Time taken for Batches 99.78730249404907 sec\n",
      "Epoch 10 Batch 60 Loss 0.3532\n",
      "Time taken for Batches 146.04900312423706 sec\n",
      "Epoch 10 Batch 80 Loss 0.3125\n",
      "Time taken for Batches 192.49146366119385 sec\n",
      "Epoch 10 Batch 100 Loss 0.3764\n",
      "Time taken for Batches 236.6276638507843 sec\n",
      "Epoch 10 Batch 120 Loss 0.3262\n",
      "Time taken for Batches 282.4169132709503 sec\n",
      "Epoch 10 Batch 140 Loss 0.3529\n",
      "Time taken for Batches 330.01650166511536 sec\n",
      "Epoch 10 Loss 0.340592 Val Loss 0.336748\n",
      "Time taken for 1 epoch 398.56642961502075 sec\n",
      "\n",
      "Epoch 11 Batch 0 Loss 0.3031\n",
      "Time taken for Batches 3.073005199432373 sec\n",
      "Epoch 11 Batch 20 Loss 0.3598\n",
      "Time taken for Batches 48.138561964035034 sec\n",
      "Epoch 11 Batch 40 Loss 0.3447\n",
      "Time taken for Batches 92.55858850479126 sec\n",
      "Epoch 11 Batch 60 Loss 0.3433\n",
      "Time taken for Batches 136.70659756660461 sec\n",
      "Epoch 11 Batch 80 Loss 0.3408\n",
      "Time taken for Batches 181.0735638141632 sec\n",
      "Epoch 11 Batch 100 Loss 0.3444\n",
      "Time taken for Batches 225.97666931152344 sec\n",
      "Epoch 11 Batch 120 Loss 0.3210\n",
      "Time taken for Batches 270.10475993156433 sec\n",
      "Epoch 11 Batch 140 Loss 0.3326\n",
      "Time taken for Batches 314.19675850868225 sec\n",
      "Epoch 11 Loss 0.340639 Val Loss 0.334195\n",
      "Time taken for 1 epoch 381.49730134010315 sec\n",
      "\n",
      "Epoch 12 Batch 0 Loss 0.3148\n",
      "Time taken for Batches 3.0390005111694336 sec\n",
      "Epoch 12 Batch 20 Loss 0.3570\n",
      "Time taken for Batches 47.29610586166382 sec\n",
      "Epoch 12 Batch 40 Loss 0.3493\n",
      "Time taken for Batches 91.54523134231567 sec\n",
      "Epoch 12 Batch 60 Loss 0.3637\n",
      "Time taken for Batches 135.76638340950012 sec\n",
      "Epoch 12 Batch 80 Loss 0.3183\n",
      "Time taken for Batches 180.4245162010193 sec\n",
      "Epoch 12 Batch 100 Loss 0.3803\n",
      "Time taken for Batches 225.15286231040955 sec\n",
      "Epoch 12 Batch 120 Loss 0.3668\n",
      "Time taken for Batches 269.33686423301697 sec\n",
      "Epoch 12 Batch 140 Loss 0.3405\n",
      "Time taken for Batches 313.3750309944153 sec\n",
      "Epoch 12 Loss 0.340708 Val Loss 0.335599\n",
      "Time taken for 1 epoch 379.78828144073486 sec\n",
      "\n"
     ]
    },
    {
     "name": "stdout",
     "output_type": "stream",
     "text": [
      "Epoch 13 Batch 0 Loss 0.3713\n",
      "Time taken for Batches 3.166032314300537 sec\n",
      "Epoch 13 Batch 20 Loss 0.3061\n",
      "Time taken for Batches 48.41510033607483 sec\n",
      "Epoch 13 Batch 40 Loss 0.3561\n",
      "Time taken for Batches 93.32628798484802 sec\n",
      "Epoch 13 Batch 60 Loss 0.3331\n",
      "Time taken for Batches 137.45735931396484 sec\n",
      "Epoch 13 Batch 80 Loss 0.3284\n",
      "Time taken for Batches 184.57027864456177 sec\n",
      "Epoch 13 Batch 100 Loss 0.3443\n",
      "Time taken for Batches 229.1223108768463 sec\n",
      "Epoch 13 Batch 120 Loss 0.3034\n",
      "Time taken for Batches 274.0883128643036 sec\n",
      "Epoch 13 Batch 140 Loss 0.3057\n",
      "Time taken for Batches 320.2495131492615 sec\n",
      "Epoch 13 Loss 0.340550 Val Loss 0.334952\n",
      "Time taken for 1 epoch 386.06111240386963 sec\n",
      "\n",
      "Epoch 14 Batch 0 Loss 0.3229\n",
      "Time taken for Batches 2.9039676189422607 sec\n",
      "Epoch 14 Batch 20 Loss 0.3158\n",
      "Time taken for Batches 45.0899658203125 sec\n",
      "Epoch 14 Batch 40 Loss 0.3262\n",
      "Time taken for Batches 87.37899160385132 sec\n",
      "Epoch 14 Batch 60 Loss 0.3259\n",
      "Time taken for Batches 130.90596866607666 sec\n",
      "Epoch 14 Batch 80 Loss 0.3503\n",
      "Time taken for Batches 177.5659692287445 sec\n",
      "Epoch 14 Batch 100 Loss 0.3662\n",
      "Time taken for Batches 223.35096883773804 sec\n",
      "Epoch 14 Batch 120 Loss 0.3394\n",
      "Time taken for Batches 268.9659676551819 sec\n",
      "Epoch 14 Batch 140 Loss 0.3158\n",
      "Time taken for Batches 312.6484811306 sec\n",
      "Epoch 14 Loss 0.340901 Val Loss 0.335240\n",
      "Time taken for 1 epoch 380.7324810028076 sec\n",
      "\n",
      "Epoch 15 Batch 0 Loss 0.3023\n",
      "Time taken for Batches 3.5320026874542236 sec\n",
      "Epoch 15 Batch 20 Loss 0.3450\n",
      "Time taken for Batches 48.31552863121033 sec\n",
      "Epoch 15 Batch 40 Loss 0.3426\n",
      "Time taken for Batches 95.64971423149109 sec\n",
      "Epoch 15 Batch 60 Loss 0.3297\n",
      "Time taken for Batches 140.0388252735138 sec\n",
      "Epoch 15 Batch 80 Loss 0.3580\n",
      "Time taken for Batches 185.15698313713074 sec\n",
      "Epoch 15 Batch 100 Loss 0.3678\n",
      "Time taken for Batches 229.9989619255066 sec\n",
      "Epoch 15 Batch 120 Loss 0.3270\n",
      "Time taken for Batches 274.1629786491394 sec\n",
      "Epoch 15 Batch 140 Loss 0.3349\n",
      "Time taken for Batches 319.7540159225464 sec\n",
      "Epoch 15 Loss 0.340831 Val Loss 0.335109\n",
      "Time taken for 1 epoch 390.7234959602356 sec\n",
      "\n",
      "Epoch 16 Batch 0 Loss 0.3423\n",
      "Time taken for Batches 3.171010732650757 sec\n",
      "Epoch 16 Batch 20 Loss 0.3253\n",
      "Time taken for Batches 47.61205172538757 sec\n",
      "Epoch 16 Batch 40 Loss 0.3023\n",
      "Time taken for Batches 91.4950532913208 sec\n",
      "Epoch 16 Batch 60 Loss 0.3423\n",
      "Time taken for Batches 137.05404782295227 sec\n",
      "Epoch 16 Batch 80 Loss 0.3502\n",
      "Time taken for Batches 179.91204261779785 sec\n",
      "Epoch 16 Batch 100 Loss 0.3610\n",
      "Time taken for Batches 222.71904754638672 sec\n",
      "Epoch 16 Batch 120 Loss 0.3138\n",
      "Time taken for Batches 265.43507742881775 sec\n",
      "Epoch 16 Batch 140 Loss 0.3185\n",
      "Time taken for Batches 308.2550446987152 sec\n",
      "Epoch 16 Loss 0.340415 Val Loss 0.338980\n",
      "Time taken for 1 epoch 374.39804577827454 sec\n",
      "\n",
      "Epoch 17 Batch 0 Loss 0.3518\n",
      "Time taken for Batches 3.0660340785980225 sec\n",
      "Epoch 17 Batch 20 Loss 0.3222\n",
      "Time taken for Batches 46.29703187942505 sec\n",
      "Epoch 17 Batch 40 Loss 0.3590\n",
      "Time taken for Batches 88.20203161239624 sec\n",
      "Epoch 17 Batch 60 Loss 0.3355\n",
      "Time taken for Batches 130.21299648284912 sec\n",
      "Epoch 17 Batch 80 Loss 0.3175\n",
      "Time taken for Batches 172.003032207489 sec\n",
      "Epoch 17 Batch 100 Loss 0.3492\n",
      "Time taken for Batches 213.7900390625 sec\n",
      "Epoch 17 Batch 120 Loss 0.3523\n",
      "Time taken for Batches 255.78300142288208 sec\n",
      "Epoch 17 Batch 140 Loss 0.2978\n",
      "Time taken for Batches 297.6620318889618 sec\n",
      "Epoch 17 Loss 0.341016 Val Loss 0.336208\n",
      "Time taken for 1 epoch 360.0865230560303 sec\n",
      "\n",
      "Epoch 18 Batch 0 Loss 0.3177\n",
      "Time taken for Batches 2.9300332069396973 sec\n",
      "Epoch 18 Batch 20 Loss 0.3515\n",
      "Time taken for Batches 44.95503377914429 sec\n",
      "Epoch 18 Batch 40 Loss 0.3515\n",
      "Time taken for Batches 86.81102633476257 sec\n",
      "Epoch 18 Batch 60 Loss 0.3203\n",
      "Time taken for Batches 128.5819993019104 sec\n",
      "Epoch 18 Batch 80 Loss 0.3288\n",
      "Time taken for Batches 170.55003023147583 sec\n",
      "Epoch 18 Batch 100 Loss 0.3578\n",
      "Time taken for Batches 212.3200306892395 sec\n",
      "Epoch 18 Batch 120 Loss 0.3379\n",
      "Time taken for Batches 253.93003106117249 sec\n",
      "Epoch 18 Batch 140 Loss 0.3286\n",
      "Time taken for Batches 295.7070322036743 sec\n",
      "Epoch 18 Loss 0.340331 Val Loss 0.335830\n",
      "Time taken for 1 epoch 358.39899945259094 sec\n",
      "\n",
      "Epoch 19 Batch 0 Loss 0.3220\n",
      "Time taken for Batches 2.921020984649658 sec\n",
      "Epoch 19 Batch 20 Loss 0.3222\n",
      "Time taken for Batches 44.56303405761719 sec\n",
      "Epoch 19 Batch 40 Loss 0.2696\n",
      "Time taken for Batches 86.29003095626831 sec\n",
      "Epoch 19 Batch 60 Loss 0.3293\n",
      "Time taken for Batches 127.88199877738953 sec\n",
      "Epoch 19 Batch 80 Loss 0.3377\n",
      "Time taken for Batches 169.67201972007751 sec\n",
      "Epoch 19 Batch 100 Loss 0.3403\n",
      "Time taken for Batches 211.4760308265686 sec\n",
      "Epoch 19 Batch 120 Loss 0.3209\n",
      "Time taken for Batches 253.21599531173706 sec\n",
      "Epoch 19 Batch 140 Loss 0.3357\n",
      "Time taken for Batches 294.8290309906006 sec\n",
      "Epoch 19 Loss 0.340394 Val Loss 0.336842\n",
      "Time taken for 1 epoch 357.12800097465515 sec\n",
      "\n",
      "Epoch 20 Batch 0 Loss 0.3563\n",
      "Time taken for Batches 2.8820576667785645 sec\n",
      "Epoch 20 Batch 20 Loss 0.3421\n",
      "Time taken for Batches 44.25744938850403 sec\n",
      "Epoch 20 Batch 40 Loss 0.3559\n",
      "Time taken for Batches 85.88544964790344 sec\n",
      "Epoch 20 Batch 60 Loss 0.3426\n",
      "Time taken for Batches 127.28644919395447 sec\n",
      "Epoch 20 Batch 80 Loss 0.3152\n",
      "Time taken for Batches 168.6489028930664 sec\n",
      "Epoch 20 Batch 100 Loss 0.3428\n",
      "Time taken for Batches 209.98193550109863 sec\n",
      "Epoch 20 Batch 120 Loss 0.3536\n",
      "Time taken for Batches 251.5109043121338 sec\n",
      "Epoch 20 Batch 140 Loss 0.3664\n",
      "Time taken for Batches 293.0209050178528 sec\n",
      "Epoch 20 Loss 0.340347 Val Loss 0.335736\n",
      "Time taken for 1 epoch 356.5884339809418 sec\n",
      "\n"
     ]
    }
   ],
   "source": [
    "EPOCHS = 20\n",
    "\n",
    "for epoch in range(start_epoch, EPOCHS):\n",
    "    start = time.time()\n",
    "    total_loss = 0\n",
    "    total_val_loss = 0\n",
    "\n",
    "    for (batch, (img_tensor, target)) in enumerate(train_dataset):\n",
    "        batch_loss, t_loss = train_step(img_tensor, target)\n",
    "        total_loss += t_loss\n",
    "\n",
    "        if batch % 20 == 0:\n",
    "            print ('Epoch {} Batch {} Loss {:.4f}'.format(\n",
    "            epoch + 1, batch, batch_loss.numpy() / int(target.shape[1])))\n",
    "            print ('Time taken for Batches {} sec'.format(time.time() - start))\n",
    "            \n",
    "    for (batch, (img_tensor, target)) in enumerate(val_dataset):\n",
    "        _, t_loss = train_step(img_tensor, target, True)\n",
    "        total_val_loss += t_loss\n",
    "        \n",
    "    # storing the epoch end loss value to plot later\n",
    "    loss_plot.append(total_loss / num_steps)\n",
    "    val_plot.append(total_val_loss / num_val_steps)\n",
    "\n",
    "    if (epoch + 1) % 5 == 0:\n",
    "        ckpt_manager.save()\n",
    "\n",
    "    print ('Epoch {} Loss {:.6f} Val Loss {:.6f}'.format(epoch + 1,\n",
    "                                         total_loss/num_steps, total_val_loss/num_val_steps))\n",
    "    print ('Time taken for 1 epoch {} sec\\n'.format(time.time() - start))"
   ]
  },
  {
   "cell_type": "markdown",
   "metadata": {},
   "source": [
    "Model Evaluation\n",
    "----"
   ]
  },
  {
   "cell_type": "code",
   "execution_count": 28,
   "metadata": {},
   "outputs": [],
   "source": [
    "save_plot(\"./checkpoints/cnnrnn_rnn_w2w_att/exp/loss_plot\", loss_plot)\n",
    "save_plot(\"./checkpoints/cnnrnn_rnn_w2w_att/exp/val_plot\", val_plot)"
   ]
  },
  {
   "cell_type": "code",
   "execution_count": 28,
   "metadata": {},
   "outputs": [],
   "source": [
    "def evaluate(image):\n",
    "    attention_plot = np.zeros((max_length, 1444))\n",
    "    \n",
    "    hidden = decoder.reset_state(batch_size=1)\n",
    "\n",
    "    encoder.set_features(tf.expand_dims(image, 0))\n",
    "\n",
    "    dec_input = tf.expand_dims([tokenizer.word_index['<START>']], 0)\n",
    "    result = ['<START>']\n",
    "\n",
    "    for i in range(1, max_length):\n",
    "        features, seq = encoder(dec_input)\n",
    "        predictions, hidden, attention_weights = decoder(features, seq, hidden)\n",
    "        \n",
    "        attention_plot[i] = tf.reshape(attention_weights, (-1, )).numpy()\n",
    "\n",
    "        predicted_id = tf.random.categorical(predictions, 1)[0][0].numpy()\n",
    "        result.append(tokenizer.index_word[predicted_id])\n",
    "\n",
    "        if tokenizer.index_word[predicted_id] == '<END>':\n",
    "            return result, attention_plot\n",
    "\n",
    "        dec_input = tf.expand_dims([predicted_id], 0)\n",
    "\n",
    "    attention_plot = attention_plot[:len(result), :]\n",
    "    return result, attention_plot"
   ]
  },
  {
   "cell_type": "code",
   "execution_count": 29,
   "metadata": {},
   "outputs": [],
   "source": [
    "def plot_attention(image, result, attention_plot, lim=None):\n",
    "    fig = plt.figure(figsize=(10, 20))\n",
    "    \n",
    "    if lim is None or lim > len(result):\n",
    "        lim = len(result)\n",
    "\n",
    "    for l in range(lim):\n",
    "        temp_att = np.resize(attention_plot[l], (38, 38))\n",
    "        ax = fig.add_subplot(lim//2, lim//4, l+1)\n",
    "        ax.set_title(result[l])\n",
    "        img = ax.imshow(image)\n",
    "        ax.imshow(temp_att, cmap='gray', alpha=0.6, extent=img.get_extent())\n",
    "\n",
    "    plt.tight_layout()\n",
    "    plt.show()"
   ]
  },
  {
   "cell_type": "code",
   "execution_count": 30,
   "metadata": {},
   "outputs": [],
   "source": [
    "def render_content_with_text(key, value):\n",
    "    placeholder = \"[]\"\n",
    "    if \"Button\" in key or \"TextBox\" in key or \"Link\" in key:\n",
    "        value = value.replace(placeholder, \"Curabitur\")\n",
    "    elif \"Title\" in key or \"title\" in key:\n",
    "        value = value.replace(placeholder, \"Aliquam erat\")\n",
    "    elif \"Paragraph\" in key:\n",
    "        value = value.replace(placeholder, \"Lorem ipsum dolor sit amet, consectetur adipiscing elit. Sed fringilla nisi a tellus aliquet cursus. Sed commodo magna at libero malesuada sodales. Aliquam sed tempor.\")\n",
    "    return value"
   ]
  },
  {
   "cell_type": "code",
   "execution_count": 31,
   "metadata": {},
   "outputs": [],
   "source": [
    "def dsl_to_iframe(dsl, w=950, h=700):\n",
    "    compiler = Compiler(\"../data_collection/compiler/web_dsl_mapping.json\")\n",
    "    dsl = '\\n'.join(dsl).replace(\"<START>\", \"\").replace(\"<END>\", \"\").strip()\n",
    "    dsl = dsl.replace(\"\\n{\", \"{\").split(\"\\n\")\n",
    "    compiled = compiler.compile_string(dsl, rendering_function=render_content_with_text)\n",
    "    f = NamedTemporaryFile(dir=\"./\", delete=False, suffix='.html')\n",
    "    f.write(compiled.encode())\n",
    "    f.flush()\n",
    "    f.close()\n",
    "    display(IFrame(src=os.path.basename(f.name), width=w, height=h))\n",
    "    time.sleep(0.5)\n",
    "    os.unlink(f.name)"
   ]
  },
  {
   "cell_type": "markdown",
   "metadata": {},
   "source": [
    "**Model Loss**"
   ]
  },
  {
   "cell_type": "code",
   "execution_count": 32,
   "metadata": {},
   "outputs": [
    {
     "data": {
      "image/png": "[encoded data removed]",
      "text/plain": [
       "<Figure size 432x288 with 1 Axes>"
      ]
     },
     "metadata": {
      "needs_background": "light"
     },
     "output_type": "display_data"
    }
   ],
   "source": [
    "plt.plot(loss_plot)\n",
    "plt.plot(val_plot)\n",
    "plt.xlabel('Epochs')\n",
    "plt.ylabel('Loss')\n",
    "plt.title('Loss Plot')\n",
    "plt.legend(['Loss', 'Val Loss'], loc='upper left')\n",
    "plt.show()"
   ]
  },
  {
   "cell_type": "markdown",
   "metadata": {},
   "source": [
    "**Prediction Quality and Attention**"
   ]
  },
  {
   "cell_type": "code",
   "execution_count": 33,
   "metadata": {
    "scrolled": false
   },
   "outputs": [
    {
     "name": "stdout",
     "output_type": "stream",
     "text": [
      "Actual DSL:  <START> Body { Header { Link Button Link Link } Row { Column { Subtitle Paragraph Button } Column { Subtitle Paragraph Button } } Row { Column { Subtitle Paragraph Button } Column { Subtitle Paragraph Button } Column { Subtitle Paragraph Button } Column { Subtitle Paragraph Button } } Row { Column { Subtitle Paragraph Button } Column { Subtitle Paragraph Button } } } <END>                        \n",
      "Predicted DSL:  <START> Body { Column { Column { Column { Subtitle Paragraph Button } Row { Link } Column { Header { Column { Subtitle Paragraph Button } Column { Subtitle Paragraph Button } Row { Column { Subtitle Paragraph Button Link Link } Column { Subtitle Paragraph Button } } Row { Subtitle Paragraph Button } Column { Subtitle Paragraph Button } Column { Subtitle Paragraph Button Link Button } Column { Subtitle Paragraph Button } Column { Subtitle Paragraph Button } Column { Column { Subtitle Paragraph Button } <END>\n"
     ]
    },
    {
     "data": {
      "image/png": "[encoded data removed]",
      "text/plain": [
       "<Figure size 720x1440 with 20 Axes>"
      ]
     },
     "metadata": {
      "needs_background": "light"
     },
     "output_type": "display_data"
    },
    {
     "data": {
      "text/markdown": [
       "**Actual**"
      ],
      "text/plain": [
       "<IPython.core.display.Markdown object>"
      ]
     },
     "metadata": {},
     "output_type": "display_data"
    },
    {
     "data": {
      "text/html": [
       "\n",
       "        <iframe\n",
       "            width=\"950\"\n",
       "            height=\"700\"\n",
       "            src=\"tmp8dxpxjyx.html\"\n",
       "            frameborder=\"0\"\n",
       "            allowfullscreen\n",
       "        ></iframe>\n",
       "        "
      ],
      "text/plain": [
       "<IPython.lib.display.IFrame at 0x28d92733c10>"
      ]
     },
     "metadata": {},
     "output_type": "display_data"
    },
    {
     "data": {
      "text/markdown": [
       "**Predicted**"
      ],
      "text/plain": [
       "<IPython.core.display.Markdown object>"
      ]
     },
     "metadata": {},
     "output_type": "display_data"
    },
    {
     "data": {
      "text/html": [
       "\n",
       "        <iframe\n",
       "            width=\"950\"\n",
       "            height=\"700\"\n",
       "            src=\"tmphyekwmhp.html\"\n",
       "            frameborder=\"0\"\n",
       "            allowfullscreen\n",
       "        ></iframe>\n",
       "        "
      ],
      "text/plain": [
       "<IPython.lib.display.IFrame at 0x28d9a05fac0>"
      ]
     },
     "metadata": {},
     "output_type": "display_data"
    }
   ],
   "source": [
    "test_entry = test_dataset.take(1)\n",
    "\n",
    "for image, seq in test_entry:\n",
    "    actual = tokenizer.sequences_to_texts([seq.numpy()])[0].replace(\"<PAD>\", \"\")\n",
    "    predicted, attention = evaluate(image)\n",
    "    predicted = ' '.join(predicted)\n",
    "    print(\"Actual DSL: \", actual)\n",
    "    print(\"Predicted DSL: \", predicted)\n",
    "    plot_attention(image.numpy(), predicted.split(), attention, 20)\n",
    "    display(Markdown('**Actual**'))\n",
    "    dsl_to_iframe(actual.split())\n",
    "    display(Markdown('**Predicted**'))\n",
    "    dsl_to_iframe(predicted.split())"
   ]
  },
  {
   "cell_type": "markdown",
   "metadata": {},
   "source": [
    "**Calculate BLEU Metric**"
   ]
  },
  {
   "cell_type": "code",
   "execution_count": 34,
   "metadata": {},
   "outputs": [
    {
     "name": "stdout",
     "output_type": "stream",
     "text": [
      "Predicted count: 350\r"
     ]
    }
   ],
   "source": [
    "def score(dataset, verbose=False):\n",
    "    actual, predicted = list(), list()\n",
    "    i = 0\n",
    "    for image, seq in dataset:\n",
    "        act = tokenizer.sequences_to_texts([seq.numpy()])[0].replace(\"<PAD>\", \"\").split()\n",
    "        pred, _ = evaluate(image)\n",
    "        pred = [\"<START>\"] + pred\n",
    "        if verbose:\n",
    "            print(\"\\n\\nActual DSL---->\\n\", act)\n",
    "            print(\"\\nPredicted DSL---->\\n\", pred)\n",
    "        else:\n",
    "            print(\"Predicted count: \" + str(i + 1), end='\\r', flush=True)\n",
    "        actual.append([act])\n",
    "        predicted.append(pred)\n",
    "        i += 1\n",
    "    bleu = corpus_bleu(actual, predicted)\n",
    "    \n",
    "    _actual = list(map(lambda p: ' '.join(p[0]), actual))\n",
    "    _predicted = list(map(lambda p: ' '.join(p), predicted))\n",
    "    _rouge = Rouge()\n",
    "    rouge = _rouge.get_scores(_predicted, _actual, avg=True)\n",
    "    return bleu, rouge,  actual, predicted\n",
    "        \n",
    "bleu, rouge, actual, predicted = score(test_dataset)"
   ]
  },
  {
   "cell_type": "code",
   "execution_count": 35,
   "metadata": {},
   "outputs": [
    {
     "name": "stdout",
     "output_type": "stream",
     "text": [
      "0.48506370471640675\n",
      "{'rouge-1': {'f': 0.6452207433584074, 'p': 0.8425631511005696, 'r': 0.6278362351218074}, 'rouge-2': {'f': 0.6077783283760563, 'p': 0.8060333834923373, 'r': 0.5911744756004415}, 'rouge-l': {'f': 0.8574748637560506, 'p': 0.929592352092352, 'r': 0.8016666666666661}}\n"
     ]
    }
   ],
   "source": [
    "print(bleu)\n",
    "print(rouge)"
   ]
  },
  {
   "cell_type": "code",
   "execution_count": null,
   "metadata": {},
   "outputs": [],
   "source": []
  }
 ],
 "metadata": {
  "kernelspec": {
   "display_name": "Python 3",
   "language": "python",
   "name": "python3"
  },
  "language_info": {
   "codemirror_mode": {
    "name": "ipython",
    "version": 3
   },
   "file_extension": ".py",
   "mimetype": "text/x-python",
   "name": "python",
   "nbconvert_exporter": "python",
   "pygments_lexer": "ipython3",
   "version": "3.8.3"
  }
 },
 "nbformat": 4,
 "nbformat_minor": 4
}
